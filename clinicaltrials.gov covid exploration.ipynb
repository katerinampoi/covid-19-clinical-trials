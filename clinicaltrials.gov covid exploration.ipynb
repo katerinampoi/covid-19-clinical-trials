{
 "cells": [
  {
   "cell_type": "markdown",
   "metadata": {},
   "source": [
    "## Corticosteroids and Tocilizumab: Overview of Clinical Trials in COVID-19"
   ]
  },
  {
   "cell_type": "markdown",
   "metadata": {},
   "source": [
    "Data was retrieved from the clinicaltrial.gov API using Python. The first search was conducted under the umbrella term ”SARS-CoV-2”.Trials are filtered by “Trial type = Intervention” and “Type of intervention = Drug”. \n",
    "\n",
    "Corticosteroids:\n",
    "A list of corticosteroid agents taken from DrugBank is used to retrieve interventional trials testing steroid drugs against covid-19 disease. Trials are filtered “randomized” in term of trial type  and “recruiting” or “completed” in terms of overall status. The final trials are viewed “manually” and some of them are selected according to the Phase of the trial and the closest primary completion date.\n",
    "\n",
    "Tocilizumab: \n"
   ]
  },
  {
   "cell_type": "code",
   "execution_count": 1,
   "metadata": {
    "scrolled": true
   },
   "outputs": [],
   "source": [
    "import pandas as pd\n",
    "import requests\n",
    "import numpy\n",
    "import seaborn as sns\n",
    "import plotly.express as px\n",
    "import psutil"
   ]
  },
  {
   "cell_type": "code",
   "execution_count": 2,
   "metadata": {
    "scrolled": true
   },
   "outputs": [
    {
     "name": "stdout",
     "output_type": "stream",
     "text": [
      "Requesting from 1 to 100\n",
      "Requesting from 101 to 200\n",
      "Requesting from 201 to 300\n",
      "Requesting from 301 to 400\n",
      "Requesting from 401 to 500\n",
      "Requesting from 501 to 600\n",
      "Requesting from 601 to 700\n",
      "Requesting from 701 to 800\n",
      "Requesting from 801 to 900\n",
      "Requesting from 901 to 1000\n",
      "Requesting from 1001 to 1100\n",
      "Requesting from 1101 to 1200\n",
      "Requesting from 1201 to 1300\n",
      "Requesting from 1301 to 1400\n",
      "Requesting from 1401 to 1500\n",
      "Requesting from 1501 to 1600\n",
      "Requesting from 1601 to 1700\n",
      "Requesting from 1701 to 1800\n",
      "Requesting from 1801 to 1900\n",
      "Requesting from 1901 to 2000\n",
      "Requesting from 2001 to 2100\n",
      "Requesting from 2101 to 2200\n",
      "Requesting from 2201 to 2300\n",
      "Requesting from 2301 to 2400\n",
      "Requesting from 2401 to 2500\n",
      "Requesting from 2501 to 2600\n",
      "Requesting from 2601 to 2700\n",
      "Requesting from 2701 to 2800\n",
      "Requesting from 2801 to 2900\n",
      "Requesting from 2901 to 3000\n",
      "Requesting from 3001 to 3100\n",
      "Requesting from 3101 to 3200\n",
      "Requesting from 3201 to 3300\n",
      "Requesting from 3301 to 3400\n"
     ]
    }
   ],
   "source": [
    "results_all = []\n",
    "results = None\n",
    "from_rank=0\n",
    "continue_request = True\n",
    "while continue_request:\n",
    "    print('Requesting from {} to {}'.format(str(from_rank*100+1), str(from_rank*100+100)))\n",
    "    api_url = \"https://clinicaltrials.gov/api/query/study_fields?\"\\\n",
    "    \"expr=SARS-CoV-2+&fields=StudyFirstPostDate%2CNCTId%2CBriefTitle%2CCondition%2CEligibilityCriteria%2CResultsFirstPostDate%2C\"\\\n",
    "    \"Phase%2CDesignAllocation%2COverallStatus%2CInterventionName%2CStudyType%2CStartDate%2CInterventionType%2CCompletionDate&\"\\\n",
    "    \"min_rnk=\"+str(from_rank*100+1)+\"&max_rnk=\"+str(from_rank*100+100)+\"&fmt=json\"\n",
    "    if results:\n",
    "        continue_request = results[\"StudyFieldsResponse\"][\"NStudiesFound\"] >= from_rank*100+100\n",
    "    from_rank += 1\n",
    "    \n",
    "    r = requests.get(api_url)\n",
    "    results = r.json()\n",
    "    results_all.append(results)"
   ]
  },
  {
   "cell_type": "code",
   "execution_count": 3,
   "metadata": {
    "scrolled": true
   },
   "outputs": [],
   "source": [
    "clinical_trials_list_dfs = []\n",
    "for results in results_all:\n",
    "    try:\n",
    "        study_fields = results[\"StudyFieldsResponse\"][\"StudyFields\"]\n",
    "        study_fields_new = []\n",
    "        for study in study_fields:\n",
    "            study_new = {}\n",
    "            for key, value in study.items():\n",
    "                \n",
    "                if type(value) == list and key not in \"Phase\":\n",
    "                    try:\n",
    "                        study_new[key] = \" \".join(value)\n",
    "                    except IndexError:\n",
    "                        study_new[key] = value\n",
    "                else:\n",
    "                    study_new[key] = value\n",
    "            study_fields_new.append(study_new)\n",
    "        clinical_trials_df = pd.DataFrame(study_fields_new)\n",
    "        clinical_trials_list_dfs.append(clinical_trials_df)\n",
    "        # display(clinical_trials_df.head())\n",
    "    except KeyError:\n",
    "        print(\"No results found\")    "
   ]
  },
  {
   "cell_type": "markdown",
   "metadata": {},
   "source": [
    "All trilas retreived under the search term \"SARS-CoV-2\" are collected as a list"
   ]
  },
  {
   "cell_type": "code",
   "execution_count": 4,
   "metadata": {
    "scrolled": false
   },
   "outputs": [
    {
     "data": {
      "text/html": [
       "<div>\n",
       "<style scoped>\n",
       "    .dataframe tbody tr th:only-of-type {\n",
       "        vertical-align: middle;\n",
       "    }\n",
       "\n",
       "    .dataframe tbody tr th {\n",
       "        vertical-align: top;\n",
       "    }\n",
       "\n",
       "    .dataframe thead th {\n",
       "        text-align: right;\n",
       "    }\n",
       "</style>\n",
       "<table border=\"1\" class=\"dataframe\">\n",
       "  <thead>\n",
       "    <tr style=\"text-align: right;\">\n",
       "      <th></th>\n",
       "      <th>BriefTitle</th>\n",
       "      <th>CompletionDate</th>\n",
       "      <th>Condition</th>\n",
       "      <th>DesignAllocation</th>\n",
       "      <th>EligibilityCriteria</th>\n",
       "      <th>InterventionName</th>\n",
       "      <th>InterventionType</th>\n",
       "      <th>NCTId</th>\n",
       "      <th>OverallStatus</th>\n",
       "      <th>Phase</th>\n",
       "      <th>Rank</th>\n",
       "      <th>ResultsFirstPostDate</th>\n",
       "      <th>StartDate</th>\n",
       "      <th>StudyFirstPostDate</th>\n",
       "      <th>StudyType</th>\n",
       "    </tr>\n",
       "  </thead>\n",
       "  <tbody>\n",
       "    <tr>\n",
       "      <th>0</th>\n",
       "      <td>Association Between BMI and COVID-19</td>\n",
       "      <td>September 30, 2020</td>\n",
       "      <td>SARS-CoV 2</td>\n",
       "      <td></td>\n",
       "      <td>Inclusion Criteria:\\n\\nParticipant is aged 18 ...</td>\n",
       "      <td>Patients admitted to Intensive Care Unit with ...</td>\n",
       "      <td>Other</td>\n",
       "      <td>NCT04391738</td>\n",
       "      <td>Active, not recruiting</td>\n",
       "      <td>[]</td>\n",
       "      <td>1</td>\n",
       "      <td></td>\n",
       "      <td>February 1, 2020</td>\n",
       "      <td>May 18, 2020</td>\n",
       "      <td>Observational</td>\n",
       "    </tr>\n",
       "    <tr>\n",
       "      <th>1</th>\n",
       "      <td>Efficacy, Safety and Immunogenicity Study of S...</td>\n",
       "      <td>September 2021</td>\n",
       "      <td>SARS-CoV2 Infection</td>\n",
       "      <td>Randomized</td>\n",
       "      <td>Inclusion Criteria:\\n\\nClinically healthy adul...</td>\n",
       "      <td>SARS-CoV-2 vaccine (inactivated) Placebo</td>\n",
       "      <td>Biological Biological</td>\n",
       "      <td>NCT04508075</td>\n",
       "      <td>Recruiting</td>\n",
       "      <td>[Phase 3]</td>\n",
       "      <td>2</td>\n",
       "      <td></td>\n",
       "      <td>August 10, 2020</td>\n",
       "      <td>August 11, 2020</td>\n",
       "      <td>Interventional</td>\n",
       "    </tr>\n",
       "    <tr>\n",
       "      <th>2</th>\n",
       "      <td>Rapid SARS-CoV-2 IgG Antibody Testing in High ...</td>\n",
       "      <td>January 1, 2021</td>\n",
       "      <td>SARS-CoV-2</td>\n",
       "      <td></td>\n",
       "      <td>Inclusion Criteria:\\n\\nHigh risk healthcare wo...</td>\n",
       "      <td>SARS-CoV-2 IgG Antibody Testing Kit</td>\n",
       "      <td>Diagnostic Test</td>\n",
       "      <td>NCT04334876</td>\n",
       "      <td>Not yet recruiting</td>\n",
       "      <td>[]</td>\n",
       "      <td>3</td>\n",
       "      <td></td>\n",
       "      <td>April 1, 2020</td>\n",
       "      <td>April 6, 2020</td>\n",
       "      <td>Observational</td>\n",
       "    </tr>\n",
       "    <tr>\n",
       "      <th>3</th>\n",
       "      <td>Antibody Detection in COVID-19 Cured Patients ...</td>\n",
       "      <td>June 3, 2020</td>\n",
       "      <td>COVID SARS-CoV-2</td>\n",
       "      <td></td>\n",
       "      <td>Inclusion Criteria:\\n\\nsigned Informed Consent...</td>\n",
       "      <td>Quantitative analysis of anti-SARS-CoV-2-antib...</td>\n",
       "      <td>Diagnostic Test Diagnostic Test</td>\n",
       "      <td>NCT04453280</td>\n",
       "      <td>Completed</td>\n",
       "      <td>[]</td>\n",
       "      <td>4</td>\n",
       "      <td></td>\n",
       "      <td>May 18, 2020</td>\n",
       "      <td>July 1, 2020</td>\n",
       "      <td>Observational</td>\n",
       "    </tr>\n",
       "    <tr>\n",
       "      <th>4</th>\n",
       "      <td>Oncological Surgery in Times of COVID-19: Effe...</td>\n",
       "      <td>December 31, 2020</td>\n",
       "      <td>SARS-CoV-2 Oncology Surgery</td>\n",
       "      <td></td>\n",
       "      <td>Inclusion Criteria:\\n\\nPatients with elective ...</td>\n",
       "      <td>PT-PCR test for SARS-CoV-2</td>\n",
       "      <td>Diagnostic Test</td>\n",
       "      <td>NCT04434261</td>\n",
       "      <td>Recruiting</td>\n",
       "      <td>[]</td>\n",
       "      <td>5</td>\n",
       "      <td></td>\n",
       "      <td>May 11, 2020</td>\n",
       "      <td>June 16, 2020</td>\n",
       "      <td>Observational</td>\n",
       "    </tr>\n",
       "    <tr>\n",
       "      <th>5</th>\n",
       "      <td>Humoral Immunity Against SARS-CoV-2 in Liver T...</td>\n",
       "      <td>June 30, 2021</td>\n",
       "      <td>Liver Transplant Infection Covid19 Mortality I...</td>\n",
       "      <td></td>\n",
       "      <td>Inclusion Criteria:\\n\\nPatients recovered of c...</td>\n",
       "      <td>CLIA of IgG and IgM against SARS-Cov-2</td>\n",
       "      <td>Diagnostic Test</td>\n",
       "      <td>NCT04410471</td>\n",
       "      <td>Recruiting</td>\n",
       "      <td>[]</td>\n",
       "      <td>6</td>\n",
       "      <td></td>\n",
       "      <td>May 29, 2020</td>\n",
       "      <td>June 1, 2020</td>\n",
       "      <td>Observational</td>\n",
       "    </tr>\n",
       "    <tr>\n",
       "      <th>6</th>\n",
       "      <td>COVID-19 and Pregnancy Outcomes</td>\n",
       "      <td>December 2023</td>\n",
       "      <td>Coronavirus Infection Pregnancy Complications ...</td>\n",
       "      <td></td>\n",
       "      <td>Inclusion Criteria: Pregnant women infected wi...</td>\n",
       "      <td>RT PCR SARS-CoV-2</td>\n",
       "      <td>Diagnostic Test</td>\n",
       "      <td>NCT04416373</td>\n",
       "      <td>Recruiting</td>\n",
       "      <td>[]</td>\n",
       "      <td>7</td>\n",
       "      <td></td>\n",
       "      <td>March 22, 2020</td>\n",
       "      <td>June 4, 2020</td>\n",
       "      <td>Observational</td>\n",
       "    </tr>\n",
       "    <tr>\n",
       "      <th>7</th>\n",
       "      <td>Maternal-foetal Transmission of SARS-Cov-2</td>\n",
       "      <td>May 2021</td>\n",
       "      <td>Maternal Fetal Infection Transmission COVID-19...</td>\n",
       "      <td></td>\n",
       "      <td>Inclusion Criteria:\\n\\nAll pregnant women SARS...</td>\n",
       "      <td>Diagnosis of SARS-Cov2 by RT-PCR and : IgG, Ig...</td>\n",
       "      <td>Diagnostic Test</td>\n",
       "      <td>NCT04395924</td>\n",
       "      <td>Recruiting</td>\n",
       "      <td>[]</td>\n",
       "      <td>8</td>\n",
       "      <td></td>\n",
       "      <td>May 5, 2020</td>\n",
       "      <td>May 20, 2020</td>\n",
       "      <td>Observational</td>\n",
       "    </tr>\n",
       "    <tr>\n",
       "      <th>8</th>\n",
       "      <td>Study of the SARS-COV-2 (COVID-19) Serological...</td>\n",
       "      <td>July 31, 2020</td>\n",
       "      <td>Sars-CoV2</td>\n",
       "      <td></td>\n",
       "      <td>Inclusion Criteria:\\n\\nArmy Training Hospital ...</td>\n",
       "      <td>Anti-SARS-CoV2 Serology Questionnaire</td>\n",
       "      <td>Diagnostic Test Other</td>\n",
       "      <td>NCT04387838</td>\n",
       "      <td>Recruiting</td>\n",
       "      <td>[]</td>\n",
       "      <td>9</td>\n",
       "      <td></td>\n",
       "      <td>May 14, 2020</td>\n",
       "      <td>May 14, 2020</td>\n",
       "      <td>Observational</td>\n",
       "    </tr>\n",
       "    <tr>\n",
       "      <th>9</th>\n",
       "      <td>SARS-CoV-2 Disguise Study</td>\n",
       "      <td>November 30, 2020</td>\n",
       "      <td>Sars-CoV2</td>\n",
       "      <td></td>\n",
       "      <td>Inclusion Criteria:\\n\\nAsymptomatic medical em...</td>\n",
       "      <td>SARS-CoV-2-test SARS-CoV-2 questionnaire survey</td>\n",
       "      <td>Diagnostic Test Other</td>\n",
       "      <td>NCT04395794</td>\n",
       "      <td>Recruiting</td>\n",
       "      <td>[]</td>\n",
       "      <td>10</td>\n",
       "      <td></td>\n",
       "      <td>May 7, 2020</td>\n",
       "      <td>May 20, 2020</td>\n",
       "      <td>Observational</td>\n",
       "    </tr>\n",
       "  </tbody>\n",
       "</table>\n",
       "</div>"
      ],
      "text/plain": [
       "                                          BriefTitle      CompletionDate  \\\n",
       "0               Association Between BMI and COVID-19  September 30, 2020   \n",
       "1  Efficacy, Safety and Immunogenicity Study of S...      September 2021   \n",
       "2  Rapid SARS-CoV-2 IgG Antibody Testing in High ...     January 1, 2021   \n",
       "3  Antibody Detection in COVID-19 Cured Patients ...        June 3, 2020   \n",
       "4  Oncological Surgery in Times of COVID-19: Effe...   December 31, 2020   \n",
       "5  Humoral Immunity Against SARS-CoV-2 in Liver T...       June 30, 2021   \n",
       "6                    COVID-19 and Pregnancy Outcomes       December 2023   \n",
       "7         Maternal-foetal Transmission of SARS-Cov-2            May 2021   \n",
       "8  Study of the SARS-COV-2 (COVID-19) Serological...       July 31, 2020   \n",
       "9                          SARS-CoV-2 Disguise Study   November 30, 2020   \n",
       "\n",
       "                                           Condition DesignAllocation  \\\n",
       "0                                         SARS-CoV 2                    \n",
       "1                                SARS-CoV2 Infection       Randomized   \n",
       "2                                         SARS-CoV-2                    \n",
       "3                                   COVID SARS-CoV-2                    \n",
       "4                        SARS-CoV-2 Oncology Surgery                    \n",
       "5  Liver Transplant Infection Covid19 Mortality I...                    \n",
       "6  Coronavirus Infection Pregnancy Complications ...                    \n",
       "7  Maternal Fetal Infection Transmission COVID-19...                    \n",
       "8                                          Sars-CoV2                    \n",
       "9                                          Sars-CoV2                    \n",
       "\n",
       "                                 EligibilityCriteria  \\\n",
       "0  Inclusion Criteria:\\n\\nParticipant is aged 18 ...   \n",
       "1  Inclusion Criteria:\\n\\nClinically healthy adul...   \n",
       "2  Inclusion Criteria:\\n\\nHigh risk healthcare wo...   \n",
       "3  Inclusion Criteria:\\n\\nsigned Informed Consent...   \n",
       "4  Inclusion Criteria:\\n\\nPatients with elective ...   \n",
       "5  Inclusion Criteria:\\n\\nPatients recovered of c...   \n",
       "6  Inclusion Criteria: Pregnant women infected wi...   \n",
       "7  Inclusion Criteria:\\n\\nAll pregnant women SARS...   \n",
       "8  Inclusion Criteria:\\n\\nArmy Training Hospital ...   \n",
       "9  Inclusion Criteria:\\n\\nAsymptomatic medical em...   \n",
       "\n",
       "                                    InterventionName  \\\n",
       "0  Patients admitted to Intensive Care Unit with ...   \n",
       "1           SARS-CoV-2 vaccine (inactivated) Placebo   \n",
       "2                SARS-CoV-2 IgG Antibody Testing Kit   \n",
       "3  Quantitative analysis of anti-SARS-CoV-2-antib...   \n",
       "4                         PT-PCR test for SARS-CoV-2   \n",
       "5             CLIA of IgG and IgM against SARS-Cov-2   \n",
       "6                                  RT PCR SARS-CoV-2   \n",
       "7  Diagnosis of SARS-Cov2 by RT-PCR and : IgG, Ig...   \n",
       "8              Anti-SARS-CoV2 Serology Questionnaire   \n",
       "9    SARS-CoV-2-test SARS-CoV-2 questionnaire survey   \n",
       "\n",
       "                  InterventionType        NCTId           OverallStatus  \\\n",
       "0                            Other  NCT04391738  Active, not recruiting   \n",
       "1            Biological Biological  NCT04508075              Recruiting   \n",
       "2                  Diagnostic Test  NCT04334876      Not yet recruiting   \n",
       "3  Diagnostic Test Diagnostic Test  NCT04453280               Completed   \n",
       "4                  Diagnostic Test  NCT04434261              Recruiting   \n",
       "5                  Diagnostic Test  NCT04410471              Recruiting   \n",
       "6                  Diagnostic Test  NCT04416373              Recruiting   \n",
       "7                  Diagnostic Test  NCT04395924              Recruiting   \n",
       "8            Diagnostic Test Other  NCT04387838              Recruiting   \n",
       "9            Diagnostic Test Other  NCT04395794              Recruiting   \n",
       "\n",
       "       Phase  Rank ResultsFirstPostDate         StartDate StudyFirstPostDate  \\\n",
       "0         []     1                       February 1, 2020       May 18, 2020   \n",
       "1  [Phase 3]     2                        August 10, 2020    August 11, 2020   \n",
       "2         []     3                          April 1, 2020      April 6, 2020   \n",
       "3         []     4                           May 18, 2020       July 1, 2020   \n",
       "4         []     5                           May 11, 2020      June 16, 2020   \n",
       "5         []     6                           May 29, 2020       June 1, 2020   \n",
       "6         []     7                         March 22, 2020       June 4, 2020   \n",
       "7         []     8                            May 5, 2020       May 20, 2020   \n",
       "8         []     9                           May 14, 2020       May 14, 2020   \n",
       "9         []    10                            May 7, 2020       May 20, 2020   \n",
       "\n",
       "        StudyType  \n",
       "0   Observational  \n",
       "1  Interventional  \n",
       "2   Observational  \n",
       "3   Observational  \n",
       "4   Observational  \n",
       "5   Observational  \n",
       "6   Observational  \n",
       "7   Observational  \n",
       "8   Observational  \n",
       "9   Observational  "
      ]
     },
     "execution_count": 4,
     "metadata": {},
     "output_type": "execute_result"
    }
   ],
   "source": [
    "merged_df = pd.concat(clinical_trials_list_dfs)\n",
    "merged_df.head(n=10)"
   ]
  },
  {
   "cell_type": "markdown",
   "metadata": {},
   "source": [
    "The total number of trials being conducted for covid-19 disease:"
   ]
  },
  {
   "cell_type": "code",
   "execution_count": 15,
   "metadata": {
    "scrolled": true
   },
   "outputs": [
    {
     "data": {
      "text/plain": [
       "(2811, 15)"
      ]
     },
     "execution_count": 15,
     "metadata": {},
     "output_type": "execute_result"
    }
   ],
   "source": [
    "merged_df.shape"
   ]
  },
  {
   "cell_type": "code",
   "execution_count": 16,
   "metadata": {},
   "outputs": [],
   "source": [
    "merged_df['StudyFirstPostDate'] = pd.to_datetime(merged_df['StudyFirstPostDate'])"
   ]
  },
  {
   "cell_type": "code",
   "execution_count": 17,
   "metadata": {},
   "outputs": [],
   "source": [
    "merged_df = merged_df.loc[merged_df['StudyFirstPostDate'] < \"July 21, 2020\"]"
   ]
  },
  {
   "cell_type": "code",
   "execution_count": 18,
   "metadata": {},
   "outputs": [
    {
     "data": {
      "text/plain": [
       "(2811, 15)"
      ]
     },
     "execution_count": 18,
     "metadata": {},
     "output_type": "execute_result"
    }
   ],
   "source": [
    "merged_df.shape"
   ]
  },
  {
   "cell_type": "code",
   "execution_count": 19,
   "metadata": {
    "scrolled": true
   },
   "outputs": [
    {
     "data": {
      "text/html": [
       "<div>\n",
       "<style scoped>\n",
       "    .dataframe tbody tr th:only-of-type {\n",
       "        vertical-align: middle;\n",
       "    }\n",
       "\n",
       "    .dataframe tbody tr th {\n",
       "        vertical-align: top;\n",
       "    }\n",
       "\n",
       "    .dataframe thead th {\n",
       "        text-align: right;\n",
       "    }\n",
       "</style>\n",
       "<table border=\"1\" class=\"dataframe\">\n",
       "  <thead>\n",
       "    <tr style=\"text-align: right;\">\n",
       "      <th></th>\n",
       "      <th>BriefTitle</th>\n",
       "      <th>CompletionDate</th>\n",
       "      <th>Condition</th>\n",
       "      <th>DesignAllocation</th>\n",
       "      <th>EligibilityCriteria</th>\n",
       "      <th>InterventionName</th>\n",
       "      <th>InterventionType</th>\n",
       "      <th>NCTId</th>\n",
       "      <th>OverallStatus</th>\n",
       "      <th>Phase</th>\n",
       "      <th>Rank</th>\n",
       "      <th>ResultsFirstPostDate</th>\n",
       "      <th>StartDate</th>\n",
       "      <th>StudyFirstPostDate</th>\n",
       "      <th>StudyType</th>\n",
       "    </tr>\n",
       "  </thead>\n",
       "  <tbody>\n",
       "    <tr>\n",
       "      <th>12</th>\n",
       "      <td>Convalescent Plasma to Limit SARS-CoV-2 Associ...</td>\n",
       "      <td>January 31, 2023</td>\n",
       "      <td>SARS-CoV 2</td>\n",
       "      <td>Randomized</td>\n",
       "      <td>Inclusion Criteria:\\n\\n≥ 18 years of age\\nComp...</td>\n",
       "      <td>SARS-CoV-2 convalescent plasma Plasma from a v...</td>\n",
       "      <td>Biological Biological</td>\n",
       "      <td>NCT04373460</td>\n",
       "      <td>Recruiting</td>\n",
       "      <td>[Phase 2]</td>\n",
       "      <td>13</td>\n",
       "      <td></td>\n",
       "      <td>June 3, 2020</td>\n",
       "      <td>2020-05-04</td>\n",
       "      <td>Interventional</td>\n",
       "    </tr>\n",
       "    <tr>\n",
       "      <th>16</th>\n",
       "      <td>Is Adipose Tissue a Reservoir for SARS-Cov2 Sp...</td>\n",
       "      <td>July 9, 2021</td>\n",
       "      <td>Covid-19 Patients</td>\n",
       "      <td>N/A</td>\n",
       "      <td>Inclusion Criteria:\\n\\nMale or female ≥ 18 yea...</td>\n",
       "      <td>biopsies of subcutaneous adipose tissue</td>\n",
       "      <td>Procedure</td>\n",
       "      <td>NCT04427878</td>\n",
       "      <td>Not yet recruiting</td>\n",
       "      <td>[Not Applicable]</td>\n",
       "      <td>17</td>\n",
       "      <td></td>\n",
       "      <td>July 1, 2020</td>\n",
       "      <td>2020-06-11</td>\n",
       "      <td>Interventional</td>\n",
       "    </tr>\n",
       "    <tr>\n",
       "      <th>29</th>\n",
       "      <td>Part Two of Novel Adoptive Cellular Therapy Wi...</td>\n",
       "      <td>December 2022</td>\n",
       "      <td>COVID-19</td>\n",
       "      <td>Non-Randomized</td>\n",
       "      <td>Inclusion Criteria:\\n\\nAge 1 to 90 years\\nTest...</td>\n",
       "      <td>SARS-CoV-2 Specific T Cells</td>\n",
       "      <td>Biological</td>\n",
       "      <td>NCT04457726</td>\n",
       "      <td>Recruiting</td>\n",
       "      <td>[Phase 1, Phase 2]</td>\n",
       "      <td>30</td>\n",
       "      <td></td>\n",
       "      <td>July 1, 2020</td>\n",
       "      <td>2020-07-07</td>\n",
       "      <td>Interventional</td>\n",
       "    </tr>\n",
       "    <tr>\n",
       "      <th>33</th>\n",
       "      <td>Convalescent Plasma in ICU Patients With COVID...</td>\n",
       "      <td>May 2021</td>\n",
       "      <td>Covid-19 Sars-CoV2</td>\n",
       "      <td>N/A</td>\n",
       "      <td>Inclusion Criteria:\\n\\n18 years of age or olde...</td>\n",
       "      <td>Multiple Doses of Anti-SARS-CoV-2 convalescent...</td>\n",
       "      <td>Biological</td>\n",
       "      <td>NCT04353206</td>\n",
       "      <td>Recruiting</td>\n",
       "      <td>[Early Phase 1]</td>\n",
       "      <td>34</td>\n",
       "      <td></td>\n",
       "      <td>June 27, 2020</td>\n",
       "      <td>2020-04-20</td>\n",
       "      <td>Interventional</td>\n",
       "    </tr>\n",
       "    <tr>\n",
       "      <th>34</th>\n",
       "      <td>Epidemiological Study of Seroprevalence Agains...</td>\n",
       "      <td>July 24, 2020</td>\n",
       "      <td>Coronavirus Infection Prevalence</td>\n",
       "      <td>N/A</td>\n",
       "      <td>Inclusion Criteria:\\n\\nPerson who has received...</td>\n",
       "      <td>Anti-SARS-CoV-2 IgT seropositivity</td>\n",
       "      <td>Biological</td>\n",
       "      <td>NCT04448769</td>\n",
       "      <td>Completed</td>\n",
       "      <td>[Not Applicable]</td>\n",
       "      <td>35</td>\n",
       "      <td></td>\n",
       "      <td>June 26, 2020</td>\n",
       "      <td>2020-06-26</td>\n",
       "      <td>Interventional</td>\n",
       "    </tr>\n",
       "  </tbody>\n",
       "</table>\n",
       "</div>"
      ],
      "text/plain": [
       "                                           BriefTitle    CompletionDate  \\\n",
       "12  Convalescent Plasma to Limit SARS-CoV-2 Associ...  January 31, 2023   \n",
       "16  Is Adipose Tissue a Reservoir for SARS-Cov2 Sp...      July 9, 2021   \n",
       "29  Part Two of Novel Adoptive Cellular Therapy Wi...     December 2022   \n",
       "33  Convalescent Plasma in ICU Patients With COVID...          May 2021   \n",
       "34  Epidemiological Study of Seroprevalence Agains...     July 24, 2020   \n",
       "\n",
       "                           Condition DesignAllocation  \\\n",
       "12                        SARS-CoV 2       Randomized   \n",
       "16                 Covid-19 Patients              N/A   \n",
       "29                          COVID-19   Non-Randomized   \n",
       "33                Covid-19 Sars-CoV2              N/A   \n",
       "34  Coronavirus Infection Prevalence              N/A   \n",
       "\n",
       "                                  EligibilityCriteria  \\\n",
       "12  Inclusion Criteria:\\n\\n≥ 18 years of age\\nComp...   \n",
       "16  Inclusion Criteria:\\n\\nMale or female ≥ 18 yea...   \n",
       "29  Inclusion Criteria:\\n\\nAge 1 to 90 years\\nTest...   \n",
       "33  Inclusion Criteria:\\n\\n18 years of age or olde...   \n",
       "34  Inclusion Criteria:\\n\\nPerson who has received...   \n",
       "\n",
       "                                     InterventionName       InterventionType  \\\n",
       "12  SARS-CoV-2 convalescent plasma Plasma from a v...  Biological Biological   \n",
       "16            biopsies of subcutaneous adipose tissue              Procedure   \n",
       "29                        SARS-CoV-2 Specific T Cells             Biological   \n",
       "33  Multiple Doses of Anti-SARS-CoV-2 convalescent...             Biological   \n",
       "34                 Anti-SARS-CoV-2 IgT seropositivity             Biological   \n",
       "\n",
       "          NCTId       OverallStatus               Phase  Rank  \\\n",
       "12  NCT04373460          Recruiting           [Phase 2]    13   \n",
       "16  NCT04427878  Not yet recruiting    [Not Applicable]    17   \n",
       "29  NCT04457726          Recruiting  [Phase 1, Phase 2]    30   \n",
       "33  NCT04353206          Recruiting     [Early Phase 1]    34   \n",
       "34  NCT04448769           Completed    [Not Applicable]    35   \n",
       "\n",
       "   ResultsFirstPostDate      StartDate StudyFirstPostDate       StudyType  \n",
       "12                        June 3, 2020         2020-05-04  Interventional  \n",
       "16                        July 1, 2020         2020-06-11  Interventional  \n",
       "29                        July 1, 2020         2020-07-07  Interventional  \n",
       "33                       June 27, 2020         2020-04-20  Interventional  \n",
       "34                       June 26, 2020         2020-06-26  Interventional  "
      ]
     },
     "execution_count": 19,
     "metadata": {},
     "output_type": "execute_result"
    }
   ],
   "source": [
    "interventional_trials = merged_df.loc[merged_df[\"StudyType\"].str.contains(\"Interventional\")]\n",
    "interventional_trials.head()"
   ]
  },
  {
   "cell_type": "markdown",
   "metadata": {},
   "source": [
    "The number of all \"Interventional\" trials for covid-19:"
   ]
  },
  {
   "cell_type": "code",
   "execution_count": 20,
   "metadata": {
    "scrolled": true
   },
   "outputs": [
    {
     "data": {
      "text/plain": [
       "1595"
      ]
     },
     "execution_count": 20,
     "metadata": {},
     "output_type": "execute_result"
    }
   ],
   "source": [
    "interventional_trials[\"StudyType\"].shape[0]"
   ]
  },
  {
   "cell_type": "code",
   "execution_count": 21,
   "metadata": {
    "scrolled": true
   },
   "outputs": [
    {
     "data": {
      "text/html": [
       "<div>\n",
       "<style scoped>\n",
       "    .dataframe tbody tr th:only-of-type {\n",
       "        vertical-align: middle;\n",
       "    }\n",
       "\n",
       "    .dataframe tbody tr th {\n",
       "        vertical-align: top;\n",
       "    }\n",
       "\n",
       "    .dataframe thead th {\n",
       "        text-align: right;\n",
       "    }\n",
       "</style>\n",
       "<table border=\"1\" class=\"dataframe\">\n",
       "  <thead>\n",
       "    <tr style=\"text-align: right;\">\n",
       "      <th></th>\n",
       "      <th>BriefTitle</th>\n",
       "      <th>CompletionDate</th>\n",
       "      <th>Condition</th>\n",
       "      <th>DesignAllocation</th>\n",
       "      <th>EligibilityCriteria</th>\n",
       "      <th>InterventionName</th>\n",
       "      <th>InterventionType</th>\n",
       "      <th>NCTId</th>\n",
       "      <th>OverallStatus</th>\n",
       "      <th>Phase</th>\n",
       "      <th>Rank</th>\n",
       "      <th>ResultsFirstPostDate</th>\n",
       "      <th>StartDate</th>\n",
       "      <th>StudyFirstPostDate</th>\n",
       "      <th>StudyType</th>\n",
       "    </tr>\n",
       "  </thead>\n",
       "  <tbody>\n",
       "    <tr>\n",
       "      <th>42</th>\n",
       "      <td>Administration of Anti-SARS-CoV-2 Convalescent...</td>\n",
       "      <td>December 2021</td>\n",
       "      <td>COVID-19</td>\n",
       "      <td>Randomized</td>\n",
       "      <td>Inclusion Criteria:\\n\\nPatients ≥18 years of a...</td>\n",
       "      <td>anti-SARS-CoV-2 plasma Placebo</td>\n",
       "      <td>Drug Other</td>\n",
       "      <td>NCT04467151</td>\n",
       "      <td>Not yet recruiting</td>\n",
       "      <td>[Phase 2]</td>\n",
       "      <td>43</td>\n",
       "      <td></td>\n",
       "      <td>August 2020</td>\n",
       "      <td>2020-07-10</td>\n",
       "      <td>Interventional</td>\n",
       "    </tr>\n",
       "    <tr>\n",
       "      <th>55</th>\n",
       "      <td>Feasibility Study of Anti-SARS-CoV-2 Plasma Tr...</td>\n",
       "      <td>December 31, 2020</td>\n",
       "      <td>Severe Acute Respiratory Syndrome COVID</td>\n",
       "      <td>N/A</td>\n",
       "      <td>Inclusion Criteria:\\n\\nLaboratory confirmed CO...</td>\n",
       "      <td>SARS-CoV-2 plasma</td>\n",
       "      <td>Drug</td>\n",
       "      <td>NCT04411602</td>\n",
       "      <td>Recruiting</td>\n",
       "      <td>[Phase 1]</td>\n",
       "      <td>56</td>\n",
       "      <td></td>\n",
       "      <td>April 7, 2020</td>\n",
       "      <td>2020-06-02</td>\n",
       "      <td>Interventional</td>\n",
       "    </tr>\n",
       "    <tr>\n",
       "      <th>70</th>\n",
       "      <td>Hydroxychloroquine Chemoprophylaxis for COVID-...</td>\n",
       "      <td>October 15, 2020</td>\n",
       "      <td>SARS-CoV-2 Healthcare Workers</td>\n",
       "      <td>Randomized</td>\n",
       "      <td>Inclusion Criteria:\\n\\nAdult healthcare worker...</td>\n",
       "      <td>Hydroxychloroquine Placebo oral tablet</td>\n",
       "      <td>Drug Drug</td>\n",
       "      <td>NCT04370015</td>\n",
       "      <td>Not yet recruiting</td>\n",
       "      <td>[Not Applicable]</td>\n",
       "      <td>71</td>\n",
       "      <td></td>\n",
       "      <td>May 15, 2020</td>\n",
       "      <td>2020-04-30</td>\n",
       "      <td>Interventional</td>\n",
       "    </tr>\n",
       "    <tr>\n",
       "      <th>74</th>\n",
       "      <td>Prevention of SARS-CoV-2 in Hospital Workers s...</td>\n",
       "      <td>July 15, 2020</td>\n",
       "      <td>SARS-CoV-2 Infection</td>\n",
       "      <td>Randomized</td>\n",
       "      <td>Inclusion Criteria:\\n\\nHospital workers workin...</td>\n",
       "      <td>hydroxychloroquine azithromycin hydroxychloroq...</td>\n",
       "      <td>Drug Drug Drug</td>\n",
       "      <td>NCT04344379</td>\n",
       "      <td>Suspended</td>\n",
       "      <td>[Phase 3]</td>\n",
       "      <td>75</td>\n",
       "      <td></td>\n",
       "      <td>April 17, 2020</td>\n",
       "      <td>2020-04-14</td>\n",
       "      <td>Interventional</td>\n",
       "    </tr>\n",
       "    <tr>\n",
       "      <th>83</th>\n",
       "      <td>Peginterferon Lambda-1a for the Prevention and...</td>\n",
       "      <td>December 2021</td>\n",
       "      <td>Sars-CoV2</td>\n",
       "      <td>Randomized</td>\n",
       "      <td>Inclusion Criteria:\\n\\nWilling and able to pro...</td>\n",
       "      <td>Peginterferon lambda alfa-1a subcutaneous inje...</td>\n",
       "      <td>Drug Other</td>\n",
       "      <td>NCT04344600</td>\n",
       "      <td>Recruiting</td>\n",
       "      <td>[Phase 2]</td>\n",
       "      <td>84</td>\n",
       "      <td></td>\n",
       "      <td>May 29, 2020</td>\n",
       "      <td>2020-04-14</td>\n",
       "      <td>Interventional</td>\n",
       "    </tr>\n",
       "  </tbody>\n",
       "</table>\n",
       "</div>"
      ],
      "text/plain": [
       "                                           BriefTitle     CompletionDate  \\\n",
       "42  Administration of Anti-SARS-CoV-2 Convalescent...      December 2021   \n",
       "55  Feasibility Study of Anti-SARS-CoV-2 Plasma Tr...  December 31, 2020   \n",
       "70  Hydroxychloroquine Chemoprophylaxis for COVID-...   October 15, 2020   \n",
       "74  Prevention of SARS-CoV-2 in Hospital Workers s...      July 15, 2020   \n",
       "83  Peginterferon Lambda-1a for the Prevention and...      December 2021   \n",
       "\n",
       "                                  Condition DesignAllocation  \\\n",
       "42                                 COVID-19       Randomized   \n",
       "55  Severe Acute Respiratory Syndrome COVID              N/A   \n",
       "70            SARS-CoV-2 Healthcare Workers       Randomized   \n",
       "74                     SARS-CoV-2 Infection       Randomized   \n",
       "83                                Sars-CoV2       Randomized   \n",
       "\n",
       "                                  EligibilityCriteria  \\\n",
       "42  Inclusion Criteria:\\n\\nPatients ≥18 years of a...   \n",
       "55  Inclusion Criteria:\\n\\nLaboratory confirmed CO...   \n",
       "70  Inclusion Criteria:\\n\\nAdult healthcare worker...   \n",
       "74  Inclusion Criteria:\\n\\nHospital workers workin...   \n",
       "83  Inclusion Criteria:\\n\\nWilling and able to pro...   \n",
       "\n",
       "                                     InterventionName InterventionType  \\\n",
       "42                     anti-SARS-CoV-2 plasma Placebo       Drug Other   \n",
       "55                                  SARS-CoV-2 plasma             Drug   \n",
       "70             Hydroxychloroquine Placebo oral tablet        Drug Drug   \n",
       "74  hydroxychloroquine azithromycin hydroxychloroq...   Drug Drug Drug   \n",
       "83  Peginterferon lambda alfa-1a subcutaneous inje...       Drug Other   \n",
       "\n",
       "          NCTId       OverallStatus             Phase  Rank  \\\n",
       "42  NCT04467151  Not yet recruiting         [Phase 2]    43   \n",
       "55  NCT04411602          Recruiting         [Phase 1]    56   \n",
       "70  NCT04370015  Not yet recruiting  [Not Applicable]    71   \n",
       "74  NCT04344379           Suspended         [Phase 3]    75   \n",
       "83  NCT04344600          Recruiting         [Phase 2]    84   \n",
       "\n",
       "   ResultsFirstPostDate       StartDate StudyFirstPostDate       StudyType  \n",
       "42                          August 2020         2020-07-10  Interventional  \n",
       "55                        April 7, 2020         2020-06-02  Interventional  \n",
       "70                         May 15, 2020         2020-04-30  Interventional  \n",
       "74                       April 17, 2020         2020-04-14  Interventional  \n",
       "83                         May 29, 2020         2020-04-14  Interventional  "
      ]
     },
     "execution_count": 21,
     "metadata": {},
     "output_type": "execute_result"
    }
   ],
   "source": [
    "drug_trials = interventional_trials.loc[interventional_trials[\"InterventionType\"].str.contains(\"Drug\")]\n",
    "drug_trials.head()"
   ]
  },
  {
   "cell_type": "markdown",
   "metadata": {},
   "source": [
    "The number of interventional trials with \"intervention type = Drug\" for covid-19:"
   ]
  },
  {
   "cell_type": "code",
   "execution_count": 26,
   "metadata": {
    "scrolled": true
   },
   "outputs": [
    {
     "data": {
      "text/plain": [
       "(865, 16)"
      ]
     },
     "execution_count": 26,
     "metadata": {},
     "output_type": "execute_result"
    }
   ],
   "source": [
    "drug_trials.shape"
   ]
  },
  {
   "cell_type": "code",
   "execution_count": 27,
   "metadata": {},
   "outputs": [
    {
     "name": "stderr",
     "output_type": "stream",
     "text": [
      "c:\\users\\katerina\\appdata\\local\\programs\\python\\python37\\lib\\site-packages\\ipykernel_launcher.py:1: SettingWithCopyWarning: \n",
      "A value is trying to be set on a copy of a slice from a DataFrame.\n",
      "Try using .loc[row_indexer,col_indexer] = value instead\n",
      "\n",
      "See the caveats in the documentation: http://pandas.pydata.org/pandas-docs/stable/indexing.html#indexing-view-versus-copy\n",
      "  \"\"\"Entry point for launching an IPython kernel.\n"
     ]
    }
   ],
   "source": [
    "drug_trials[\"InterventionName_lower\"]=drug_trials[\"InterventionName\"].str.lower()\n"
   ]
  },
  {
   "cell_type": "markdown",
   "metadata": {},
   "source": [
    "Ret"
   ]
  },
  {
   "cell_type": "code",
   "execution_count": 28,
   "metadata": {},
   "outputs": [],
   "source": [
    "drug_trials_tocilizumab = drug_trials.loc[drug_trials[\"InterventionName_lower\"].str.contains(\"tocilizumab\")]"
   ]
  },
  {
   "cell_type": "markdown",
   "metadata": {},
   "source": [
    "35 trials containing tocilizumab found."
   ]
  },
  {
   "cell_type": "code",
   "execution_count": 17,
   "metadata": {},
   "outputs": [
    {
     "data": {
      "text/plain": [
       "(35, 16)"
      ]
     },
     "execution_count": 17,
     "metadata": {},
     "output_type": "execute_result"
    }
   ],
   "source": [
    "drug_trials_tocilizumab.shape"
   ]
  },
  {
   "cell_type": "code",
   "execution_count": 26,
   "metadata": {},
   "outputs": [
    {
     "data": {
      "text/html": [
       "<div>\n",
       "<style scoped>\n",
       "    .dataframe tbody tr th:only-of-type {\n",
       "        vertical-align: middle;\n",
       "    }\n",
       "\n",
       "    .dataframe tbody tr th {\n",
       "        vertical-align: top;\n",
       "    }\n",
       "\n",
       "    .dataframe thead th {\n",
       "        text-align: right;\n",
       "    }\n",
       "</style>\n",
       "<table border=\"1\" class=\"dataframe\">\n",
       "  <thead>\n",
       "    <tr style=\"text-align: right;\">\n",
       "      <th></th>\n",
       "      <th>BriefTitle</th>\n",
       "      <th>CompletionDate</th>\n",
       "      <th>Condition</th>\n",
       "      <th>DesignAllocation</th>\n",
       "      <th>EligibilityCriteria</th>\n",
       "      <th>InterventionName</th>\n",
       "      <th>InterventionType</th>\n",
       "      <th>NCTId</th>\n",
       "      <th>OverallStatus</th>\n",
       "      <th>Phase</th>\n",
       "      <th>Rank</th>\n",
       "      <th>ResultsFirstPostDate</th>\n",
       "      <th>StartDate</th>\n",
       "      <th>StudyFirstPostDate</th>\n",
       "      <th>StudyType</th>\n",
       "      <th>InterventionName_lower</th>\n",
       "    </tr>\n",
       "  </thead>\n",
       "  <tbody>\n",
       "    <tr>\n",
       "      <th>30</th>\n",
       "      <td>Efficacy of Tocilizumab on Patients With COVID-19</td>\n",
       "      <td>October 1, 2020</td>\n",
       "      <td>SARS-CoV 2</td>\n",
       "      <td>Randomized</td>\n",
       "      <td>Inclusion criteria:\\n\\nSubjects who meet all o...</td>\n",
       "      <td>Tocilizumab Placebos</td>\n",
       "      <td>Drug Drug</td>\n",
       "      <td>NCT04356937</td>\n",
       "      <td>Active, not recruiting</td>\n",
       "      <td>[Phase 3]</td>\n",
       "      <td>731</td>\n",
       "      <td></td>\n",
       "      <td>April 20, 2020</td>\n",
       "      <td>2020-04-22</td>\n",
       "      <td>Interventional</td>\n",
       "      <td>tocilizumab placebos</td>\n",
       "    </tr>\n",
       "    <tr>\n",
       "      <th>50</th>\n",
       "      <td>Prospective Study in Patients With Advanced or...</td>\n",
       "      <td>August 2020</td>\n",
       "      <td>SARS-CoV-2 (COVID-19) Infection Advanced or Me...</td>\n",
       "      <td>Randomized</td>\n",
       "      <td>Inclusion Criteria:\\n\\nI1. Age 18 or older at ...</td>\n",
       "      <td>Chloroquine analog (GNS651) Nivolumab Tocilizu...</td>\n",
       "      <td>Drug Drug Drug Other Drug Drug</td>\n",
       "      <td>NCT04333914</td>\n",
       "      <td>Suspended</td>\n",
       "      <td>[Phase 2]</td>\n",
       "      <td>751</td>\n",
       "      <td></td>\n",
       "      <td>April 15, 2020</td>\n",
       "      <td>2020-04-03</td>\n",
       "      <td>Interventional</td>\n",
       "      <td>chloroquine analog (gns651) nivolumab tocilizu...</td>\n",
       "    </tr>\n",
       "    <tr>\n",
       "      <th>22</th>\n",
       "      <td>Clinical Trial of Combined Use of Hydroxychlor...</td>\n",
       "      <td>October 2020</td>\n",
       "      <td>COVID-19</td>\n",
       "      <td>Randomized</td>\n",
       "      <td>Inclusion Criteria:\\n\\nSubject (or authorized ...</td>\n",
       "      <td>Tocilizumab Hydroxychloroquine Azithromycin</td>\n",
       "      <td>Drug Drug Drug</td>\n",
       "      <td>NCT04332094</td>\n",
       "      <td>Recruiting</td>\n",
       "      <td>[Phase 2]</td>\n",
       "      <td>1023</td>\n",
       "      <td></td>\n",
       "      <td>April 2, 2020</td>\n",
       "      <td>2020-04-02</td>\n",
       "      <td>Interventional</td>\n",
       "      <td>tocilizumab hydroxychloroquine azithromycin</td>\n",
       "    </tr>\n",
       "    <tr>\n",
       "      <th>40</th>\n",
       "      <td>Tocilizumab Treatment in Patients With COVID-19</td>\n",
       "      <td>August 1, 2021</td>\n",
       "      <td>Sars-CoV2</td>\n",
       "      <td>N/A</td>\n",
       "      <td>Inclusion Criteria:\\n\\nPatients 18 years or ol...</td>\n",
       "      <td>Tocilizumab</td>\n",
       "      <td>Drug</td>\n",
       "      <td>NCT04363853</td>\n",
       "      <td>Recruiting</td>\n",
       "      <td>[Phase 2]</td>\n",
       "      <td>1041</td>\n",
       "      <td></td>\n",
       "      <td>June 1, 2020</td>\n",
       "      <td>2020-04-27</td>\n",
       "      <td>Interventional</td>\n",
       "      <td>tocilizumab</td>\n",
       "    </tr>\n",
       "    <tr>\n",
       "      <th>66</th>\n",
       "      <td>Personalised Immunotherapy for SARS-CoV-2 (COV...</td>\n",
       "      <td>April 1, 2022</td>\n",
       "      <td>COVID-19 Virus Diseases Macrophage Activation ...</td>\n",
       "      <td>Non-Randomized</td>\n",
       "      <td>Inclusion Criteria:\\n\\nAge equal to or above 1...</td>\n",
       "      <td>Anakinra Tocilizumab</td>\n",
       "      <td>Drug Drug</td>\n",
       "      <td>NCT04339712</td>\n",
       "      <td>Recruiting</td>\n",
       "      <td>[Phase 2]</td>\n",
       "      <td>1067</td>\n",
       "      <td></td>\n",
       "      <td>April 2, 2020</td>\n",
       "      <td>2020-04-09</td>\n",
       "      <td>Interventional</td>\n",
       "      <td>anakinra tocilizumab</td>\n",
       "    </tr>\n",
       "    <tr>\n",
       "      <th>7</th>\n",
       "      <td>Study to Evaluate the Efficacy and Safety of T...</td>\n",
       "      <td>October 31, 2020</td>\n",
       "      <td>COVID-19</td>\n",
       "      <td>Randomized</td>\n",
       "      <td>Inclusion Criteria:\\n\\n1) Hospitalised symptom...</td>\n",
       "      <td>Tocilizumab Methylprednisolone</td>\n",
       "      <td>Drug Drug</td>\n",
       "      <td>NCT04345445</td>\n",
       "      <td>Not yet recruiting</td>\n",
       "      <td>[Phase 3]</td>\n",
       "      <td>1208</td>\n",
       "      <td></td>\n",
       "      <td>April 15, 2020</td>\n",
       "      <td>2020-04-14</td>\n",
       "      <td>Interventional</td>\n",
       "      <td>tocilizumab methylprednisolone</td>\n",
       "    </tr>\n",
       "    <tr>\n",
       "      <th>32</th>\n",
       "      <td>Tocilizumab in the Treatment of Coronavirus In...</td>\n",
       "      <td>October 2020</td>\n",
       "      <td>SARS-CoV-2 Infection</td>\n",
       "      <td>Randomized</td>\n",
       "      <td>Inclusion Criteria:\\n\\nI (first step):\\n\\nAdmi...</td>\n",
       "      <td>Tocilizumab (TCZ) Placebo</td>\n",
       "      <td>Drug Drug</td>\n",
       "      <td>NCT04335071</td>\n",
       "      <td>Recruiting</td>\n",
       "      <td>[Phase 2]</td>\n",
       "      <td>1233</td>\n",
       "      <td></td>\n",
       "      <td>April 26, 2020</td>\n",
       "      <td>2020-04-06</td>\n",
       "      <td>Interventional</td>\n",
       "      <td>tocilizumab (tcz) placebo</td>\n",
       "    </tr>\n",
       "    <tr>\n",
       "      <th>76</th>\n",
       "      <td>Ultra Low Doses of Therapy With Radiation Appl...</td>\n",
       "      <td>April 21, 2021</td>\n",
       "      <td>Pneumonia, Viral Cytokine Storm</td>\n",
       "      <td>N/A</td>\n",
       "      <td>Inclusion Criteria:\\n\\nAge &gt; 18 years-old.\\nDi...</td>\n",
       "      <td>Ultra-Low-dose radiotherapy ventilatory suppor...</td>\n",
       "      <td>Radiation Device Drug Drug Drug Drug Drug Drug...</td>\n",
       "      <td>NCT04394182</td>\n",
       "      <td>Recruiting</td>\n",
       "      <td>[Not Applicable]</td>\n",
       "      <td>1277</td>\n",
       "      <td></td>\n",
       "      <td>April 21, 2020</td>\n",
       "      <td>2020-05-19</td>\n",
       "      <td>Interventional</td>\n",
       "      <td>ultra-low-dose radiotherapy ventilatory suppor...</td>\n",
       "    </tr>\n",
       "    <tr>\n",
       "      <th>2</th>\n",
       "      <td>Efficacy of Early Administration of Tocilizuma...</td>\n",
       "      <td>June 6, 2020</td>\n",
       "      <td>COVID-19 Pneumonia</td>\n",
       "      <td>Randomized</td>\n",
       "      <td>Inclusion Criteria:\\n\\nage &gt; 18 years\\nInforme...</td>\n",
       "      <td>Tocilizumab</td>\n",
       "      <td>Drug</td>\n",
       "      <td>NCT04346355</td>\n",
       "      <td>Terminated</td>\n",
       "      <td>[Phase 2]</td>\n",
       "      <td>1303</td>\n",
       "      <td></td>\n",
       "      <td>March 31, 2020</td>\n",
       "      <td>2020-04-15</td>\n",
       "      <td>Interventional</td>\n",
       "      <td>tocilizumab</td>\n",
       "    </tr>\n",
       "    <tr>\n",
       "      <th>45</th>\n",
       "      <td>The Use of Tocilizumab in the Management of Pa...</td>\n",
       "      <td>May 8, 2021</td>\n",
       "      <td>Covid19 Pneumonia</td>\n",
       "      <td>Randomized</td>\n",
       "      <td>Inclusion Criteria:\\n\\nAny gender\\nAge 18 and ...</td>\n",
       "      <td>Tocilizumab</td>\n",
       "      <td>Drug</td>\n",
       "      <td>NCT04377750</td>\n",
       "      <td>Recruiting</td>\n",
       "      <td>[Phase 4]</td>\n",
       "      <td>1446</td>\n",
       "      <td></td>\n",
       "      <td>April 8, 2020</td>\n",
       "      <td>2020-05-06</td>\n",
       "      <td>Interventional</td>\n",
       "      <td>tocilizumab</td>\n",
       "    </tr>\n",
       "    <tr>\n",
       "      <th>21</th>\n",
       "      <td>Clinical Trial to Evaluate the Effectiveness a...</td>\n",
       "      <td>August 22, 2020</td>\n",
       "      <td>COVID-19</td>\n",
       "      <td>N/A</td>\n",
       "      <td>Inclusion Criteria:\\n\\nProvide oral informed c...</td>\n",
       "      <td>Tocilizumab</td>\n",
       "      <td>Drug</td>\n",
       "      <td>NCT04445272</td>\n",
       "      <td>Recruiting</td>\n",
       "      <td>[Phase 2]</td>\n",
       "      <td>1522</td>\n",
       "      <td></td>\n",
       "      <td>May 22, 2020</td>\n",
       "      <td>2020-06-24</td>\n",
       "      <td>Interventional</td>\n",
       "      <td>tocilizumab</td>\n",
       "    </tr>\n",
       "    <tr>\n",
       "      <th>63</th>\n",
       "      <td>Tocilizumab for SARS-CoV2 (COVID-19) Severe Pn...</td>\n",
       "      <td>May 2020</td>\n",
       "      <td>SARS Pneumonia</td>\n",
       "      <td>N/A</td>\n",
       "      <td>Inclusion Criteria:\\n\\nSARS-CoV2 Infection dia...</td>\n",
       "      <td>Tocilizumab</td>\n",
       "      <td>Drug</td>\n",
       "      <td>NCT04315480</td>\n",
       "      <td>Active, not recruiting</td>\n",
       "      <td>[Phase 2]</td>\n",
       "      <td>1564</td>\n",
       "      <td></td>\n",
       "      <td>March 12, 2020</td>\n",
       "      <td>2020-03-19</td>\n",
       "      <td>Interventional</td>\n",
       "      <td>tocilizumab</td>\n",
       "    </tr>\n",
       "    <tr>\n",
       "      <th>25</th>\n",
       "      <td>Tocilizumab Versus Methylprednisolone in the C...</td>\n",
       "      <td>November 2020</td>\n",
       "      <td>Cytokine Release Syndrome Covid-19</td>\n",
       "      <td>Randomized</td>\n",
       "      <td>Inclusion Criteria:\\n\\nMen and non-pregnant wo...</td>\n",
       "      <td>Tocilizumab 180 MG/ML Methylprednisolone Sodiu...</td>\n",
       "      <td>Drug Drug</td>\n",
       "      <td>NCT04377503</td>\n",
       "      <td>Not yet recruiting</td>\n",
       "      <td>[Phase 2]</td>\n",
       "      <td>1726</td>\n",
       "      <td></td>\n",
       "      <td>May 2020</td>\n",
       "      <td>2020-05-06</td>\n",
       "      <td>Interventional</td>\n",
       "      <td>tocilizumab 180 mg/ml methylprednisolone sodiu...</td>\n",
       "    </tr>\n",
       "    <tr>\n",
       "      <th>38</th>\n",
       "      <td>Tocilizumab to Prevent Clinical Decompensation...</td>\n",
       "      <td>June 5, 2020</td>\n",
       "      <td>COVID-19</td>\n",
       "      <td>Non-Randomized</td>\n",
       "      <td>Inclusion Criteria:\\n\\nAdults ≥ 18 years of ag...</td>\n",
       "      <td>Tocilizumab Tocilizumab</td>\n",
       "      <td>Drug Drug</td>\n",
       "      <td>NCT04331795</td>\n",
       "      <td>Completed</td>\n",
       "      <td>[Phase 2]</td>\n",
       "      <td>1739</td>\n",
       "      <td></td>\n",
       "      <td>April 4, 2020</td>\n",
       "      <td>2020-04-02</td>\n",
       "      <td>Interventional</td>\n",
       "      <td>tocilizumab tocilizumab</td>\n",
       "    </tr>\n",
       "    <tr>\n",
       "      <th>76</th>\n",
       "      <td>Tocilizumab in COVID-19 Pneumonia (TOCIVID-19)</td>\n",
       "      <td>December 19, 2022</td>\n",
       "      <td>COVID-19 Pneumonia</td>\n",
       "      <td>N/A</td>\n",
       "      <td>Inclusion Criteria:\\n\\nAny gender\\nNo age limi...</td>\n",
       "      <td>Tocilizumab Injection</td>\n",
       "      <td>Drug</td>\n",
       "      <td>NCT04317092</td>\n",
       "      <td>Recruiting</td>\n",
       "      <td>[Phase 2]</td>\n",
       "      <td>1977</td>\n",
       "      <td></td>\n",
       "      <td>March 19, 2020</td>\n",
       "      <td>2020-03-20</td>\n",
       "      <td>Interventional</td>\n",
       "      <td>tocilizumab injection</td>\n",
       "    </tr>\n",
       "    <tr>\n",
       "      <th>13</th>\n",
       "      <td>A Study in Patients With COVID-19 and Respirat...</td>\n",
       "      <td>February 2021</td>\n",
       "      <td>Covid-19</td>\n",
       "      <td>Randomized</td>\n",
       "      <td>Inclusion Criteria:\\n\\nLaboratory-confirmed SA...</td>\n",
       "      <td>Anakinra Prefilled Syringe Tocilizumab Prefill...</td>\n",
       "      <td>Drug Drug Drug</td>\n",
       "      <td>NCT04412291</td>\n",
       "      <td>Recruiting</td>\n",
       "      <td>[Phase 2]</td>\n",
       "      <td>2014</td>\n",
       "      <td></td>\n",
       "      <td>June 11, 2020</td>\n",
       "      <td>2020-06-02</td>\n",
       "      <td>Interventional</td>\n",
       "      <td>anakinra prefilled syringe tocilizumab prefill...</td>\n",
       "    </tr>\n",
       "    <tr>\n",
       "      <th>25</th>\n",
       "      <td>Safety and Efficacy of Tocilizumab in Moderate...</td>\n",
       "      <td>July 21, 2020</td>\n",
       "      <td>COVID SARS Pneumonia Cytokine Release Syndrome</td>\n",
       "      <td>Randomized</td>\n",
       "      <td>Inclusion Criteria:\\n\\nMale and females with 1...</td>\n",
       "      <td>Tocilizumab</td>\n",
       "      <td>Drug</td>\n",
       "      <td>NCT04403685</td>\n",
       "      <td>Terminated</td>\n",
       "      <td>[Phase 3]</td>\n",
       "      <td>2226</td>\n",
       "      <td></td>\n",
       "      <td>May 8, 2020</td>\n",
       "      <td>2020-05-27</td>\n",
       "      <td>Interventional</td>\n",
       "      <td>tocilizumab</td>\n",
       "    </tr>\n",
       "    <tr>\n",
       "      <th>80</th>\n",
       "      <td>Treatment of COVID-19 Patients With Anti-inter...</td>\n",
       "      <td>December 2020</td>\n",
       "      <td>COVID-19</td>\n",
       "      <td>Randomized</td>\n",
       "      <td>Inclusion Criteria:\\n\\nRecent ( ≥ 6 days of fl...</td>\n",
       "      <td>Usual Care Anakinra Siltuximab Tocilizumab</td>\n",
       "      <td>Other Drug Drug Drug</td>\n",
       "      <td>NCT04330638</td>\n",
       "      <td>Recruiting</td>\n",
       "      <td>[Phase 3]</td>\n",
       "      <td>2281</td>\n",
       "      <td></td>\n",
       "      <td>April 3, 2020</td>\n",
       "      <td>2020-04-01</td>\n",
       "      <td>Interventional</td>\n",
       "      <td>usual care anakinra siltuximab tocilizumab</td>\n",
       "    </tr>\n",
       "    <tr>\n",
       "      <th>99</th>\n",
       "      <td>A Study to Evaluate the Safety and Efficacy of...</td>\n",
       "      <td>July 28, 2020</td>\n",
       "      <td>COVID-19 Pneumonia</td>\n",
       "      <td>Randomized</td>\n",
       "      <td>Inclusion Criteria:\\n\\nHospitalized with COVID...</td>\n",
       "      <td>Tocilizumab (TCZ) Placebo</td>\n",
       "      <td>Drug Drug</td>\n",
       "      <td>NCT04320615</td>\n",
       "      <td>Completed</td>\n",
       "      <td>[Phase 3]</td>\n",
       "      <td>2300</td>\n",
       "      <td></td>\n",
       "      <td>April 3, 2020</td>\n",
       "      <td>2020-03-25</td>\n",
       "      <td>Interventional</td>\n",
       "      <td>tocilizumab (tcz) placebo</td>\n",
       "    </tr>\n",
       "    <tr>\n",
       "      <th>39</th>\n",
       "      <td>Efficacy of Tocilizumab in Modifying the Infla...</td>\n",
       "      <td>August 4, 2020</td>\n",
       "      <td>Covid19</td>\n",
       "      <td>Randomized</td>\n",
       "      <td>Inclusion Criteria:\\n\\nPatients over 18 years ...</td>\n",
       "      <td>Tocilizumab 20 MG/ML Intravenous Solution [ACT...</td>\n",
       "      <td>Drug Drug</td>\n",
       "      <td>NCT04435717</td>\n",
       "      <td>Recruiting</td>\n",
       "      <td>[Phase 2]</td>\n",
       "      <td>2340</td>\n",
       "      <td></td>\n",
       "      <td>May 4, 2020</td>\n",
       "      <td>2020-06-17</td>\n",
       "      <td>Interventional</td>\n",
       "      <td>tocilizumab 20 mg/ml intravenous solution [act...</td>\n",
       "    </tr>\n",
       "    <tr>\n",
       "      <th>3</th>\n",
       "      <td>Tocilizumab for Prevention of Respiratory Fail...</td>\n",
       "      <td>May 1, 2021</td>\n",
       "      <td>COVID-19</td>\n",
       "      <td>Randomized</td>\n",
       "      <td>Inclusion Criteria:\\n\\nPatient or designated p...</td>\n",
       "      <td>Tocilizumab</td>\n",
       "      <td>Drug</td>\n",
       "      <td>NCT04377659</td>\n",
       "      <td>Recruiting</td>\n",
       "      <td>[Phase 2]</td>\n",
       "      <td>2404</td>\n",
       "      <td></td>\n",
       "      <td>May 1, 2020</td>\n",
       "      <td>2020-05-06</td>\n",
       "      <td>Interventional</td>\n",
       "      <td>tocilizumab</td>\n",
       "    </tr>\n",
       "    <tr>\n",
       "      <th>12</th>\n",
       "      <td>A Trial Using ANAKINRA, TOCILIZUMAB Alone or i...</td>\n",
       "      <td>November 1, 2022</td>\n",
       "      <td>Covid19</td>\n",
       "      <td>Randomized</td>\n",
       "      <td>Inclusion Criteria:\\n\\nPatients older than 18 ...</td>\n",
       "      <td>Anakinra +/- Ruxolitinib (stages 2b/3) Anakinr...</td>\n",
       "      <td>Drug Drug Drug Drug Other</td>\n",
       "      <td>NCT04424056</td>\n",
       "      <td>Not yet recruiting</td>\n",
       "      <td>[Phase 3]</td>\n",
       "      <td>2413</td>\n",
       "      <td></td>\n",
       "      <td>September 1, 2020</td>\n",
       "      <td>2020-06-09</td>\n",
       "      <td>Interventional</td>\n",
       "      <td>anakinra +/- ruxolitinib (stages 2b/3) anakinr...</td>\n",
       "    </tr>\n",
       "    <tr>\n",
       "      <th>31</th>\n",
       "      <td>The Fleming [FMTVDM] Directed CoVid-19 Treatme...</td>\n",
       "      <td>November 11, 2020</td>\n",
       "      <td>CoVid 19 Positive</td>\n",
       "      <td>Randomized</td>\n",
       "      <td>Inclusion Criteria: CoVid-19 -\\n\\nExclusion Cr...</td>\n",
       "      <td>Hydroxychloroquine, Azithromycin Hydroxychloro...</td>\n",
       "      <td>Drug Drug Drug Drug Drug Drug Drug Drug Drug D...</td>\n",
       "      <td>NCT04349410</td>\n",
       "      <td>Enrolling by invitation</td>\n",
       "      <td>[Phase 2, Phase 3]</td>\n",
       "      <td>2432</td>\n",
       "      <td></td>\n",
       "      <td>April 11, 2020</td>\n",
       "      <td>2020-04-16</td>\n",
       "      <td>Interventional</td>\n",
       "      <td>hydroxychloroquine, azithromycin hydroxychloro...</td>\n",
       "    </tr>\n",
       "    <tr>\n",
       "      <th>63</th>\n",
       "      <td>A RCT - Safety &amp; Efficacy of Tocilizumab - Tx ...</td>\n",
       "      <td>December 31, 2021</td>\n",
       "      <td>COVID-19</td>\n",
       "      <td>Randomized</td>\n",
       "      <td>Inclusion Criteria:\\n\\nii. Hospitalized with C...</td>\n",
       "      <td>Tocilizumab Placebo</td>\n",
       "      <td>Drug Drug</td>\n",
       "      <td>NCT04412772</td>\n",
       "      <td>Recruiting</td>\n",
       "      <td>[Phase 3]</td>\n",
       "      <td>2464</td>\n",
       "      <td></td>\n",
       "      <td>June 1, 2020</td>\n",
       "      <td>2020-06-02</td>\n",
       "      <td>Interventional</td>\n",
       "      <td>tocilizumab placebo</td>\n",
       "    </tr>\n",
       "    <tr>\n",
       "      <th>73</th>\n",
       "      <td>A Study to Evaluate the Efficacy and Safety of...</td>\n",
       "      <td>September 19, 2020</td>\n",
       "      <td>COVID-19 Pneumonia</td>\n",
       "      <td>Randomized</td>\n",
       "      <td>Inclusion Criteria\\n\\nHospitalized\\nCOVID-19 p...</td>\n",
       "      <td>Placebo Tocilizumab</td>\n",
       "      <td>Drug Drug</td>\n",
       "      <td>NCT04372186</td>\n",
       "      <td>Active, not recruiting</td>\n",
       "      <td>[Phase 3]</td>\n",
       "      <td>2474</td>\n",
       "      <td></td>\n",
       "      <td>May 14, 2020</td>\n",
       "      <td>2020-05-01</td>\n",
       "      <td>Interventional</td>\n",
       "      <td>placebo tocilizumab</td>\n",
       "    </tr>\n",
       "    <tr>\n",
       "      <th>94</th>\n",
       "      <td>A Study to Evaluate the Efficacy and Safety of...</td>\n",
       "      <td>December 1, 2020</td>\n",
       "      <td>COVID-19 Pneumonia</td>\n",
       "      <td>Randomized</td>\n",
       "      <td>Inclusion Criteria\\n\\nHospitalized with COVID-...</td>\n",
       "      <td>Remdesivir Tocilizumab Placebo</td>\n",
       "      <td>Drug Drug Drug</td>\n",
       "      <td>NCT04409262</td>\n",
       "      <td>Recruiting</td>\n",
       "      <td>[Phase 3]</td>\n",
       "      <td>2495</td>\n",
       "      <td></td>\n",
       "      <td>June 16, 2020</td>\n",
       "      <td>2020-06-01</td>\n",
       "      <td>Interventional</td>\n",
       "      <td>remdesivir tocilizumab placebo</td>\n",
       "    </tr>\n",
       "    <tr>\n",
       "      <th>40</th>\n",
       "      <td>Low Dose Anti-inflammatory Radiotherapy for th...</td>\n",
       "      <td>July 1, 2021</td>\n",
       "      <td>Pneumonia, Viral</td>\n",
       "      <td>Non-Randomized</td>\n",
       "      <td>Inclusion Criteria:\\n\\nAge &gt;=18 years old\\nMod...</td>\n",
       "      <td>Low-dose radiotherapy Hydroxychloroquine Sulfa...</td>\n",
       "      <td>Radiation Drug Drug Drug Drug Drug Drug Device</td>\n",
       "      <td>NCT04380818</td>\n",
       "      <td>Recruiting</td>\n",
       "      <td>[Not Applicable]</td>\n",
       "      <td>2541</td>\n",
       "      <td></td>\n",
       "      <td>June 5, 2020</td>\n",
       "      <td>2020-05-08</td>\n",
       "      <td>Interventional</td>\n",
       "      <td>low-dose radiotherapy hydroxychloroquine sulfa...</td>\n",
       "    </tr>\n",
       "    <tr>\n",
       "      <th>56</th>\n",
       "      <td>Randomised Evaluation of COVID-19 Therapy</td>\n",
       "      <td>December 2031</td>\n",
       "      <td>Severe Acute Respiratory Syndrome</td>\n",
       "      <td>Randomized</td>\n",
       "      <td>Inclusion Criteria:\\n\\n(i) Hospitalised\\n(ii) ...</td>\n",
       "      <td>Lopinavir-Ritonavir Corticosteroid Hydroxychlo...</td>\n",
       "      <td>Drug Drug Drug Drug Biological Drug Biological</td>\n",
       "      <td>NCT04381936</td>\n",
       "      <td>Recruiting</td>\n",
       "      <td>[Phase 2, Phase 3]</td>\n",
       "      <td>2557</td>\n",
       "      <td></td>\n",
       "      <td>March 19, 2020</td>\n",
       "      <td>2020-05-11</td>\n",
       "      <td>Interventional</td>\n",
       "      <td>lopinavir-ritonavir corticosteroid hydroxychlo...</td>\n",
       "    </tr>\n",
       "    <tr>\n",
       "      <th>44</th>\n",
       "      <td>Assessment of Efficacy and Safety of Tocilizum...</td>\n",
       "      <td>October 4, 2020</td>\n",
       "      <td>COVID19 Intensive Care Unit</td>\n",
       "      <td>Randomized</td>\n",
       "      <td>Inclusion Criteria:\\n\\nPatient confirmed COVID...</td>\n",
       "      <td>Tocilizumab Injection Deferoxamine</td>\n",
       "      <td>Drug Drug</td>\n",
       "      <td>NCT04361032</td>\n",
       "      <td>Not yet recruiting</td>\n",
       "      <td>[Phase 3]</td>\n",
       "      <td>2645</td>\n",
       "      <td></td>\n",
       "      <td>September 4, 2020</td>\n",
       "      <td>2020-04-24</td>\n",
       "      <td>Interventional</td>\n",
       "      <td>tocilizumab injection deferoxamine</td>\n",
       "    </tr>\n",
       "    <tr>\n",
       "      <th>45</th>\n",
       "      <td>Checkpoint Blockade in COVID-19 Pandemic</td>\n",
       "      <td>August 30, 2020</td>\n",
       "      <td>COVID-19 Pneumonia, Viral</td>\n",
       "      <td>Randomized</td>\n",
       "      <td>Inclusion Criteria:\\n\\nInformed consent form (...</td>\n",
       "      <td>Tocilizumab Pembrolizumab (MK-3475)</td>\n",
       "      <td>Drug Biological</td>\n",
       "      <td>NCT04335305</td>\n",
       "      <td>Recruiting</td>\n",
       "      <td>[Phase 2]</td>\n",
       "      <td>2746</td>\n",
       "      <td></td>\n",
       "      <td>July 1, 2020</td>\n",
       "      <td>2020-04-06</td>\n",
       "      <td>Interventional</td>\n",
       "      <td>tocilizumab pembrolizumab (mk-3475)</td>\n",
       "    </tr>\n",
       "    <tr>\n",
       "      <th>96</th>\n",
       "      <td>Randomized, Embedded, Multifactorial Adaptive ...</td>\n",
       "      <td>December 2023</td>\n",
       "      <td>Community-acquired Pneumonia, Influenza, COVID-19</td>\n",
       "      <td>Randomized</td>\n",
       "      <td>REMAP-CAP PLATFORM INCLUSION CRITERIA:\\n\\nAdul...</td>\n",
       "      <td>Fixed-duration Hydrocortisone Shock-dependent ...</td>\n",
       "      <td>Drug Drug Drug Drug Drug Drug Drug Drug Drug D...</td>\n",
       "      <td>NCT02735707</td>\n",
       "      <td>Recruiting</td>\n",
       "      <td>[Phase 4]</td>\n",
       "      <td>2797</td>\n",
       "      <td></td>\n",
       "      <td>April 11, 2016</td>\n",
       "      <td>2016-04-13</td>\n",
       "      <td>Interventional</td>\n",
       "      <td>fixed-duration hydrocortisone shock-dependent ...</td>\n",
       "    </tr>\n",
       "    <tr>\n",
       "      <th>6</th>\n",
       "      <td>Comparison of Tocilizumab Plus Dexamethasone v...</td>\n",
       "      <td>December 31, 2021</td>\n",
       "      <td>Coronavirus Infection SARS (Severe Acute Respi...</td>\n",
       "      <td>Randomized</td>\n",
       "      <td>Inclusion Criteria:\\n\\nPatients included in th...</td>\n",
       "      <td>Tocilizumab Dexamethasone</td>\n",
       "      <td>Drug Drug</td>\n",
       "      <td>NCT04476979</td>\n",
       "      <td>Recruiting</td>\n",
       "      <td>[Phase 2]</td>\n",
       "      <td>2907</td>\n",
       "      <td></td>\n",
       "      <td>July 16, 2020</td>\n",
       "      <td>2020-07-20</td>\n",
       "      <td>Interventional</td>\n",
       "      <td>tocilizumab dexamethasone</td>\n",
       "    </tr>\n",
       "    <tr>\n",
       "      <th>23</th>\n",
       "      <td>A Study of the Effectiveness of an Off Label M...</td>\n",
       "      <td>August 1, 2020</td>\n",
       "      <td>Pneumonia, Viral Respiratory Failure</td>\n",
       "      <td>Randomized</td>\n",
       "      <td>Inclusion Criteria:\\n\\nMale and female patient...</td>\n",
       "      <td>Mefloquine Hydroxychloroquine Mefloquine + azi...</td>\n",
       "      <td>Drug Drug Combination Product Combination Product</td>\n",
       "      <td>NCT04347031</td>\n",
       "      <td>Active, not recruiting</td>\n",
       "      <td>[Phase 2, Phase 3]</td>\n",
       "      <td>3024</td>\n",
       "      <td></td>\n",
       "      <td>April 8, 2020</td>\n",
       "      <td>2020-04-15</td>\n",
       "      <td>Interventional</td>\n",
       "      <td>mefloquine hydroxychloroquine mefloquine + azi...</td>\n",
       "    </tr>\n",
       "    <tr>\n",
       "      <th>12</th>\n",
       "      <td>CORIMUNO-19 - Tocilizumab Trial - TOCI (CORIMU...</td>\n",
       "      <td>December 31, 2021</td>\n",
       "      <td>Corona Virus Infection</td>\n",
       "      <td>Randomized</td>\n",
       "      <td>Inclusion Criteria:\\n\\nPatients included in th...</td>\n",
       "      <td>Tocilizumab</td>\n",
       "      <td>Drug</td>\n",
       "      <td>NCT04331808</td>\n",
       "      <td>Active, not recruiting</td>\n",
       "      <td>[Phase 2]</td>\n",
       "      <td>3113</td>\n",
       "      <td></td>\n",
       "      <td>March 30, 2020</td>\n",
       "      <td>2020-04-02</td>\n",
       "      <td>Interventional</td>\n",
       "      <td>tocilizumab</td>\n",
       "    </tr>\n",
       "    <tr>\n",
       "      <th>39</th>\n",
       "      <td>Favipiravir Combined With Tocilizumab in the T...</td>\n",
       "      <td>May 2020</td>\n",
       "      <td>COVID-19</td>\n",
       "      <td>Randomized</td>\n",
       "      <td>Inclusion Criteria:\\n\\nClinically diagnosed wi...</td>\n",
       "      <td>Favipiravir Combined With Tocilizumab Favipira...</td>\n",
       "      <td>Drug Drug Drug</td>\n",
       "      <td>NCT04310228</td>\n",
       "      <td>Recruiting</td>\n",
       "      <td>[Not Applicable]</td>\n",
       "      <td>3140</td>\n",
       "      <td></td>\n",
       "      <td>March 8, 2020</td>\n",
       "      <td>2020-03-17</td>\n",
       "      <td>Interventional</td>\n",
       "      <td>favipiravir combined with tocilizumab favipira...</td>\n",
       "    </tr>\n",
       "  </tbody>\n",
       "</table>\n",
       "</div>"
      ],
      "text/plain": [
       "                                           BriefTitle      CompletionDate  \\\n",
       "30  Efficacy of Tocilizumab on Patients With COVID-19     October 1, 2020   \n",
       "50  Prospective Study in Patients With Advanced or...         August 2020   \n",
       "22  Clinical Trial of Combined Use of Hydroxychlor...        October 2020   \n",
       "40    Tocilizumab Treatment in Patients With COVID-19      August 1, 2021   \n",
       "66  Personalised Immunotherapy for SARS-CoV-2 (COV...       April 1, 2022   \n",
       "7   Study to Evaluate the Efficacy and Safety of T...    October 31, 2020   \n",
       "32  Tocilizumab in the Treatment of Coronavirus In...        October 2020   \n",
       "76  Ultra Low Doses of Therapy With Radiation Appl...      April 21, 2021   \n",
       "2   Efficacy of Early Administration of Tocilizuma...        June 6, 2020   \n",
       "45  The Use of Tocilizumab in the Management of Pa...         May 8, 2021   \n",
       "21  Clinical Trial to Evaluate the Effectiveness a...     August 22, 2020   \n",
       "63  Tocilizumab for SARS-CoV2 (COVID-19) Severe Pn...            May 2020   \n",
       "25  Tocilizumab Versus Methylprednisolone in the C...       November 2020   \n",
       "38  Tocilizumab to Prevent Clinical Decompensation...        June 5, 2020   \n",
       "76     Tocilizumab in COVID-19 Pneumonia (TOCIVID-19)   December 19, 2022   \n",
       "13  A Study in Patients With COVID-19 and Respirat...       February 2021   \n",
       "25  Safety and Efficacy of Tocilizumab in Moderate...       July 21, 2020   \n",
       "80  Treatment of COVID-19 Patients With Anti-inter...       December 2020   \n",
       "99  A Study to Evaluate the Safety and Efficacy of...       July 28, 2020   \n",
       "39  Efficacy of Tocilizumab in Modifying the Infla...      August 4, 2020   \n",
       "3   Tocilizumab for Prevention of Respiratory Fail...         May 1, 2021   \n",
       "12  A Trial Using ANAKINRA, TOCILIZUMAB Alone or i...    November 1, 2022   \n",
       "31  The Fleming [FMTVDM] Directed CoVid-19 Treatme...   November 11, 2020   \n",
       "63  A RCT - Safety & Efficacy of Tocilizumab - Tx ...   December 31, 2021   \n",
       "73  A Study to Evaluate the Efficacy and Safety of...  September 19, 2020   \n",
       "94  A Study to Evaluate the Efficacy and Safety of...    December 1, 2020   \n",
       "40  Low Dose Anti-inflammatory Radiotherapy for th...        July 1, 2021   \n",
       "56          Randomised Evaluation of COVID-19 Therapy       December 2031   \n",
       "44  Assessment of Efficacy and Safety of Tocilizum...     October 4, 2020   \n",
       "45           Checkpoint Blockade in COVID-19 Pandemic     August 30, 2020   \n",
       "96  Randomized, Embedded, Multifactorial Adaptive ...       December 2023   \n",
       "6   Comparison of Tocilizumab Plus Dexamethasone v...   December 31, 2021   \n",
       "23  A Study of the Effectiveness of an Off Label M...      August 1, 2020   \n",
       "12  CORIMUNO-19 - Tocilizumab Trial - TOCI (CORIMU...   December 31, 2021   \n",
       "39  Favipiravir Combined With Tocilizumab in the T...            May 2020   \n",
       "\n",
       "                                            Condition DesignAllocation  \\\n",
       "30                                         SARS-CoV 2       Randomized   \n",
       "50  SARS-CoV-2 (COVID-19) Infection Advanced or Me...       Randomized   \n",
       "22                                           COVID-19       Randomized   \n",
       "40                                          Sars-CoV2              N/A   \n",
       "66  COVID-19 Virus Diseases Macrophage Activation ...   Non-Randomized   \n",
       "7                                            COVID-19       Randomized   \n",
       "32                               SARS-CoV-2 Infection       Randomized   \n",
       "76                    Pneumonia, Viral Cytokine Storm              N/A   \n",
       "2                                  COVID-19 Pneumonia       Randomized   \n",
       "45                                  Covid19 Pneumonia       Randomized   \n",
       "21                                           COVID-19              N/A   \n",
       "63                                     SARS Pneumonia              N/A   \n",
       "25                 Cytokine Release Syndrome Covid-19       Randomized   \n",
       "38                                           COVID-19   Non-Randomized   \n",
       "76                                 COVID-19 Pneumonia              N/A   \n",
       "13                                           Covid-19       Randomized   \n",
       "25     COVID SARS Pneumonia Cytokine Release Syndrome       Randomized   \n",
       "80                                           COVID-19       Randomized   \n",
       "99                                 COVID-19 Pneumonia       Randomized   \n",
       "39                                            Covid19       Randomized   \n",
       "3                                            COVID-19       Randomized   \n",
       "12                                            Covid19       Randomized   \n",
       "31                                  CoVid 19 Positive       Randomized   \n",
       "63                                           COVID-19       Randomized   \n",
       "73                                 COVID-19 Pneumonia       Randomized   \n",
       "94                                 COVID-19 Pneumonia       Randomized   \n",
       "40                                   Pneumonia, Viral   Non-Randomized   \n",
       "56                  Severe Acute Respiratory Syndrome       Randomized   \n",
       "44                        COVID19 Intensive Care Unit       Randomized   \n",
       "45                          COVID-19 Pneumonia, Viral       Randomized   \n",
       "96  Community-acquired Pneumonia, Influenza, COVID-19       Randomized   \n",
       "6   Coronavirus Infection SARS (Severe Acute Respi...       Randomized   \n",
       "23               Pneumonia, Viral Respiratory Failure       Randomized   \n",
       "12                             Corona Virus Infection       Randomized   \n",
       "39                                           COVID-19       Randomized   \n",
       "\n",
       "                                  EligibilityCriteria  \\\n",
       "30  Inclusion criteria:\\n\\nSubjects who meet all o...   \n",
       "50  Inclusion Criteria:\\n\\nI1. Age 18 or older at ...   \n",
       "22  Inclusion Criteria:\\n\\nSubject (or authorized ...   \n",
       "40  Inclusion Criteria:\\n\\nPatients 18 years or ol...   \n",
       "66  Inclusion Criteria:\\n\\nAge equal to or above 1...   \n",
       "7   Inclusion Criteria:\\n\\n1) Hospitalised symptom...   \n",
       "32  Inclusion Criteria:\\n\\nI (first step):\\n\\nAdmi...   \n",
       "76  Inclusion Criteria:\\n\\nAge > 18 years-old.\\nDi...   \n",
       "2   Inclusion Criteria:\\n\\nage > 18 years\\nInforme...   \n",
       "45  Inclusion Criteria:\\n\\nAny gender\\nAge 18 and ...   \n",
       "21  Inclusion Criteria:\\n\\nProvide oral informed c...   \n",
       "63  Inclusion Criteria:\\n\\nSARS-CoV2 Infection dia...   \n",
       "25  Inclusion Criteria:\\n\\nMen and non-pregnant wo...   \n",
       "38  Inclusion Criteria:\\n\\nAdults ≥ 18 years of ag...   \n",
       "76  Inclusion Criteria:\\n\\nAny gender\\nNo age limi...   \n",
       "13  Inclusion Criteria:\\n\\nLaboratory-confirmed SA...   \n",
       "25  Inclusion Criteria:\\n\\nMale and females with 1...   \n",
       "80  Inclusion Criteria:\\n\\nRecent ( ≥ 6 days of fl...   \n",
       "99  Inclusion Criteria:\\n\\nHospitalized with COVID...   \n",
       "39  Inclusion Criteria:\\n\\nPatients over 18 years ...   \n",
       "3   Inclusion Criteria:\\n\\nPatient or designated p...   \n",
       "12  Inclusion Criteria:\\n\\nPatients older than 18 ...   \n",
       "31  Inclusion Criteria: CoVid-19 -\\n\\nExclusion Cr...   \n",
       "63  Inclusion Criteria:\\n\\nii. Hospitalized with C...   \n",
       "73  Inclusion Criteria\\n\\nHospitalized\\nCOVID-19 p...   \n",
       "94  Inclusion Criteria\\n\\nHospitalized with COVID-...   \n",
       "40  Inclusion Criteria:\\n\\nAge >=18 years old\\nMod...   \n",
       "56  Inclusion Criteria:\\n\\n(i) Hospitalised\\n(ii) ...   \n",
       "44  Inclusion Criteria:\\n\\nPatient confirmed COVID...   \n",
       "45  Inclusion Criteria:\\n\\nInformed consent form (...   \n",
       "96  REMAP-CAP PLATFORM INCLUSION CRITERIA:\\n\\nAdul...   \n",
       "6   Inclusion Criteria:\\n\\nPatients included in th...   \n",
       "23  Inclusion Criteria:\\n\\nMale and female patient...   \n",
       "12  Inclusion Criteria:\\n\\nPatients included in th...   \n",
       "39  Inclusion Criteria:\\n\\nClinically diagnosed wi...   \n",
       "\n",
       "                                     InterventionName  \\\n",
       "30                               Tocilizumab Placebos   \n",
       "50  Chloroquine analog (GNS651) Nivolumab Tocilizu...   \n",
       "22        Tocilizumab Hydroxychloroquine Azithromycin   \n",
       "40                                        Tocilizumab   \n",
       "66                               Anakinra Tocilizumab   \n",
       "7                      Tocilizumab Methylprednisolone   \n",
       "32                          Tocilizumab (TCZ) Placebo   \n",
       "76  Ultra-Low-dose radiotherapy ventilatory suppor...   \n",
       "2                                         Tocilizumab   \n",
       "45                                        Tocilizumab   \n",
       "21                                        Tocilizumab   \n",
       "63                                        Tocilizumab   \n",
       "25  Tocilizumab 180 MG/ML Methylprednisolone Sodiu...   \n",
       "38                            Tocilizumab Tocilizumab   \n",
       "76                              Tocilizumab Injection   \n",
       "13  Anakinra Prefilled Syringe Tocilizumab Prefill...   \n",
       "25                                        Tocilizumab   \n",
       "80         Usual Care Anakinra Siltuximab Tocilizumab   \n",
       "99                          Tocilizumab (TCZ) Placebo   \n",
       "39  Tocilizumab 20 MG/ML Intravenous Solution [ACT...   \n",
       "3                                         Tocilizumab   \n",
       "12  Anakinra +/- Ruxolitinib (stages 2b/3) Anakinr...   \n",
       "31  Hydroxychloroquine, Azithromycin Hydroxychloro...   \n",
       "63                                Tocilizumab Placebo   \n",
       "73                                Placebo Tocilizumab   \n",
       "94                     Remdesivir Tocilizumab Placebo   \n",
       "40  Low-dose radiotherapy Hydroxychloroquine Sulfa...   \n",
       "56  Lopinavir-Ritonavir Corticosteroid Hydroxychlo...   \n",
       "44                 Tocilizumab Injection Deferoxamine   \n",
       "45                Tocilizumab Pembrolizumab (MK-3475)   \n",
       "96  Fixed-duration Hydrocortisone Shock-dependent ...   \n",
       "6                           Tocilizumab Dexamethasone   \n",
       "23  Mefloquine Hydroxychloroquine Mefloquine + azi...   \n",
       "12                                        Tocilizumab   \n",
       "39  Favipiravir Combined With Tocilizumab Favipira...   \n",
       "\n",
       "                                     InterventionType        NCTId  \\\n",
       "30                                          Drug Drug  NCT04356937   \n",
       "50                     Drug Drug Drug Other Drug Drug  NCT04333914   \n",
       "22                                     Drug Drug Drug  NCT04332094   \n",
       "40                                               Drug  NCT04363853   \n",
       "66                                          Drug Drug  NCT04339712   \n",
       "7                                           Drug Drug  NCT04345445   \n",
       "32                                          Drug Drug  NCT04335071   \n",
       "76  Radiation Device Drug Drug Drug Drug Drug Drug...  NCT04394182   \n",
       "2                                                Drug  NCT04346355   \n",
       "45                                               Drug  NCT04377750   \n",
       "21                                               Drug  NCT04445272   \n",
       "63                                               Drug  NCT04315480   \n",
       "25                                          Drug Drug  NCT04377503   \n",
       "38                                          Drug Drug  NCT04331795   \n",
       "76                                               Drug  NCT04317092   \n",
       "13                                     Drug Drug Drug  NCT04412291   \n",
       "25                                               Drug  NCT04403685   \n",
       "80                               Other Drug Drug Drug  NCT04330638   \n",
       "99                                          Drug Drug  NCT04320615   \n",
       "39                                          Drug Drug  NCT04435717   \n",
       "3                                                Drug  NCT04377659   \n",
       "12                          Drug Drug Drug Drug Other  NCT04424056   \n",
       "31  Drug Drug Drug Drug Drug Drug Drug Drug Drug D...  NCT04349410   \n",
       "63                                          Drug Drug  NCT04412772   \n",
       "73                                          Drug Drug  NCT04372186   \n",
       "94                                     Drug Drug Drug  NCT04409262   \n",
       "40     Radiation Drug Drug Drug Drug Drug Drug Device  NCT04380818   \n",
       "56     Drug Drug Drug Drug Biological Drug Biological  NCT04381936   \n",
       "44                                          Drug Drug  NCT04361032   \n",
       "45                                    Drug Biological  NCT04335305   \n",
       "96  Drug Drug Drug Drug Drug Drug Drug Drug Drug D...  NCT02735707   \n",
       "6                                           Drug Drug  NCT04476979   \n",
       "23  Drug Drug Combination Product Combination Product  NCT04347031   \n",
       "12                                               Drug  NCT04331808   \n",
       "39                                     Drug Drug Drug  NCT04310228   \n",
       "\n",
       "              OverallStatus               Phase  Rank ResultsFirstPostDate  \\\n",
       "30   Active, not recruiting           [Phase 3]   731                        \n",
       "50                Suspended           [Phase 2]   751                        \n",
       "22               Recruiting           [Phase 2]  1023                        \n",
       "40               Recruiting           [Phase 2]  1041                        \n",
       "66               Recruiting           [Phase 2]  1067                        \n",
       "7        Not yet recruiting           [Phase 3]  1208                        \n",
       "32               Recruiting           [Phase 2]  1233                        \n",
       "76               Recruiting    [Not Applicable]  1277                        \n",
       "2                Terminated           [Phase 2]  1303                        \n",
       "45               Recruiting           [Phase 4]  1446                        \n",
       "21               Recruiting           [Phase 2]  1522                        \n",
       "63   Active, not recruiting           [Phase 2]  1564                        \n",
       "25       Not yet recruiting           [Phase 2]  1726                        \n",
       "38                Completed           [Phase 2]  1739                        \n",
       "76               Recruiting           [Phase 2]  1977                        \n",
       "13               Recruiting           [Phase 2]  2014                        \n",
       "25               Terminated           [Phase 3]  2226                        \n",
       "80               Recruiting           [Phase 3]  2281                        \n",
       "99                Completed           [Phase 3]  2300                        \n",
       "39               Recruiting           [Phase 2]  2340                        \n",
       "3                Recruiting           [Phase 2]  2404                        \n",
       "12       Not yet recruiting           [Phase 3]  2413                        \n",
       "31  Enrolling by invitation  [Phase 2, Phase 3]  2432                        \n",
       "63               Recruiting           [Phase 3]  2464                        \n",
       "73   Active, not recruiting           [Phase 3]  2474                        \n",
       "94               Recruiting           [Phase 3]  2495                        \n",
       "40               Recruiting    [Not Applicable]  2541                        \n",
       "56               Recruiting  [Phase 2, Phase 3]  2557                        \n",
       "44       Not yet recruiting           [Phase 3]  2645                        \n",
       "45               Recruiting           [Phase 2]  2746                        \n",
       "96               Recruiting           [Phase 4]  2797                        \n",
       "6                Recruiting           [Phase 2]  2907                        \n",
       "23   Active, not recruiting  [Phase 2, Phase 3]  3024                        \n",
       "12   Active, not recruiting           [Phase 2]  3113                        \n",
       "39               Recruiting    [Not Applicable]  3140                        \n",
       "\n",
       "            StartDate StudyFirstPostDate       StudyType  \\\n",
       "30     April 20, 2020         2020-04-22  Interventional   \n",
       "50     April 15, 2020         2020-04-03  Interventional   \n",
       "22      April 2, 2020         2020-04-02  Interventional   \n",
       "40       June 1, 2020         2020-04-27  Interventional   \n",
       "66      April 2, 2020         2020-04-09  Interventional   \n",
       "7      April 15, 2020         2020-04-14  Interventional   \n",
       "32     April 26, 2020         2020-04-06  Interventional   \n",
       "76     April 21, 2020         2020-05-19  Interventional   \n",
       "2      March 31, 2020         2020-04-15  Interventional   \n",
       "45      April 8, 2020         2020-05-06  Interventional   \n",
       "21       May 22, 2020         2020-06-24  Interventional   \n",
       "63     March 12, 2020         2020-03-19  Interventional   \n",
       "25           May 2020         2020-05-06  Interventional   \n",
       "38      April 4, 2020         2020-04-02  Interventional   \n",
       "76     March 19, 2020         2020-03-20  Interventional   \n",
       "13      June 11, 2020         2020-06-02  Interventional   \n",
       "25        May 8, 2020         2020-05-27  Interventional   \n",
       "80      April 3, 2020         2020-04-01  Interventional   \n",
       "99      April 3, 2020         2020-03-25  Interventional   \n",
       "39        May 4, 2020         2020-06-17  Interventional   \n",
       "3         May 1, 2020         2020-05-06  Interventional   \n",
       "12  September 1, 2020         2020-06-09  Interventional   \n",
       "31     April 11, 2020         2020-04-16  Interventional   \n",
       "63       June 1, 2020         2020-06-02  Interventional   \n",
       "73       May 14, 2020         2020-05-01  Interventional   \n",
       "94      June 16, 2020         2020-06-01  Interventional   \n",
       "40       June 5, 2020         2020-05-08  Interventional   \n",
       "56     March 19, 2020         2020-05-11  Interventional   \n",
       "44  September 4, 2020         2020-04-24  Interventional   \n",
       "45       July 1, 2020         2020-04-06  Interventional   \n",
       "96     April 11, 2016         2016-04-13  Interventional   \n",
       "6       July 16, 2020         2020-07-20  Interventional   \n",
       "23      April 8, 2020         2020-04-15  Interventional   \n",
       "12     March 30, 2020         2020-04-02  Interventional   \n",
       "39      March 8, 2020         2020-03-17  Interventional   \n",
       "\n",
       "                               InterventionName_lower  \n",
       "30                               tocilizumab placebos  \n",
       "50  chloroquine analog (gns651) nivolumab tocilizu...  \n",
       "22        tocilizumab hydroxychloroquine azithromycin  \n",
       "40                                        tocilizumab  \n",
       "66                               anakinra tocilizumab  \n",
       "7                      tocilizumab methylprednisolone  \n",
       "32                          tocilizumab (tcz) placebo  \n",
       "76  ultra-low-dose radiotherapy ventilatory suppor...  \n",
       "2                                         tocilizumab  \n",
       "45                                        tocilizumab  \n",
       "21                                        tocilizumab  \n",
       "63                                        tocilizumab  \n",
       "25  tocilizumab 180 mg/ml methylprednisolone sodiu...  \n",
       "38                            tocilizumab tocilizumab  \n",
       "76                              tocilizumab injection  \n",
       "13  anakinra prefilled syringe tocilizumab prefill...  \n",
       "25                                        tocilizumab  \n",
       "80         usual care anakinra siltuximab tocilizumab  \n",
       "99                          tocilizumab (tcz) placebo  \n",
       "39  tocilizumab 20 mg/ml intravenous solution [act...  \n",
       "3                                         tocilizumab  \n",
       "12  anakinra +/- ruxolitinib (stages 2b/3) anakinr...  \n",
       "31  hydroxychloroquine, azithromycin hydroxychloro...  \n",
       "63                                tocilizumab placebo  \n",
       "73                                placebo tocilizumab  \n",
       "94                     remdesivir tocilizumab placebo  \n",
       "40  low-dose radiotherapy hydroxychloroquine sulfa...  \n",
       "56  lopinavir-ritonavir corticosteroid hydroxychlo...  \n",
       "44                 tocilizumab injection deferoxamine  \n",
       "45                tocilizumab pembrolizumab (mk-3475)  \n",
       "96  fixed-duration hydrocortisone shock-dependent ...  \n",
       "6                           tocilizumab dexamethasone  \n",
       "23  mefloquine hydroxychloroquine mefloquine + azi...  \n",
       "12                                        tocilizumab  \n",
       "39  favipiravir combined with tocilizumab favipira...  "
      ]
     },
     "execution_count": 26,
     "metadata": {},
     "output_type": "execute_result"
    }
   ],
   "source": [
    "drug_trials_tocilizumab"
   ]
  },
  {
   "cell_type": "code",
   "execution_count": 27,
   "metadata": {
    "scrolled": true
   },
   "outputs": [],
   "source": [
    "sns.set(style=\"darkgrid\")\n",
    "# ax = sns.countplot(x=\"Phase\", hue=\"OverallStatus\", data=drug_trials)"
   ]
  },
  {
   "cell_type": "code",
   "execution_count": 28,
   "metadata": {
    "scrolled": true
   },
   "outputs": [],
   "source": [
    "corticosteroids = ['dexamethasone', 'budesonide', 'prednisone', \n",
    "                   \"prednisolone\", \"methylprednisolone\", \"hydrocortisone\", \n",
    "                   \"fluticasone\", \"fluticasone propionate\", \"bethamethasone\",\n",
    "                   \"mometasone\", \"mometasone furoate\",\n",
    "                   \"beclomethasone dipropionate\",\n",
    "                  \"flunisolide\", \"steroid\", \"corticosteroid\", \"glucocorticosteroid\",]"
   ]
  },
  {
   "cell_type": "code",
   "execution_count": 29,
   "metadata": {},
   "outputs": [
    {
     "name": "stderr",
     "output_type": "stream",
     "text": [
      "c:\\users\\katerina\\appdata\\local\\programs\\python\\python37\\lib\\site-packages\\ipykernel_launcher.py:3: SettingWithCopyWarning: \n",
      "A value is trying to be set on a copy of a slice from a DataFrame.\n",
      "Try using .loc[row_indexer,col_indexer] = value instead\n",
      "\n",
      "See the caveats in the documentation: http://pandas.pydata.org/pandas-docs/stable/indexing.html#indexing-view-versus-copy\n",
      "  This is separate from the ipykernel package so we can avoid doing imports until\n"
     ]
    },
    {
     "ename": "KeyError",
     "evalue": "'InterventionName_lower'",
     "output_type": "error",
     "traceback": [
      "\u001b[1;31m---------------------------------------------------------------------------\u001b[0m",
      "\u001b[1;31mKeyError\u001b[0m                                  Traceback (most recent call last)",
      "\u001b[1;32mc:\\users\\katerina\\appdata\\local\\programs\\python\\python37\\lib\\site-packages\\pandas\\core\\indexes\\base.py\u001b[0m in \u001b[0;36mget_loc\u001b[1;34m(self, key, method, tolerance)\u001b[0m\n\u001b[0;32m   2656\u001b[0m             \u001b[1;32mtry\u001b[0m\u001b[1;33m:\u001b[0m\u001b[1;33m\u001b[0m\u001b[1;33m\u001b[0m\u001b[0m\n\u001b[1;32m-> 2657\u001b[1;33m                 \u001b[1;32mreturn\u001b[0m \u001b[0mself\u001b[0m\u001b[1;33m.\u001b[0m\u001b[0m_engine\u001b[0m\u001b[1;33m.\u001b[0m\u001b[0mget_loc\u001b[0m\u001b[1;33m(\u001b[0m\u001b[0mkey\u001b[0m\u001b[1;33m)\u001b[0m\u001b[1;33m\u001b[0m\u001b[1;33m\u001b[0m\u001b[0m\n\u001b[0m\u001b[0;32m   2658\u001b[0m             \u001b[1;32mexcept\u001b[0m \u001b[0mKeyError\u001b[0m\u001b[1;33m:\u001b[0m\u001b[1;33m\u001b[0m\u001b[1;33m\u001b[0m\u001b[0m\n",
      "\u001b[1;32mpandas\\_libs\\index.pyx\u001b[0m in \u001b[0;36mpandas._libs.index.IndexEngine.get_loc\u001b[1;34m()\u001b[0m\n",
      "\u001b[1;32mpandas\\_libs\\index.pyx\u001b[0m in \u001b[0;36mpandas._libs.index.IndexEngine.get_loc\u001b[1;34m()\u001b[0m\n",
      "\u001b[1;32mpandas\\_libs\\hashtable_class_helper.pxi\u001b[0m in \u001b[0;36mpandas._libs.hashtable.PyObjectHashTable.get_item\u001b[1;34m()\u001b[0m\n",
      "\u001b[1;32mpandas\\_libs\\hashtable_class_helper.pxi\u001b[0m in \u001b[0;36mpandas._libs.hashtable.PyObjectHashTable.get_item\u001b[1;34m()\u001b[0m\n",
      "\u001b[1;31mKeyError\u001b[0m: 'InterventionName_lower'",
      "\nDuring handling of the above exception, another exception occurred:\n",
      "\u001b[1;31mKeyError\u001b[0m                                  Traceback (most recent call last)",
      "\u001b[1;32m<ipython-input-29-65fa6d3b97e7>\u001b[0m in \u001b[0;36m<module>\u001b[1;34m\u001b[0m\n\u001b[0;32m      4\u001b[0m \u001b[1;32mfor\u001b[0m \u001b[0mdrug\u001b[0m \u001b[1;32min\u001b[0m \u001b[0mcorticosteroids\u001b[0m\u001b[1;33m:\u001b[0m\u001b[1;33m\u001b[0m\u001b[1;33m\u001b[0m\u001b[0m\n\u001b[0;32m      5\u001b[0m     steroid_df = drug_trials.loc[\n\u001b[1;32m----> 6\u001b[1;33m         \u001b[1;33m(\u001b[0m\u001b[0mdrug_trials\u001b[0m\u001b[1;33m[\u001b[0m\u001b[1;34m\"InterventionName_lower\"\u001b[0m\u001b[1;33m]\u001b[0m\u001b[1;33m.\u001b[0m\u001b[0mstr\u001b[0m\u001b[1;33m.\u001b[0m\u001b[0mcontains\u001b[0m\u001b[1;33m(\u001b[0m\u001b[0mdrug\u001b[0m\u001b[1;33m)\u001b[0m\u001b[1;33m)\u001b[0m \u001b[1;33m|\u001b[0m\u001b[1;33m\u001b[0m\u001b[1;33m\u001b[0m\u001b[0m\n\u001b[0m\u001b[0;32m      7\u001b[0m         \u001b[1;33m(\u001b[0m\u001b[0mdrug_trials\u001b[0m\u001b[1;33m[\u001b[0m\u001b[1;34m\"BriefTitle_lower\"\u001b[0m\u001b[1;33m]\u001b[0m\u001b[1;33m.\u001b[0m\u001b[0mstr\u001b[0m\u001b[1;33m.\u001b[0m\u001b[0mcontains\u001b[0m\u001b[1;33m(\u001b[0m\u001b[0mdrug\u001b[0m\u001b[1;33m)\u001b[0m\u001b[1;33m)\u001b[0m\u001b[1;33m\u001b[0m\u001b[1;33m\u001b[0m\u001b[0m\n\u001b[0;32m      8\u001b[0m     ]\n",
      "\u001b[1;32mc:\\users\\katerina\\appdata\\local\\programs\\python\\python37\\lib\\site-packages\\pandas\\core\\frame.py\u001b[0m in \u001b[0;36m__getitem__\u001b[1;34m(self, key)\u001b[0m\n\u001b[0;32m   2925\u001b[0m             \u001b[1;32mif\u001b[0m \u001b[0mself\u001b[0m\u001b[1;33m.\u001b[0m\u001b[0mcolumns\u001b[0m\u001b[1;33m.\u001b[0m\u001b[0mnlevels\u001b[0m \u001b[1;33m>\u001b[0m \u001b[1;36m1\u001b[0m\u001b[1;33m:\u001b[0m\u001b[1;33m\u001b[0m\u001b[1;33m\u001b[0m\u001b[0m\n\u001b[0;32m   2926\u001b[0m                 \u001b[1;32mreturn\u001b[0m \u001b[0mself\u001b[0m\u001b[1;33m.\u001b[0m\u001b[0m_getitem_multilevel\u001b[0m\u001b[1;33m(\u001b[0m\u001b[0mkey\u001b[0m\u001b[1;33m)\u001b[0m\u001b[1;33m\u001b[0m\u001b[1;33m\u001b[0m\u001b[0m\n\u001b[1;32m-> 2927\u001b[1;33m             \u001b[0mindexer\u001b[0m \u001b[1;33m=\u001b[0m \u001b[0mself\u001b[0m\u001b[1;33m.\u001b[0m\u001b[0mcolumns\u001b[0m\u001b[1;33m.\u001b[0m\u001b[0mget_loc\u001b[0m\u001b[1;33m(\u001b[0m\u001b[0mkey\u001b[0m\u001b[1;33m)\u001b[0m\u001b[1;33m\u001b[0m\u001b[1;33m\u001b[0m\u001b[0m\n\u001b[0m\u001b[0;32m   2928\u001b[0m             \u001b[1;32mif\u001b[0m \u001b[0mis_integer\u001b[0m\u001b[1;33m(\u001b[0m\u001b[0mindexer\u001b[0m\u001b[1;33m)\u001b[0m\u001b[1;33m:\u001b[0m\u001b[1;33m\u001b[0m\u001b[1;33m\u001b[0m\u001b[0m\n\u001b[0;32m   2929\u001b[0m                 \u001b[0mindexer\u001b[0m \u001b[1;33m=\u001b[0m \u001b[1;33m[\u001b[0m\u001b[0mindexer\u001b[0m\u001b[1;33m]\u001b[0m\u001b[1;33m\u001b[0m\u001b[1;33m\u001b[0m\u001b[0m\n",
      "\u001b[1;32mc:\\users\\katerina\\appdata\\local\\programs\\python\\python37\\lib\\site-packages\\pandas\\core\\indexes\\base.py\u001b[0m in \u001b[0;36mget_loc\u001b[1;34m(self, key, method, tolerance)\u001b[0m\n\u001b[0;32m   2657\u001b[0m                 \u001b[1;32mreturn\u001b[0m \u001b[0mself\u001b[0m\u001b[1;33m.\u001b[0m\u001b[0m_engine\u001b[0m\u001b[1;33m.\u001b[0m\u001b[0mget_loc\u001b[0m\u001b[1;33m(\u001b[0m\u001b[0mkey\u001b[0m\u001b[1;33m)\u001b[0m\u001b[1;33m\u001b[0m\u001b[1;33m\u001b[0m\u001b[0m\n\u001b[0;32m   2658\u001b[0m             \u001b[1;32mexcept\u001b[0m \u001b[0mKeyError\u001b[0m\u001b[1;33m:\u001b[0m\u001b[1;33m\u001b[0m\u001b[1;33m\u001b[0m\u001b[0m\n\u001b[1;32m-> 2659\u001b[1;33m                 \u001b[1;32mreturn\u001b[0m \u001b[0mself\u001b[0m\u001b[1;33m.\u001b[0m\u001b[0m_engine\u001b[0m\u001b[1;33m.\u001b[0m\u001b[0mget_loc\u001b[0m\u001b[1;33m(\u001b[0m\u001b[0mself\u001b[0m\u001b[1;33m.\u001b[0m\u001b[0m_maybe_cast_indexer\u001b[0m\u001b[1;33m(\u001b[0m\u001b[0mkey\u001b[0m\u001b[1;33m)\u001b[0m\u001b[1;33m)\u001b[0m\u001b[1;33m\u001b[0m\u001b[1;33m\u001b[0m\u001b[0m\n\u001b[0m\u001b[0;32m   2660\u001b[0m         \u001b[0mindexer\u001b[0m \u001b[1;33m=\u001b[0m \u001b[0mself\u001b[0m\u001b[1;33m.\u001b[0m\u001b[0mget_indexer\u001b[0m\u001b[1;33m(\u001b[0m\u001b[1;33m[\u001b[0m\u001b[0mkey\u001b[0m\u001b[1;33m]\u001b[0m\u001b[1;33m,\u001b[0m \u001b[0mmethod\u001b[0m\u001b[1;33m=\u001b[0m\u001b[0mmethod\u001b[0m\u001b[1;33m,\u001b[0m \u001b[0mtolerance\u001b[0m\u001b[1;33m=\u001b[0m\u001b[0mtolerance\u001b[0m\u001b[1;33m)\u001b[0m\u001b[1;33m\u001b[0m\u001b[1;33m\u001b[0m\u001b[0m\n\u001b[0;32m   2661\u001b[0m         \u001b[1;32mif\u001b[0m \u001b[0mindexer\u001b[0m\u001b[1;33m.\u001b[0m\u001b[0mndim\u001b[0m \u001b[1;33m>\u001b[0m \u001b[1;36m1\u001b[0m \u001b[1;32mor\u001b[0m \u001b[0mindexer\u001b[0m\u001b[1;33m.\u001b[0m\u001b[0msize\u001b[0m \u001b[1;33m>\u001b[0m \u001b[1;36m1\u001b[0m\u001b[1;33m:\u001b[0m\u001b[1;33m\u001b[0m\u001b[1;33m\u001b[0m\u001b[0m\n",
      "\u001b[1;32mpandas\\_libs\\index.pyx\u001b[0m in \u001b[0;36mpandas._libs.index.IndexEngine.get_loc\u001b[1;34m()\u001b[0m\n",
      "\u001b[1;32mpandas\\_libs\\index.pyx\u001b[0m in \u001b[0;36mpandas._libs.index.IndexEngine.get_loc\u001b[1;34m()\u001b[0m\n",
      "\u001b[1;32mpandas\\_libs\\hashtable_class_helper.pxi\u001b[0m in \u001b[0;36mpandas._libs.hashtable.PyObjectHashTable.get_item\u001b[1;34m()\u001b[0m\n",
      "\u001b[1;32mpandas\\_libs\\hashtable_class_helper.pxi\u001b[0m in \u001b[0;36mpandas._libs.hashtable.PyObjectHashTable.get_item\u001b[1;34m()\u001b[0m\n",
      "\u001b[1;31mKeyError\u001b[0m: 'InterventionName_lower'"
     ]
    }
   ],
   "source": [
    "steroids_list = []\n",
    "\n",
    "drug_trials[\"BriefTitle_lower\"] = drug_trials[\"BriefTitle\"].str.lower()\n",
    "for drug in corticosteroids:\n",
    "    steroid_df = drug_trials.loc[\n",
    "        (drug_trials[\"InterventionName_lower\"].str.contains(drug)) |\n",
    "        (drug_trials[\"BriefTitle_lower\"].str.contains(drug))\n",
    "    ]\n",
    "    steroids_list.append(steroid_df)\n",
    "\n",
    "merged_steroids = pd.concat(steroids_list)"
   ]
  },
  {
   "cell_type": "code",
   "execution_count": 30,
   "metadata": {},
   "outputs": [
    {
     "ename": "NameError",
     "evalue": "name 'merged_steroids' is not defined",
     "output_type": "error",
     "traceback": [
      "\u001b[1;31m---------------------------------------------------------------------------\u001b[0m",
      "\u001b[1;31mNameError\u001b[0m                                 Traceback (most recent call last)",
      "\u001b[1;32m<ipython-input-30-98994351d7b0>\u001b[0m in \u001b[0;36m<module>\u001b[1;34m\u001b[0m\n\u001b[1;32m----> 1\u001b[1;33m \u001b[0mmerged_steroids\u001b[0m\u001b[1;33m.\u001b[0m\u001b[0mdrop_duplicates\u001b[0m\u001b[1;33m(\u001b[0m\u001b[0msubset\u001b[0m \u001b[1;33m=\u001b[0m\u001b[1;34m\"Rank\"\u001b[0m\u001b[1;33m,\u001b[0m \u001b[0minplace\u001b[0m \u001b[1;33m=\u001b[0m \u001b[1;32mTrue\u001b[0m\u001b[1;33m)\u001b[0m\u001b[1;33m\u001b[0m\u001b[1;33m\u001b[0m\u001b[0m\n\u001b[0m",
      "\u001b[1;31mNameError\u001b[0m: name 'merged_steroids' is not defined"
     ]
    }
   ],
   "source": [
    "merged_steroids.drop_duplicates(subset =\"Rank\", inplace = True)"
   ]
  },
  {
   "cell_type": "code",
   "execution_count": 24,
   "metadata": {
    "scrolled": false
   },
   "outputs": [
    {
     "ename": "NameError",
     "evalue": "name 'merged_steroids' is not defined",
     "output_type": "error",
     "traceback": [
      "\u001b[1;31m---------------------------------------------------------------------------\u001b[0m",
      "\u001b[1;31mNameError\u001b[0m                                 Traceback (most recent call last)",
      "\u001b[1;32m<ipython-input-24-63fad7561f60>\u001b[0m in \u001b[0;36m<module>\u001b[1;34m\u001b[0m\n\u001b[1;32m----> 1\u001b[1;33m \u001b[0mmerged_steroids\u001b[0m\u001b[1;33m.\u001b[0m\u001b[0mshape\u001b[0m\u001b[1;33m\u001b[0m\u001b[1;33m\u001b[0m\u001b[0m\n\u001b[0m",
      "\u001b[1;31mNameError\u001b[0m: name 'merged_steroids' is not defined"
     ]
    }
   ],
   "source": [
    "merged_steroids.shape"
   ]
  },
  {
   "cell_type": "code",
   "execution_count": 25,
   "metadata": {},
   "outputs": [
    {
     "ename": "NameError",
     "evalue": "name 'merged_steroids' is not defined",
     "output_type": "error",
     "traceback": [
      "\u001b[1;31m---------------------------------------------------------------------------\u001b[0m",
      "\u001b[1;31mNameError\u001b[0m                                 Traceback (most recent call last)",
      "\u001b[1;32m<ipython-input-25-fa97ede3b157>\u001b[0m in \u001b[0;36m<module>\u001b[1;34m\u001b[0m\n\u001b[1;32m----> 1\u001b[1;33m \u001b[0mmerged_steroids\u001b[0m \u001b[1;33m=\u001b[0m \u001b[0mmerged_steroids\u001b[0m\u001b[1;33m.\u001b[0m\u001b[0mloc\u001b[0m\u001b[1;33m[\u001b[0m\u001b[0mmerged_steroids\u001b[0m\u001b[1;33m[\u001b[0m\u001b[1;34m\"OverallStatus\"\u001b[0m\u001b[1;33m]\u001b[0m\u001b[1;33m!=\u001b[0m\u001b[1;34m\"Not yet recruiting\"\u001b[0m\u001b[1;33m]\u001b[0m\u001b[1;33m\u001b[0m\u001b[1;33m\u001b[0m\u001b[0m\n\u001b[0m",
      "\u001b[1;31mNameError\u001b[0m: name 'merged_steroids' is not defined"
     ]
    }
   ],
   "source": [
    "merged_steroids = merged_steroids.loc[merged_steroids[\"OverallStatus\"]!=\"Not yet recruiting\"]"
   ]
  },
  {
   "cell_type": "code",
   "execution_count": 25,
   "metadata": {},
   "outputs": [
    {
     "data": {
      "text/html": [
       "<div>\n",
       "<style scoped>\n",
       "    .dataframe tbody tr th:only-of-type {\n",
       "        vertical-align: middle;\n",
       "    }\n",
       "\n",
       "    .dataframe tbody tr th {\n",
       "        vertical-align: top;\n",
       "    }\n",
       "\n",
       "    .dataframe thead th {\n",
       "        text-align: right;\n",
       "    }\n",
       "</style>\n",
       "<table border=\"1\" class=\"dataframe\">\n",
       "  <thead>\n",
       "    <tr style=\"text-align: right;\">\n",
       "      <th></th>\n",
       "      <th>BriefTitle</th>\n",
       "      <th>CompletionDate</th>\n",
       "      <th>Condition</th>\n",
       "      <th>DesignAllocation</th>\n",
       "      <th>EligibilityCriteria</th>\n",
       "      <th>InterventionName</th>\n",
       "      <th>InterventionType</th>\n",
       "      <th>NCTId</th>\n",
       "      <th>OverallStatus</th>\n",
       "      <th>Phase</th>\n",
       "      <th>Rank</th>\n",
       "      <th>ResultsFirstPostDate</th>\n",
       "      <th>StartDate</th>\n",
       "      <th>StudyFirstPostDate</th>\n",
       "      <th>StudyType</th>\n",
       "      <th>InterventionName_lower</th>\n",
       "      <th>BriefTitle_lower</th>\n",
       "    </tr>\n",
       "  </thead>\n",
       "  <tbody>\n",
       "    <tr>\n",
       "      <th>68</th>\n",
       "      <td>Efficacy of Dexamethasone Treatment for Patien...</td>\n",
       "      <td>October 30, 2020</td>\n",
       "      <td>Acute Respiratory Distress Syndrome Caused by ...</td>\n",
       "      <td>Randomized</td>\n",
       "      <td>Inclusion Criteria:\\n\\nage 18 years or older;\\...</td>\n",
       "      <td>Dexamethasone</td>\n",
       "      <td>Drug</td>\n",
       "      <td>NCT04325061</td>\n",
       "      <td>Recruiting</td>\n",
       "      <td>[Phase 4]</td>\n",
       "      <td>969</td>\n",
       "      <td></td>\n",
       "      <td>April 3, 2020</td>\n",
       "      <td>2020-03-27</td>\n",
       "      <td>Interventional</td>\n",
       "      <td>dexamethasone</td>\n",
       "      <td>efficacy of dexamethasone treatment for patien...</td>\n",
       "    </tr>\n",
       "    <tr>\n",
       "      <th>4</th>\n",
       "      <td>Dexamethasone and Oxygen Support Strategies in...</td>\n",
       "      <td>December 31, 2020</td>\n",
       "      <td>Acute Hypoxemic Respiratory Failure COVID-19</td>\n",
       "      <td>Randomized</td>\n",
       "      <td>Inclusion Criteria:\\n\\nAge ≥ 18 years\\nAdmitte...</td>\n",
       "      <td>Dexamethasone injection placebo conventional o...</td>\n",
       "      <td>Drug Drug Procedure Procedure Procedure Procedure</td>\n",
       "      <td>NCT04344730</td>\n",
       "      <td>Recruiting</td>\n",
       "      <td>[Not Applicable]</td>\n",
       "      <td>1805</td>\n",
       "      <td></td>\n",
       "      <td>April 10, 2020</td>\n",
       "      <td>2020-04-14</td>\n",
       "      <td>Interventional</td>\n",
       "      <td>dexamethasone injection placebo conventional o...</td>\n",
       "      <td>dexamethasone and oxygen support strategies in...</td>\n",
       "    </tr>\n",
       "    <tr>\n",
       "      <th>3</th>\n",
       "      <td>NA-831, Atazanavir and Dexamethasone Combinati...</td>\n",
       "      <td>February 15, 2021</td>\n",
       "      <td>Coronavirus Infection Severe Acute Respiratory...</td>\n",
       "      <td>Randomized</td>\n",
       "      <td>Inclusion Criteria:\\n\\nHospitalization for man...</td>\n",
       "      <td>Drug: NA-831 NA-831 and Atazanavir NA-831and D...</td>\n",
       "      <td>Drug Combination Product Combination Product C...</td>\n",
       "      <td>NCT04452565</td>\n",
       "      <td>Recruiting</td>\n",
       "      <td>[Phase 2, Phase 3]</td>\n",
       "      <td>1904</td>\n",
       "      <td></td>\n",
       "      <td>August 15, 2020</td>\n",
       "      <td>2020-06-30</td>\n",
       "      <td>Interventional</td>\n",
       "      <td>drug: na-831 na-831 and atazanavir na-831and d...</td>\n",
       "      <td>na-831, atazanavir and dexamethasone combinati...</td>\n",
       "    </tr>\n",
       "    <tr>\n",
       "      <th>32</th>\n",
       "      <td>COVID-19-associated ARDS Treated With Dexameth...</td>\n",
       "      <td>July 22, 2020</td>\n",
       "      <td>Coronavirus Infection Pneumonia, Viral Acute R...</td>\n",
       "      <td>Randomized</td>\n",
       "      <td>Inclusion Criteria:\\n\\nProbable or confirmed i...</td>\n",
       "      <td>Dexamethasone</td>\n",
       "      <td>Drug</td>\n",
       "      <td>NCT04327401</td>\n",
       "      <td>Terminated</td>\n",
       "      <td>[Phase 3]</td>\n",
       "      <td>2033</td>\n",
       "      <td></td>\n",
       "      <td>April 13, 2020</td>\n",
       "      <td>2020-03-31</td>\n",
       "      <td>Interventional</td>\n",
       "      <td>dexamethasone</td>\n",
       "      <td>covid-19-associated ards treated with dexameth...</td>\n",
       "    </tr>\n",
       "    <tr>\n",
       "      <th>93</th>\n",
       "      <td>Dexamethasone for COVID-19 Related ARDS: a Mul...</td>\n",
       "      <td>January 31, 2021</td>\n",
       "      <td>Respiratory Distress Syndrome, Adult Covid-19</td>\n",
       "      <td>Randomized</td>\n",
       "      <td>Inclusion Criteria:\\n\\nARDS according to Berli...</td>\n",
       "      <td>Dexamethasone (high dose)</td>\n",
       "      <td>Drug</td>\n",
       "      <td>NCT04395105</td>\n",
       "      <td>Recruiting</td>\n",
       "      <td>[Phase 3]</td>\n",
       "      <td>2194</td>\n",
       "      <td></td>\n",
       "      <td>May 21, 2020</td>\n",
       "      <td>2020-05-20</td>\n",
       "      <td>Interventional</td>\n",
       "      <td>dexamethasone (high dose)</td>\n",
       "      <td>dexamethasone for covid-19 related ards: a mul...</td>\n",
       "    </tr>\n",
       "  </tbody>\n",
       "</table>\n",
       "</div>"
      ],
      "text/plain": [
       "                                           BriefTitle     CompletionDate  \\\n",
       "68  Efficacy of Dexamethasone Treatment for Patien...   October 30, 2020   \n",
       "4   Dexamethasone and Oxygen Support Strategies in...  December 31, 2020   \n",
       "3   NA-831, Atazanavir and Dexamethasone Combinati...  February 15, 2021   \n",
       "32  COVID-19-associated ARDS Treated With Dexameth...      July 22, 2020   \n",
       "93  Dexamethasone for COVID-19 Related ARDS: a Mul...   January 31, 2021   \n",
       "\n",
       "                                            Condition DesignAllocation  \\\n",
       "68  Acute Respiratory Distress Syndrome Caused by ...       Randomized   \n",
       "4        Acute Hypoxemic Respiratory Failure COVID-19       Randomized   \n",
       "3   Coronavirus Infection Severe Acute Respiratory...       Randomized   \n",
       "32  Coronavirus Infection Pneumonia, Viral Acute R...       Randomized   \n",
       "93      Respiratory Distress Syndrome, Adult Covid-19       Randomized   \n",
       "\n",
       "                                  EligibilityCriteria  \\\n",
       "68  Inclusion Criteria:\\n\\nage 18 years or older;\\...   \n",
       "4   Inclusion Criteria:\\n\\nAge ≥ 18 years\\nAdmitte...   \n",
       "3   Inclusion Criteria:\\n\\nHospitalization for man...   \n",
       "32  Inclusion Criteria:\\n\\nProbable or confirmed i...   \n",
       "93  Inclusion Criteria:\\n\\nARDS according to Berli...   \n",
       "\n",
       "                                     InterventionName  \\\n",
       "68                                      Dexamethasone   \n",
       "4   Dexamethasone injection placebo conventional o...   \n",
       "3   Drug: NA-831 NA-831 and Atazanavir NA-831and D...   \n",
       "32                                      Dexamethasone   \n",
       "93                          Dexamethasone (high dose)   \n",
       "\n",
       "                                     InterventionType        NCTId  \\\n",
       "68                                               Drug  NCT04325061   \n",
       "4   Drug Drug Procedure Procedure Procedure Procedure  NCT04344730   \n",
       "3   Drug Combination Product Combination Product C...  NCT04452565   \n",
       "32                                               Drug  NCT04327401   \n",
       "93                                               Drug  NCT04395105   \n",
       "\n",
       "   OverallStatus               Phase  Rank ResultsFirstPostDate  \\\n",
       "68    Recruiting           [Phase 4]   969                        \n",
       "4     Recruiting    [Not Applicable]  1805                        \n",
       "3     Recruiting  [Phase 2, Phase 3]  1904                        \n",
       "32    Terminated           [Phase 3]  2033                        \n",
       "93    Recruiting           [Phase 3]  2194                        \n",
       "\n",
       "          StartDate StudyFirstPostDate       StudyType  \\\n",
       "68    April 3, 2020         2020-03-27  Interventional   \n",
       "4    April 10, 2020         2020-04-14  Interventional   \n",
       "3   August 15, 2020         2020-06-30  Interventional   \n",
       "32   April 13, 2020         2020-03-31  Interventional   \n",
       "93     May 21, 2020         2020-05-20  Interventional   \n",
       "\n",
       "                               InterventionName_lower  \\\n",
       "68                                      dexamethasone   \n",
       "4   dexamethasone injection placebo conventional o...   \n",
       "3   drug: na-831 na-831 and atazanavir na-831and d...   \n",
       "32                                      dexamethasone   \n",
       "93                          dexamethasone (high dose)   \n",
       "\n",
       "                                     BriefTitle_lower  \n",
       "68  efficacy of dexamethasone treatment for patien...  \n",
       "4   dexamethasone and oxygen support strategies in...  \n",
       "3   na-831, atazanavir and dexamethasone combinati...  \n",
       "32  covid-19-associated ards treated with dexameth...  \n",
       "93  dexamethasone for covid-19 related ards: a mul...  "
      ]
     },
     "execution_count": 25,
     "metadata": {},
     "output_type": "execute_result"
    }
   ],
   "source": [
    "merged_steroids.head()"
   ]
  },
  {
   "cell_type": "code",
   "execution_count": 40,
   "metadata": {},
   "outputs": [],
   "source": [
    "merged_steroids_randomized = merged_steroids.loc[merged_steroids[\"DesignAllocation\"] == \"Randomized\"]"
   ]
  },
  {
   "cell_type": "code",
   "execution_count": 41,
   "metadata": {
    "scrolled": false
   },
   "outputs": [
    {
     "data": {
      "text/html": [
       "<div>\n",
       "<style scoped>\n",
       "    .dataframe tbody tr th:only-of-type {\n",
       "        vertical-align: middle;\n",
       "    }\n",
       "\n",
       "    .dataframe tbody tr th {\n",
       "        vertical-align: top;\n",
       "    }\n",
       "\n",
       "    .dataframe thead th {\n",
       "        text-align: right;\n",
       "    }\n",
       "</style>\n",
       "<table border=\"1\" class=\"dataframe\">\n",
       "  <thead>\n",
       "    <tr style=\"text-align: right;\">\n",
       "      <th></th>\n",
       "      <th>BriefTitle</th>\n",
       "      <th>CompletionDate</th>\n",
       "      <th>Condition</th>\n",
       "      <th>DesignAllocation</th>\n",
       "      <th>EligibilityCriteria</th>\n",
       "      <th>InterventionName</th>\n",
       "      <th>InterventionType</th>\n",
       "      <th>NCTId</th>\n",
       "      <th>OverallStatus</th>\n",
       "      <th>Phase</th>\n",
       "      <th>Rank</th>\n",
       "      <th>ResultsFirstPostDate</th>\n",
       "      <th>StartDate</th>\n",
       "      <th>StudyFirstPostDate</th>\n",
       "      <th>StudyType</th>\n",
       "      <th>InterventionName_lower</th>\n",
       "      <th>BriefTitle_lower</th>\n",
       "    </tr>\n",
       "  </thead>\n",
       "  <tbody>\n",
       "    <tr>\n",
       "      <th>68</th>\n",
       "      <td>Efficacy of Dexamethasone Treatment for Patien...</td>\n",
       "      <td>October 30, 2020</td>\n",
       "      <td>Acute Respiratory Distress Syndrome Caused by ...</td>\n",
       "      <td>Randomized</td>\n",
       "      <td>Inclusion Criteria:\\n\\nage 18 years or older;\\...</td>\n",
       "      <td>Dexamethasone</td>\n",
       "      <td>Drug</td>\n",
       "      <td>NCT04325061</td>\n",
       "      <td>Recruiting</td>\n",
       "      <td>[Phase 4]</td>\n",
       "      <td>969</td>\n",
       "      <td></td>\n",
       "      <td>April 3, 2020</td>\n",
       "      <td>2020-03-27</td>\n",
       "      <td>Interventional</td>\n",
       "      <td>dexamethasone</td>\n",
       "      <td>efficacy of dexamethasone treatment for patien...</td>\n",
       "    </tr>\n",
       "    <tr>\n",
       "      <th>4</th>\n",
       "      <td>Dexamethasone and Oxygen Support Strategies in...</td>\n",
       "      <td>December 31, 2020</td>\n",
       "      <td>Acute Hypoxemic Respiratory Failure COVID-19</td>\n",
       "      <td>Randomized</td>\n",
       "      <td>Inclusion Criteria:\\n\\nAge ≥ 18 years\\nAdmitte...</td>\n",
       "      <td>Dexamethasone injection placebo conventional o...</td>\n",
       "      <td>Drug Drug Procedure Procedure Procedure Procedure</td>\n",
       "      <td>NCT04344730</td>\n",
       "      <td>Recruiting</td>\n",
       "      <td>[Not Applicable]</td>\n",
       "      <td>1805</td>\n",
       "      <td></td>\n",
       "      <td>April 10, 2020</td>\n",
       "      <td>2020-04-14</td>\n",
       "      <td>Interventional</td>\n",
       "      <td>dexamethasone injection placebo conventional o...</td>\n",
       "      <td>dexamethasone and oxygen support strategies in...</td>\n",
       "    </tr>\n",
       "    <tr>\n",
       "      <th>3</th>\n",
       "      <td>NA-831, Atazanavir and Dexamethasone Combinati...</td>\n",
       "      <td>February 15, 2021</td>\n",
       "      <td>Coronavirus Infection Severe Acute Respiratory...</td>\n",
       "      <td>Randomized</td>\n",
       "      <td>Inclusion Criteria:\\n\\nHospitalization for man...</td>\n",
       "      <td>Drug: NA-831 NA-831 and Atazanavir NA-831and D...</td>\n",
       "      <td>Drug Combination Product Combination Product C...</td>\n",
       "      <td>NCT04452565</td>\n",
       "      <td>Recruiting</td>\n",
       "      <td>[Phase 2, Phase 3]</td>\n",
       "      <td>1904</td>\n",
       "      <td></td>\n",
       "      <td>August 15, 2020</td>\n",
       "      <td>2020-06-30</td>\n",
       "      <td>Interventional</td>\n",
       "      <td>drug: na-831 na-831 and atazanavir na-831and d...</td>\n",
       "      <td>na-831, atazanavir and dexamethasone combinati...</td>\n",
       "    </tr>\n",
       "    <tr>\n",
       "      <th>32</th>\n",
       "      <td>COVID-19-associated ARDS Treated With Dexameth...</td>\n",
       "      <td>July 22, 2020</td>\n",
       "      <td>Coronavirus Infection Pneumonia, Viral Acute R...</td>\n",
       "      <td>Randomized</td>\n",
       "      <td>Inclusion Criteria:\\n\\nProbable or confirmed i...</td>\n",
       "      <td>Dexamethasone</td>\n",
       "      <td>Drug</td>\n",
       "      <td>NCT04327401</td>\n",
       "      <td>Terminated</td>\n",
       "      <td>[Phase 3]</td>\n",
       "      <td>2033</td>\n",
       "      <td></td>\n",
       "      <td>April 13, 2020</td>\n",
       "      <td>2020-03-31</td>\n",
       "      <td>Interventional</td>\n",
       "      <td>dexamethasone</td>\n",
       "      <td>covid-19-associated ards treated with dexameth...</td>\n",
       "    </tr>\n",
       "    <tr>\n",
       "      <th>93</th>\n",
       "      <td>Dexamethasone for COVID-19 Related ARDS: a Mul...</td>\n",
       "      <td>January 31, 2021</td>\n",
       "      <td>Respiratory Distress Syndrome, Adult Covid-19</td>\n",
       "      <td>Randomized</td>\n",
       "      <td>Inclusion Criteria:\\n\\nARDS according to Berli...</td>\n",
       "      <td>Dexamethasone (high dose)</td>\n",
       "      <td>Drug</td>\n",
       "      <td>NCT04395105</td>\n",
       "      <td>Recruiting</td>\n",
       "      <td>[Phase 3]</td>\n",
       "      <td>2194</td>\n",
       "      <td></td>\n",
       "      <td>May 21, 2020</td>\n",
       "      <td>2020-05-20</td>\n",
       "      <td>Interventional</td>\n",
       "      <td>dexamethasone (high dose)</td>\n",
       "      <td>dexamethasone for covid-19 related ards: a mul...</td>\n",
       "    </tr>\n",
       "  </tbody>\n",
       "</table>\n",
       "</div>"
      ],
      "text/plain": [
       "                                           BriefTitle     CompletionDate  \\\n",
       "68  Efficacy of Dexamethasone Treatment for Patien...   October 30, 2020   \n",
       "4   Dexamethasone and Oxygen Support Strategies in...  December 31, 2020   \n",
       "3   NA-831, Atazanavir and Dexamethasone Combinati...  February 15, 2021   \n",
       "32  COVID-19-associated ARDS Treated With Dexameth...      July 22, 2020   \n",
       "93  Dexamethasone for COVID-19 Related ARDS: a Mul...   January 31, 2021   \n",
       "\n",
       "                                            Condition DesignAllocation  \\\n",
       "68  Acute Respiratory Distress Syndrome Caused by ...       Randomized   \n",
       "4        Acute Hypoxemic Respiratory Failure COVID-19       Randomized   \n",
       "3   Coronavirus Infection Severe Acute Respiratory...       Randomized   \n",
       "32  Coronavirus Infection Pneumonia, Viral Acute R...       Randomized   \n",
       "93      Respiratory Distress Syndrome, Adult Covid-19       Randomized   \n",
       "\n",
       "                                  EligibilityCriteria  \\\n",
       "68  Inclusion Criteria:\\n\\nage 18 years or older;\\...   \n",
       "4   Inclusion Criteria:\\n\\nAge ≥ 18 years\\nAdmitte...   \n",
       "3   Inclusion Criteria:\\n\\nHospitalization for man...   \n",
       "32  Inclusion Criteria:\\n\\nProbable or confirmed i...   \n",
       "93  Inclusion Criteria:\\n\\nARDS according to Berli...   \n",
       "\n",
       "                                     InterventionName  \\\n",
       "68                                      Dexamethasone   \n",
       "4   Dexamethasone injection placebo conventional o...   \n",
       "3   Drug: NA-831 NA-831 and Atazanavir NA-831and D...   \n",
       "32                                      Dexamethasone   \n",
       "93                          Dexamethasone (high dose)   \n",
       "\n",
       "                                     InterventionType        NCTId  \\\n",
       "68                                               Drug  NCT04325061   \n",
       "4   Drug Drug Procedure Procedure Procedure Procedure  NCT04344730   \n",
       "3   Drug Combination Product Combination Product C...  NCT04452565   \n",
       "32                                               Drug  NCT04327401   \n",
       "93                                               Drug  NCT04395105   \n",
       "\n",
       "   OverallStatus               Phase  Rank ResultsFirstPostDate  \\\n",
       "68    Recruiting           [Phase 4]   969                        \n",
       "4     Recruiting    [Not Applicable]  1805                        \n",
       "3     Recruiting  [Phase 2, Phase 3]  1904                        \n",
       "32    Terminated           [Phase 3]  2033                        \n",
       "93    Recruiting           [Phase 3]  2194                        \n",
       "\n",
       "          StartDate StudyFirstPostDate       StudyType  \\\n",
       "68    April 3, 2020         2020-03-27  Interventional   \n",
       "4    April 10, 2020         2020-04-14  Interventional   \n",
       "3   August 15, 2020         2020-06-30  Interventional   \n",
       "32   April 13, 2020         2020-03-31  Interventional   \n",
       "93     May 21, 2020         2020-05-20  Interventional   \n",
       "\n",
       "                               InterventionName_lower  \\\n",
       "68                                      dexamethasone   \n",
       "4   dexamethasone injection placebo conventional o...   \n",
       "3   drug: na-831 na-831 and atazanavir na-831and d...   \n",
       "32                                      dexamethasone   \n",
       "93                          dexamethasone (high dose)   \n",
       "\n",
       "                                     BriefTitle_lower  \n",
       "68  efficacy of dexamethasone treatment for patien...  \n",
       "4   dexamethasone and oxygen support strategies in...  \n",
       "3   na-831, atazanavir and dexamethasone combinati...  \n",
       "32  covid-19-associated ards treated with dexameth...  \n",
       "93  dexamethasone for covid-19 related ards: a mul...  "
      ]
     },
     "execution_count": 41,
     "metadata": {},
     "output_type": "execute_result"
    }
   ],
   "source": [
    "merged_steroids_randomized.head()"
   ]
  },
  {
   "cell_type": "code",
   "execution_count": 42,
   "metadata": {},
   "outputs": [
    {
     "data": {
      "text/plain": [
       "(27, 17)"
      ]
     },
     "execution_count": 42,
     "metadata": {},
     "output_type": "execute_result"
    }
   ],
   "source": [
    "merged_steroids_randomized.shape"
   ]
  },
  {
   "cell_type": "markdown",
   "metadata": {},
   "source": [
    "Illustrating selected trials according to start and ending date"
   ]
  },
  {
   "cell_type": "code",
   "execution_count": 48,
   "metadata": {},
   "outputs": [],
   "source": [
    "final_steroids_df = pd.read_excel(\"steroids_final_data.xlsx\")"
   ]
  },
  {
   "cell_type": "code",
   "execution_count": 49,
   "metadata": {},
   "outputs": [
    {
     "data": {
      "text/html": [
       "<div>\n",
       "<style scoped>\n",
       "    .dataframe tbody tr th:only-of-type {\n",
       "        vertical-align: middle;\n",
       "    }\n",
       "\n",
       "    .dataframe tbody tr th {\n",
       "        vertical-align: top;\n",
       "    }\n",
       "\n",
       "    .dataframe thead th {\n",
       "        text-align: right;\n",
       "    }\n",
       "</style>\n",
       "<table border=\"1\" class=\"dataframe\">\n",
       "  <thead>\n",
       "    <tr style=\"text-align: right;\">\n",
       "      <th></th>\n",
       "      <th>NCTId</th>\n",
       "      <th>Experimental</th>\n",
       "      <th>Combination treatment</th>\n",
       "      <th>Experimental or Control</th>\n",
       "      <th>Condition</th>\n",
       "      <th>Phase</th>\n",
       "      <th>Actual Start Date</th>\n",
       "      <th>Primary Completion Date</th>\n",
       "      <th>Sponsor</th>\n",
       "    </tr>\n",
       "  </thead>\n",
       "  <tbody>\n",
       "    <tr>\n",
       "      <th>0</th>\n",
       "      <td>NCT04320615</td>\n",
       "      <td>Tocilizumab</td>\n",
       "      <td>-</td>\n",
       "      <td>Placebo</td>\n",
       "      <td>Covid-19 Pneumonia</td>\n",
       "      <td>III</td>\n",
       "      <td>2020-04-03</td>\n",
       "      <td>2020-07-28</td>\n",
       "      <td>Hoffmann-La Roche</td>\n",
       "    </tr>\n",
       "    <tr>\n",
       "      <th>1</th>\n",
       "      <td>NCT04381936</td>\n",
       "      <td>Dexamethasone</td>\n",
       "      <td>-</td>\n",
       "      <td>Antivirals, antibiotics, anti-inflammatory agents</td>\n",
       "      <td>SARS-CoV-2 infection</td>\n",
       "      <td>II/III</td>\n",
       "      <td>2020-03-19</td>\n",
       "      <td>2021-12-31</td>\n",
       "      <td>University of Oxford</td>\n",
       "    </tr>\n",
       "    <tr>\n",
       "      <th>2</th>\n",
       "      <td>NCT04325061</td>\n",
       "      <td>Dexamethasone</td>\n",
       "      <td>-</td>\n",
       "      <td>Standard intensive care</td>\n",
       "      <td>ARDS caused by covid-19</td>\n",
       "      <td>IV</td>\n",
       "      <td>2020-04-03</td>\n",
       "      <td>2020-10-30</td>\n",
       "      <td>Dr. Negrin University Hospital</td>\n",
       "    </tr>\n",
       "    <tr>\n",
       "      <th>3</th>\n",
       "      <td>NCT04416399</td>\n",
       "      <td>Budesonide</td>\n",
       "      <td>-</td>\n",
       "      <td>Standard care</td>\n",
       "      <td>Early covid-19 Infection</td>\n",
       "      <td>II</td>\n",
       "      <td>2020-07-16</td>\n",
       "      <td>2020-09-15</td>\n",
       "      <td>University of Oxford</td>\n",
       "    </tr>\n",
       "    <tr>\n",
       "      <th>4</th>\n",
       "      <td>NCT04331054</td>\n",
       "      <td>Budesonide</td>\n",
       "      <td>Formoterol</td>\n",
       "      <td>Standard care</td>\n",
       "      <td>Covid-19 infection</td>\n",
       "      <td>III</td>\n",
       "      <td>2020-04-13</td>\n",
       "      <td>2020-07-13</td>\n",
       "      <td>Hôpitaux de Paris</td>\n",
       "    </tr>\n",
       "    <tr>\n",
       "      <th>5</th>\n",
       "      <td>NCT04451174</td>\n",
       "      <td>Prednisone</td>\n",
       "      <td>-</td>\n",
       "      <td>Standard care</td>\n",
       "      <td>Moderate covid-19 Pneumonia</td>\n",
       "      <td>III</td>\n",
       "      <td>2020-06-23</td>\n",
       "      <td>2020-09-30</td>\n",
       "      <td>University of Chile</td>\n",
       "    </tr>\n",
       "    <tr>\n",
       "      <th>6</th>\n",
       "      <td>NCT04263402</td>\n",
       "      <td>Methylprednisolone</td>\n",
       "      <td>-</td>\n",
       "      <td>Methylprednisolone higher dose</td>\n",
       "      <td>Covid-19 severe pneumonia</td>\n",
       "      <td>IV</td>\n",
       "      <td>2020-02-01</td>\n",
       "      <td>2020-06-01</td>\n",
       "      <td>Tongji Hospital</td>\n",
       "    </tr>\n",
       "    <tr>\n",
       "      <th>7</th>\n",
       "      <td>NCT04485429</td>\n",
       "      <td>Methylprednisolone</td>\n",
       "      <td>Heparine</td>\n",
       "      <td>Heparine</td>\n",
       "      <td>Covid-19 pneumonia</td>\n",
       "      <td>III</td>\n",
       "      <td>2020-07-20</td>\n",
       "      <td>2020-12-31</td>\n",
       "      <td>D'Or Institute for Research and Education</td>\n",
       "    </tr>\n",
       "    <tr>\n",
       "      <th>8</th>\n",
       "      <td>NCT04273321</td>\n",
       "      <td>Methylprednisolone</td>\n",
       "      <td>-</td>\n",
       "      <td>-</td>\n",
       "      <td>Covid-19 pneumonia</td>\n",
       "      <td>-</td>\n",
       "      <td>2020-02-14</td>\n",
       "      <td>2020-04-15</td>\n",
       "      <td>Beijing Chao Yang Hospital</td>\n",
       "    </tr>\n",
       "    <tr>\n",
       "      <th>9</th>\n",
       "      <td>NCT04349410</td>\n",
       "      <td>Methylprednisolone</td>\n",
       "      <td>-</td>\n",
       "      <td>Antibiotics, Tocilizumab, Remdesivir</td>\n",
       "      <td>Covid-19</td>\n",
       "      <td>II/III</td>\n",
       "      <td>2020-04-11</td>\n",
       "      <td>2020-10-11</td>\n",
       "      <td>The Camelot Foundation</td>\n",
       "    </tr>\n",
       "  </tbody>\n",
       "</table>\n",
       "</div>"
      ],
      "text/plain": [
       "         NCTId        Experimental Combination treatment  \\\n",
       "0  NCT04320615         Tocilizumab                     -   \n",
       "1  NCT04381936       Dexamethasone                     -   \n",
       "2  NCT04325061       Dexamethasone                     -   \n",
       "3  NCT04416399          Budesonide                     -   \n",
       "4  NCT04331054          Budesonide            Formoterol   \n",
       "5  NCT04451174          Prednisone                     -   \n",
       "6  NCT04263402  Methylprednisolone                     -   \n",
       "7  NCT04485429  Methylprednisolone              Heparine   \n",
       "8  NCT04273321  Methylprednisolone                     -   \n",
       "9  NCT04349410  Methylprednisolone                     -   \n",
       "\n",
       "                             Experimental or Control  \\\n",
       "0                                            Placebo   \n",
       "1  Antivirals, antibiotics, anti-inflammatory agents   \n",
       "2                            Standard intensive care   \n",
       "3                                      Standard care   \n",
       "4                                      Standard care   \n",
       "5                                      Standard care   \n",
       "6                     Methylprednisolone higher dose   \n",
       "7                                           Heparine   \n",
       "8                                                  -   \n",
       "9               Antibiotics, Tocilizumab, Remdesivir   \n",
       "\n",
       "                     Condition   Phase Actual Start Date  \\\n",
       "0           Covid-19 Pneumonia     III        2020-04-03   \n",
       "1         SARS-CoV-2 infection  II/III        2020-03-19   \n",
       "2      ARDS caused by covid-19      IV        2020-04-03   \n",
       "3     Early covid-19 Infection      II        2020-07-16   \n",
       "4           Covid-19 infection     III        2020-04-13   \n",
       "5  Moderate covid-19 Pneumonia     III        2020-06-23   \n",
       "6    Covid-19 severe pneumonia      IV        2020-02-01   \n",
       "7           Covid-19 pneumonia     III        2020-07-20   \n",
       "8           Covid-19 pneumonia       -        2020-02-14   \n",
       "9                     Covid-19  II/III        2020-04-11   \n",
       "\n",
       "  Primary Completion Date                                    Sponsor  \n",
       "0              2020-07-28                          Hoffmann-La Roche  \n",
       "1              2021-12-31                      University of Oxford   \n",
       "2              2020-10-30             Dr. Negrin University Hospital  \n",
       "3              2020-09-15                       University of Oxford  \n",
       "4              2020-07-13                          Hôpitaux de Paris  \n",
       "5              2020-09-30                        University of Chile  \n",
       "6              2020-06-01                            Tongji Hospital  \n",
       "7              2020-12-31  D'Or Institute for Research and Education  \n",
       "8              2020-04-15                 Beijing Chao Yang Hospital  \n",
       "9              2020-10-11                     The Camelot Foundation  "
      ]
     },
     "execution_count": 49,
     "metadata": {},
     "output_type": "execute_result"
    }
   ],
   "source": [
    "final_steroids_df"
   ]
  },
  {
   "cell_type": "code",
   "execution_count": 50,
   "metadata": {},
   "outputs": [
    {
     "data": {
      "application/vnd.plotly.v1+json": {
       "config": {
        "plotlyServerURL": "https://plot.ly"
       },
       "data": [
        {
         "alignmentgroup": "True",
         "base": [
          "2020-04-03T00:00:00"
         ],
         "hovertemplate": "Experimental=Tocilizumab<br>Actual Start Date=%{base}<br>Primary Completion Date=%{x}<br>Sponsor=%{y}<extra></extra>",
         "legendgroup": "Tocilizumab",
         "marker": {
          "color": "#636efa"
         },
         "name": "Tocilizumab",
         "offsetgroup": "Tocilizumab",
         "orientation": "h",
         "showlegend": true,
         "textposition": "auto",
         "type": "bar",
         "x": [
          10022400000
         ],
         "xaxis": "x",
         "y": [
          "Hoffmann-La Roche"
         ],
         "yaxis": "y"
        },
        {
         "alignmentgroup": "True",
         "base": [
          "2020-03-19T00:00:00",
          "2020-04-03T00:00:00"
         ],
         "hovertemplate": "Experimental=Dexamethasone<br>Actual Start Date=%{base}<br>Primary Completion Date=%{x}<br>Sponsor=%{y}<extra></extra>",
         "legendgroup": "Dexamethasone",
         "marker": {
          "color": "#EF553B"
         },
         "name": "Dexamethasone",
         "offsetgroup": "Dexamethasone",
         "orientation": "h",
         "showlegend": true,
         "textposition": "auto",
         "type": "bar",
         "x": [
          56332800000,
          18144000000
         ],
         "xaxis": "x",
         "y": [
          "University of Oxford ",
          "Dr. Negrin University Hospital"
         ],
         "yaxis": "y"
        },
        {
         "alignmentgroup": "True",
         "base": [
          "2020-07-16T00:00:00",
          "2020-04-13T00:00:00"
         ],
         "hovertemplate": "Experimental=Budesonide<br>Actual Start Date=%{base}<br>Primary Completion Date=%{x}<br>Sponsor=%{y}<extra></extra>",
         "legendgroup": "Budesonide",
         "marker": {
          "color": "#00cc96"
         },
         "name": "Budesonide",
         "offsetgroup": "Budesonide",
         "orientation": "h",
         "showlegend": true,
         "textposition": "auto",
         "type": "bar",
         "x": [
          5270400000,
          7862400000
         ],
         "xaxis": "x",
         "y": [
          "University of Oxford",
          "Hôpitaux de Paris"
         ],
         "yaxis": "y"
        },
        {
         "alignmentgroup": "True",
         "base": [
          "2020-06-23T00:00:00"
         ],
         "hovertemplate": "Experimental=Prednisone<br>Actual Start Date=%{base}<br>Primary Completion Date=%{x}<br>Sponsor=%{y}<extra></extra>",
         "legendgroup": "Prednisone",
         "marker": {
          "color": "#ab63fa"
         },
         "name": "Prednisone",
         "offsetgroup": "Prednisone",
         "orientation": "h",
         "showlegend": true,
         "textposition": "auto",
         "type": "bar",
         "x": [
          8553600000
         ],
         "xaxis": "x",
         "y": [
          "University of Chile"
         ],
         "yaxis": "y"
        },
        {
         "alignmentgroup": "True",
         "base": [
          "2020-02-01T00:00:00",
          "2020-07-20T00:00:00",
          "2020-02-14T00:00:00",
          "2020-04-11T00:00:00"
         ],
         "hovertemplate": "Experimental=Methylprednisolone<br>Actual Start Date=%{base}<br>Primary Completion Date=%{x}<br>Sponsor=%{y}<extra></extra>",
         "legendgroup": "Methylprednisolone",
         "marker": {
          "color": "#FFA15A"
         },
         "name": "Methylprednisolone",
         "offsetgroup": "Methylprednisolone",
         "orientation": "h",
         "showlegend": true,
         "textposition": "auto",
         "type": "bar",
         "x": [
          10454400000,
          14169600000,
          5270400000,
          15811200000
         ],
         "xaxis": "x",
         "y": [
          "Tongji Hospital",
          "D'Or Institute for Research and Education",
          "Beijing Chao Yang Hospital",
          "The Camelot Foundation"
         ],
         "yaxis": "y"
        }
       ],
       "layout": {
        "barmode": "overlay",
        "legend": {
         "title": {
          "text": "Experimental"
         },
         "tracegroupgap": 0
        },
        "margin": {
         "t": 60
        },
        "template": {
         "data": {
          "bar": [
           {
            "error_x": {
             "color": "#2a3f5f"
            },
            "error_y": {
             "color": "#2a3f5f"
            },
            "marker": {
             "line": {
              "color": "#E5ECF6",
              "width": 0.5
             }
            },
            "type": "bar"
           }
          ],
          "barpolar": [
           {
            "marker": {
             "line": {
              "color": "#E5ECF6",
              "width": 0.5
             }
            },
            "type": "barpolar"
           }
          ],
          "carpet": [
           {
            "aaxis": {
             "endlinecolor": "#2a3f5f",
             "gridcolor": "white",
             "linecolor": "white",
             "minorgridcolor": "white",
             "startlinecolor": "#2a3f5f"
            },
            "baxis": {
             "endlinecolor": "#2a3f5f",
             "gridcolor": "white",
             "linecolor": "white",
             "minorgridcolor": "white",
             "startlinecolor": "#2a3f5f"
            },
            "type": "carpet"
           }
          ],
          "choropleth": [
           {
            "colorbar": {
             "outlinewidth": 0,
             "ticks": ""
            },
            "type": "choropleth"
           }
          ],
          "contour": [
           {
            "colorbar": {
             "outlinewidth": 0,
             "ticks": ""
            },
            "colorscale": [
             [
              0,
              "#0d0887"
             ],
             [
              0.1111111111111111,
              "#46039f"
             ],
             [
              0.2222222222222222,
              "#7201a8"
             ],
             [
              0.3333333333333333,
              "#9c179e"
             ],
             [
              0.4444444444444444,
              "#bd3786"
             ],
             [
              0.5555555555555556,
              "#d8576b"
             ],
             [
              0.6666666666666666,
              "#ed7953"
             ],
             [
              0.7777777777777778,
              "#fb9f3a"
             ],
             [
              0.8888888888888888,
              "#fdca26"
             ],
             [
              1,
              "#f0f921"
             ]
            ],
            "type": "contour"
           }
          ],
          "contourcarpet": [
           {
            "colorbar": {
             "outlinewidth": 0,
             "ticks": ""
            },
            "type": "contourcarpet"
           }
          ],
          "heatmap": [
           {
            "colorbar": {
             "outlinewidth": 0,
             "ticks": ""
            },
            "colorscale": [
             [
              0,
              "#0d0887"
             ],
             [
              0.1111111111111111,
              "#46039f"
             ],
             [
              0.2222222222222222,
              "#7201a8"
             ],
             [
              0.3333333333333333,
              "#9c179e"
             ],
             [
              0.4444444444444444,
              "#bd3786"
             ],
             [
              0.5555555555555556,
              "#d8576b"
             ],
             [
              0.6666666666666666,
              "#ed7953"
             ],
             [
              0.7777777777777778,
              "#fb9f3a"
             ],
             [
              0.8888888888888888,
              "#fdca26"
             ],
             [
              1,
              "#f0f921"
             ]
            ],
            "type": "heatmap"
           }
          ],
          "heatmapgl": [
           {
            "colorbar": {
             "outlinewidth": 0,
             "ticks": ""
            },
            "colorscale": [
             [
              0,
              "#0d0887"
             ],
             [
              0.1111111111111111,
              "#46039f"
             ],
             [
              0.2222222222222222,
              "#7201a8"
             ],
             [
              0.3333333333333333,
              "#9c179e"
             ],
             [
              0.4444444444444444,
              "#bd3786"
             ],
             [
              0.5555555555555556,
              "#d8576b"
             ],
             [
              0.6666666666666666,
              "#ed7953"
             ],
             [
              0.7777777777777778,
              "#fb9f3a"
             ],
             [
              0.8888888888888888,
              "#fdca26"
             ],
             [
              1,
              "#f0f921"
             ]
            ],
            "type": "heatmapgl"
           }
          ],
          "histogram": [
           {
            "marker": {
             "colorbar": {
              "outlinewidth": 0,
              "ticks": ""
             }
            },
            "type": "histogram"
           }
          ],
          "histogram2d": [
           {
            "colorbar": {
             "outlinewidth": 0,
             "ticks": ""
            },
            "colorscale": [
             [
              0,
              "#0d0887"
             ],
             [
              0.1111111111111111,
              "#46039f"
             ],
             [
              0.2222222222222222,
              "#7201a8"
             ],
             [
              0.3333333333333333,
              "#9c179e"
             ],
             [
              0.4444444444444444,
              "#bd3786"
             ],
             [
              0.5555555555555556,
              "#d8576b"
             ],
             [
              0.6666666666666666,
              "#ed7953"
             ],
             [
              0.7777777777777778,
              "#fb9f3a"
             ],
             [
              0.8888888888888888,
              "#fdca26"
             ],
             [
              1,
              "#f0f921"
             ]
            ],
            "type": "histogram2d"
           }
          ],
          "histogram2dcontour": [
           {
            "colorbar": {
             "outlinewidth": 0,
             "ticks": ""
            },
            "colorscale": [
             [
              0,
              "#0d0887"
             ],
             [
              0.1111111111111111,
              "#46039f"
             ],
             [
              0.2222222222222222,
              "#7201a8"
             ],
             [
              0.3333333333333333,
              "#9c179e"
             ],
             [
              0.4444444444444444,
              "#bd3786"
             ],
             [
              0.5555555555555556,
              "#d8576b"
             ],
             [
              0.6666666666666666,
              "#ed7953"
             ],
             [
              0.7777777777777778,
              "#fb9f3a"
             ],
             [
              0.8888888888888888,
              "#fdca26"
             ],
             [
              1,
              "#f0f921"
             ]
            ],
            "type": "histogram2dcontour"
           }
          ],
          "mesh3d": [
           {
            "colorbar": {
             "outlinewidth": 0,
             "ticks": ""
            },
            "type": "mesh3d"
           }
          ],
          "parcoords": [
           {
            "line": {
             "colorbar": {
              "outlinewidth": 0,
              "ticks": ""
             }
            },
            "type": "parcoords"
           }
          ],
          "pie": [
           {
            "automargin": true,
            "type": "pie"
           }
          ],
          "scatter": [
           {
            "marker": {
             "colorbar": {
              "outlinewidth": 0,
              "ticks": ""
             }
            },
            "type": "scatter"
           }
          ],
          "scatter3d": [
           {
            "line": {
             "colorbar": {
              "outlinewidth": 0,
              "ticks": ""
             }
            },
            "marker": {
             "colorbar": {
              "outlinewidth": 0,
              "ticks": ""
             }
            },
            "type": "scatter3d"
           }
          ],
          "scattercarpet": [
           {
            "marker": {
             "colorbar": {
              "outlinewidth": 0,
              "ticks": ""
             }
            },
            "type": "scattercarpet"
           }
          ],
          "scattergeo": [
           {
            "marker": {
             "colorbar": {
              "outlinewidth": 0,
              "ticks": ""
             }
            },
            "type": "scattergeo"
           }
          ],
          "scattergl": [
           {
            "marker": {
             "colorbar": {
              "outlinewidth": 0,
              "ticks": ""
             }
            },
            "type": "scattergl"
           }
          ],
          "scattermapbox": [
           {
            "marker": {
             "colorbar": {
              "outlinewidth": 0,
              "ticks": ""
             }
            },
            "type": "scattermapbox"
           }
          ],
          "scatterpolar": [
           {
            "marker": {
             "colorbar": {
              "outlinewidth": 0,
              "ticks": ""
             }
            },
            "type": "scatterpolar"
           }
          ],
          "scatterpolargl": [
           {
            "marker": {
             "colorbar": {
              "outlinewidth": 0,
              "ticks": ""
             }
            },
            "type": "scatterpolargl"
           }
          ],
          "scatterternary": [
           {
            "marker": {
             "colorbar": {
              "outlinewidth": 0,
              "ticks": ""
             }
            },
            "type": "scatterternary"
           }
          ],
          "surface": [
           {
            "colorbar": {
             "outlinewidth": 0,
             "ticks": ""
            },
            "colorscale": [
             [
              0,
              "#0d0887"
             ],
             [
              0.1111111111111111,
              "#46039f"
             ],
             [
              0.2222222222222222,
              "#7201a8"
             ],
             [
              0.3333333333333333,
              "#9c179e"
             ],
             [
              0.4444444444444444,
              "#bd3786"
             ],
             [
              0.5555555555555556,
              "#d8576b"
             ],
             [
              0.6666666666666666,
              "#ed7953"
             ],
             [
              0.7777777777777778,
              "#fb9f3a"
             ],
             [
              0.8888888888888888,
              "#fdca26"
             ],
             [
              1,
              "#f0f921"
             ]
            ],
            "type": "surface"
           }
          ],
          "table": [
           {
            "cells": {
             "fill": {
              "color": "#EBF0F8"
             },
             "line": {
              "color": "white"
             }
            },
            "header": {
             "fill": {
              "color": "#C8D4E3"
             },
             "line": {
              "color": "white"
             }
            },
            "type": "table"
           }
          ]
         },
         "layout": {
          "annotationdefaults": {
           "arrowcolor": "#2a3f5f",
           "arrowhead": 0,
           "arrowwidth": 1
          },
          "coloraxis": {
           "colorbar": {
            "outlinewidth": 0,
            "ticks": ""
           }
          },
          "colorscale": {
           "diverging": [
            [
             0,
             "#8e0152"
            ],
            [
             0.1,
             "#c51b7d"
            ],
            [
             0.2,
             "#de77ae"
            ],
            [
             0.3,
             "#f1b6da"
            ],
            [
             0.4,
             "#fde0ef"
            ],
            [
             0.5,
             "#f7f7f7"
            ],
            [
             0.6,
             "#e6f5d0"
            ],
            [
             0.7,
             "#b8e186"
            ],
            [
             0.8,
             "#7fbc41"
            ],
            [
             0.9,
             "#4d9221"
            ],
            [
             1,
             "#276419"
            ]
           ],
           "sequential": [
            [
             0,
             "#0d0887"
            ],
            [
             0.1111111111111111,
             "#46039f"
            ],
            [
             0.2222222222222222,
             "#7201a8"
            ],
            [
             0.3333333333333333,
             "#9c179e"
            ],
            [
             0.4444444444444444,
             "#bd3786"
            ],
            [
             0.5555555555555556,
             "#d8576b"
            ],
            [
             0.6666666666666666,
             "#ed7953"
            ],
            [
             0.7777777777777778,
             "#fb9f3a"
            ],
            [
             0.8888888888888888,
             "#fdca26"
            ],
            [
             1,
             "#f0f921"
            ]
           ],
           "sequentialminus": [
            [
             0,
             "#0d0887"
            ],
            [
             0.1111111111111111,
             "#46039f"
            ],
            [
             0.2222222222222222,
             "#7201a8"
            ],
            [
             0.3333333333333333,
             "#9c179e"
            ],
            [
             0.4444444444444444,
             "#bd3786"
            ],
            [
             0.5555555555555556,
             "#d8576b"
            ],
            [
             0.6666666666666666,
             "#ed7953"
            ],
            [
             0.7777777777777778,
             "#fb9f3a"
            ],
            [
             0.8888888888888888,
             "#fdca26"
            ],
            [
             1,
             "#f0f921"
            ]
           ]
          },
          "colorway": [
           "#636efa",
           "#EF553B",
           "#00cc96",
           "#ab63fa",
           "#FFA15A",
           "#19d3f3",
           "#FF6692",
           "#B6E880",
           "#FF97FF",
           "#FECB52"
          ],
          "font": {
           "color": "#2a3f5f"
          },
          "geo": {
           "bgcolor": "white",
           "lakecolor": "white",
           "landcolor": "#E5ECF6",
           "showlakes": true,
           "showland": true,
           "subunitcolor": "white"
          },
          "hoverlabel": {
           "align": "left"
          },
          "hovermode": "closest",
          "mapbox": {
           "style": "light"
          },
          "paper_bgcolor": "white",
          "plot_bgcolor": "#E5ECF6",
          "polar": {
           "angularaxis": {
            "gridcolor": "white",
            "linecolor": "white",
            "ticks": ""
           },
           "bgcolor": "#E5ECF6",
           "radialaxis": {
            "gridcolor": "white",
            "linecolor": "white",
            "ticks": ""
           }
          },
          "scene": {
           "xaxis": {
            "backgroundcolor": "#E5ECF6",
            "gridcolor": "white",
            "gridwidth": 2,
            "linecolor": "white",
            "showbackground": true,
            "ticks": "",
            "zerolinecolor": "white"
           },
           "yaxis": {
            "backgroundcolor": "#E5ECF6",
            "gridcolor": "white",
            "gridwidth": 2,
            "linecolor": "white",
            "showbackground": true,
            "ticks": "",
            "zerolinecolor": "white"
           },
           "zaxis": {
            "backgroundcolor": "#E5ECF6",
            "gridcolor": "white",
            "gridwidth": 2,
            "linecolor": "white",
            "showbackground": true,
            "ticks": "",
            "zerolinecolor": "white"
           }
          },
          "shapedefaults": {
           "line": {
            "color": "#2a3f5f"
           }
          },
          "ternary": {
           "aaxis": {
            "gridcolor": "white",
            "linecolor": "white",
            "ticks": ""
           },
           "baxis": {
            "gridcolor": "white",
            "linecolor": "white",
            "ticks": ""
           },
           "bgcolor": "#E5ECF6",
           "caxis": {
            "gridcolor": "white",
            "linecolor": "white",
            "ticks": ""
           }
          },
          "title": {
           "x": 0.05
          },
          "xaxis": {
           "automargin": true,
           "gridcolor": "white",
           "linecolor": "white",
           "ticks": "",
           "title": {
            "standoff": 15
           },
           "zerolinecolor": "white",
           "zerolinewidth": 2
          },
          "yaxis": {
           "automargin": true,
           "gridcolor": "white",
           "linecolor": "white",
           "ticks": "",
           "title": {
            "standoff": 15
           },
           "zerolinecolor": "white",
           "zerolinewidth": 2
          }
         }
        },
        "xaxis": {
         "anchor": "y",
         "domain": [
          0,
          1
         ],
         "type": "date"
        },
        "yaxis": {
         "anchor": "x",
         "domain": [
          0,
          1
         ],
         "title": {
          "text": "Sponsor"
         }
        }
       }
      },
      "text/html": [
       "<div>\n",
       "        \n",
       "        \n",
       "            <div id=\"f4da672d-4ed9-4913-a2b2-354c65ee1f2e\" class=\"plotly-graph-div\" style=\"height:525px; width:100%;\"></div>\n",
       "            <script type=\"text/javascript\">\n",
       "                require([\"plotly\"], function(Plotly) {\n",
       "                    window.PLOTLYENV=window.PLOTLYENV || {};\n",
       "                    \n",
       "                if (document.getElementById(\"f4da672d-4ed9-4913-a2b2-354c65ee1f2e\")) {\n",
       "                    Plotly.newPlot(\n",
       "                        'f4da672d-4ed9-4913-a2b2-354c65ee1f2e',\n",
       "                        [{\"alignmentgroup\": \"True\", \"base\": [\"2020-04-03T00:00:00\"], \"hovertemplate\": \"Experimental=Tocilizumab<br>Actual Start Date=%{base}<br>Primary Completion Date=%{x}<br>Sponsor=%{y}<extra></extra>\", \"legendgroup\": \"Tocilizumab\", \"marker\": {\"color\": \"#636efa\"}, \"name\": \"Tocilizumab\", \"offsetgroup\": \"Tocilizumab\", \"orientation\": \"h\", \"showlegend\": true, \"textposition\": \"auto\", \"type\": \"bar\", \"x\": [10022400000.0], \"xaxis\": \"x\", \"y\": [\"Hoffmann-La Roche\"], \"yaxis\": \"y\"}, {\"alignmentgroup\": \"True\", \"base\": [\"2020-03-19T00:00:00\", \"2020-04-03T00:00:00\"], \"hovertemplate\": \"Experimental=Dexamethasone<br>Actual Start Date=%{base}<br>Primary Completion Date=%{x}<br>Sponsor=%{y}<extra></extra>\", \"legendgroup\": \"Dexamethasone\", \"marker\": {\"color\": \"#EF553B\"}, \"name\": \"Dexamethasone\", \"offsetgroup\": \"Dexamethasone\", \"orientation\": \"h\", \"showlegend\": true, \"textposition\": \"auto\", \"type\": \"bar\", \"x\": [56332800000.0, 18144000000.0], \"xaxis\": \"x\", \"y\": [\"University of Oxford \", \"Dr. Negrin University Hospital\"], \"yaxis\": \"y\"}, {\"alignmentgroup\": \"True\", \"base\": [\"2020-07-16T00:00:00\", \"2020-04-13T00:00:00\"], \"hovertemplate\": \"Experimental=Budesonide<br>Actual Start Date=%{base}<br>Primary Completion Date=%{x}<br>Sponsor=%{y}<extra></extra>\", \"legendgroup\": \"Budesonide\", \"marker\": {\"color\": \"#00cc96\"}, \"name\": \"Budesonide\", \"offsetgroup\": \"Budesonide\", \"orientation\": \"h\", \"showlegend\": true, \"textposition\": \"auto\", \"type\": \"bar\", \"x\": [5270400000.0, 7862400000.0], \"xaxis\": \"x\", \"y\": [\"University of Oxford\", \"H\\u00f4pitaux de Paris\"], \"yaxis\": \"y\"}, {\"alignmentgroup\": \"True\", \"base\": [\"2020-06-23T00:00:00\"], \"hovertemplate\": \"Experimental=Prednisone<br>Actual Start Date=%{base}<br>Primary Completion Date=%{x}<br>Sponsor=%{y}<extra></extra>\", \"legendgroup\": \"Prednisone\", \"marker\": {\"color\": \"#ab63fa\"}, \"name\": \"Prednisone\", \"offsetgroup\": \"Prednisone\", \"orientation\": \"h\", \"showlegend\": true, \"textposition\": \"auto\", \"type\": \"bar\", \"x\": [8553600000.0], \"xaxis\": \"x\", \"y\": [\"University of Chile\"], \"yaxis\": \"y\"}, {\"alignmentgroup\": \"True\", \"base\": [\"2020-02-01T00:00:00\", \"2020-07-20T00:00:00\", \"2020-02-14T00:00:00\", \"2020-04-11T00:00:00\"], \"hovertemplate\": \"Experimental=Methylprednisolone<br>Actual Start Date=%{base}<br>Primary Completion Date=%{x}<br>Sponsor=%{y}<extra></extra>\", \"legendgroup\": \"Methylprednisolone\", \"marker\": {\"color\": \"#FFA15A\"}, \"name\": \"Methylprednisolone\", \"offsetgroup\": \"Methylprednisolone\", \"orientation\": \"h\", \"showlegend\": true, \"textposition\": \"auto\", \"type\": \"bar\", \"x\": [10454400000.0, 14169600000.0, 5270400000.0, 15811200000.0], \"xaxis\": \"x\", \"y\": [\"Tongji Hospital\", \"D'Or Institute for Research and Education\", \"Beijing Chao Yang Hospital\", \"The Camelot Foundation\"], \"yaxis\": \"y\"}],\n",
       "                        {\"barmode\": \"overlay\", \"legend\": {\"title\": {\"text\": \"Experimental\"}, \"tracegroupgap\": 0}, \"margin\": {\"t\": 60}, \"template\": {\"data\": {\"bar\": [{\"error_x\": {\"color\": \"#2a3f5f\"}, \"error_y\": {\"color\": \"#2a3f5f\"}, \"marker\": {\"line\": {\"color\": \"#E5ECF6\", \"width\": 0.5}}, \"type\": \"bar\"}], \"barpolar\": [{\"marker\": {\"line\": {\"color\": \"#E5ECF6\", \"width\": 0.5}}, \"type\": \"barpolar\"}], \"carpet\": [{\"aaxis\": {\"endlinecolor\": \"#2a3f5f\", \"gridcolor\": \"white\", \"linecolor\": \"white\", \"minorgridcolor\": \"white\", \"startlinecolor\": \"#2a3f5f\"}, \"baxis\": {\"endlinecolor\": \"#2a3f5f\", \"gridcolor\": \"white\", \"linecolor\": \"white\", \"minorgridcolor\": \"white\", \"startlinecolor\": \"#2a3f5f\"}, \"type\": \"carpet\"}], \"choropleth\": [{\"colorbar\": {\"outlinewidth\": 0, \"ticks\": \"\"}, \"type\": \"choropleth\"}], \"contour\": [{\"colorbar\": {\"outlinewidth\": 0, \"ticks\": \"\"}, \"colorscale\": [[0.0, \"#0d0887\"], [0.1111111111111111, \"#46039f\"], [0.2222222222222222, \"#7201a8\"], [0.3333333333333333, \"#9c179e\"], [0.4444444444444444, \"#bd3786\"], [0.5555555555555556, \"#d8576b\"], [0.6666666666666666, \"#ed7953\"], [0.7777777777777778, \"#fb9f3a\"], [0.8888888888888888, \"#fdca26\"], [1.0, \"#f0f921\"]], \"type\": \"contour\"}], \"contourcarpet\": [{\"colorbar\": {\"outlinewidth\": 0, \"ticks\": \"\"}, \"type\": \"contourcarpet\"}], \"heatmap\": [{\"colorbar\": {\"outlinewidth\": 0, \"ticks\": \"\"}, \"colorscale\": [[0.0, \"#0d0887\"], [0.1111111111111111, \"#46039f\"], [0.2222222222222222, \"#7201a8\"], [0.3333333333333333, \"#9c179e\"], [0.4444444444444444, \"#bd3786\"], [0.5555555555555556, \"#d8576b\"], [0.6666666666666666, \"#ed7953\"], [0.7777777777777778, \"#fb9f3a\"], [0.8888888888888888, \"#fdca26\"], [1.0, \"#f0f921\"]], \"type\": \"heatmap\"}], \"heatmapgl\": [{\"colorbar\": {\"outlinewidth\": 0, \"ticks\": \"\"}, \"colorscale\": [[0.0, \"#0d0887\"], [0.1111111111111111, \"#46039f\"], [0.2222222222222222, \"#7201a8\"], [0.3333333333333333, \"#9c179e\"], [0.4444444444444444, \"#bd3786\"], [0.5555555555555556, \"#d8576b\"], [0.6666666666666666, \"#ed7953\"], [0.7777777777777778, \"#fb9f3a\"], [0.8888888888888888, \"#fdca26\"], [1.0, \"#f0f921\"]], \"type\": \"heatmapgl\"}], \"histogram\": [{\"marker\": {\"colorbar\": {\"outlinewidth\": 0, \"ticks\": \"\"}}, \"type\": \"histogram\"}], \"histogram2d\": [{\"colorbar\": {\"outlinewidth\": 0, \"ticks\": \"\"}, \"colorscale\": [[0.0, \"#0d0887\"], [0.1111111111111111, \"#46039f\"], [0.2222222222222222, \"#7201a8\"], [0.3333333333333333, \"#9c179e\"], [0.4444444444444444, \"#bd3786\"], [0.5555555555555556, \"#d8576b\"], [0.6666666666666666, \"#ed7953\"], [0.7777777777777778, \"#fb9f3a\"], [0.8888888888888888, \"#fdca26\"], [1.0, \"#f0f921\"]], \"type\": \"histogram2d\"}], \"histogram2dcontour\": [{\"colorbar\": {\"outlinewidth\": 0, \"ticks\": \"\"}, \"colorscale\": [[0.0, \"#0d0887\"], [0.1111111111111111, \"#46039f\"], [0.2222222222222222, \"#7201a8\"], [0.3333333333333333, \"#9c179e\"], [0.4444444444444444, \"#bd3786\"], [0.5555555555555556, \"#d8576b\"], [0.6666666666666666, \"#ed7953\"], [0.7777777777777778, \"#fb9f3a\"], [0.8888888888888888, \"#fdca26\"], [1.0, \"#f0f921\"]], \"type\": \"histogram2dcontour\"}], \"mesh3d\": [{\"colorbar\": {\"outlinewidth\": 0, \"ticks\": \"\"}, \"type\": \"mesh3d\"}], \"parcoords\": [{\"line\": {\"colorbar\": {\"outlinewidth\": 0, \"ticks\": \"\"}}, \"type\": \"parcoords\"}], \"pie\": [{\"automargin\": true, \"type\": \"pie\"}], \"scatter\": [{\"marker\": {\"colorbar\": {\"outlinewidth\": 0, \"ticks\": \"\"}}, \"type\": \"scatter\"}], \"scatter3d\": [{\"line\": {\"colorbar\": {\"outlinewidth\": 0, \"ticks\": \"\"}}, \"marker\": {\"colorbar\": {\"outlinewidth\": 0, \"ticks\": \"\"}}, \"type\": \"scatter3d\"}], \"scattercarpet\": [{\"marker\": {\"colorbar\": {\"outlinewidth\": 0, \"ticks\": \"\"}}, \"type\": \"scattercarpet\"}], \"scattergeo\": [{\"marker\": {\"colorbar\": {\"outlinewidth\": 0, \"ticks\": \"\"}}, \"type\": \"scattergeo\"}], \"scattergl\": [{\"marker\": {\"colorbar\": {\"outlinewidth\": 0, \"ticks\": \"\"}}, \"type\": \"scattergl\"}], \"scattermapbox\": [{\"marker\": {\"colorbar\": {\"outlinewidth\": 0, \"ticks\": \"\"}}, \"type\": \"scattermapbox\"}], \"scatterpolar\": [{\"marker\": {\"colorbar\": {\"outlinewidth\": 0, \"ticks\": \"\"}}, \"type\": \"scatterpolar\"}], \"scatterpolargl\": [{\"marker\": {\"colorbar\": {\"outlinewidth\": 0, \"ticks\": \"\"}}, \"type\": \"scatterpolargl\"}], \"scatterternary\": [{\"marker\": {\"colorbar\": {\"outlinewidth\": 0, \"ticks\": \"\"}}, \"type\": \"scatterternary\"}], \"surface\": [{\"colorbar\": {\"outlinewidth\": 0, \"ticks\": \"\"}, \"colorscale\": [[0.0, \"#0d0887\"], [0.1111111111111111, \"#46039f\"], [0.2222222222222222, \"#7201a8\"], [0.3333333333333333, \"#9c179e\"], [0.4444444444444444, \"#bd3786\"], [0.5555555555555556, \"#d8576b\"], [0.6666666666666666, \"#ed7953\"], [0.7777777777777778, \"#fb9f3a\"], [0.8888888888888888, \"#fdca26\"], [1.0, \"#f0f921\"]], \"type\": \"surface\"}], \"table\": [{\"cells\": {\"fill\": {\"color\": \"#EBF0F8\"}, \"line\": {\"color\": \"white\"}}, \"header\": {\"fill\": {\"color\": \"#C8D4E3\"}, \"line\": {\"color\": \"white\"}}, \"type\": \"table\"}]}, \"layout\": {\"annotationdefaults\": {\"arrowcolor\": \"#2a3f5f\", \"arrowhead\": 0, \"arrowwidth\": 1}, \"coloraxis\": {\"colorbar\": {\"outlinewidth\": 0, \"ticks\": \"\"}}, \"colorscale\": {\"diverging\": [[0, \"#8e0152\"], [0.1, \"#c51b7d\"], [0.2, \"#de77ae\"], [0.3, \"#f1b6da\"], [0.4, \"#fde0ef\"], [0.5, \"#f7f7f7\"], [0.6, \"#e6f5d0\"], [0.7, \"#b8e186\"], [0.8, \"#7fbc41\"], [0.9, \"#4d9221\"], [1, \"#276419\"]], \"sequential\": [[0.0, \"#0d0887\"], [0.1111111111111111, \"#46039f\"], [0.2222222222222222, \"#7201a8\"], [0.3333333333333333, \"#9c179e\"], [0.4444444444444444, \"#bd3786\"], [0.5555555555555556, \"#d8576b\"], [0.6666666666666666, \"#ed7953\"], [0.7777777777777778, \"#fb9f3a\"], [0.8888888888888888, \"#fdca26\"], [1.0, \"#f0f921\"]], \"sequentialminus\": [[0.0, \"#0d0887\"], [0.1111111111111111, \"#46039f\"], [0.2222222222222222, \"#7201a8\"], [0.3333333333333333, \"#9c179e\"], [0.4444444444444444, \"#bd3786\"], [0.5555555555555556, \"#d8576b\"], [0.6666666666666666, \"#ed7953\"], [0.7777777777777778, \"#fb9f3a\"], [0.8888888888888888, \"#fdca26\"], [1.0, \"#f0f921\"]]}, \"colorway\": [\"#636efa\", \"#EF553B\", \"#00cc96\", \"#ab63fa\", \"#FFA15A\", \"#19d3f3\", \"#FF6692\", \"#B6E880\", \"#FF97FF\", \"#FECB52\"], \"font\": {\"color\": \"#2a3f5f\"}, \"geo\": {\"bgcolor\": \"white\", \"lakecolor\": \"white\", \"landcolor\": \"#E5ECF6\", \"showlakes\": true, \"showland\": true, \"subunitcolor\": \"white\"}, \"hoverlabel\": {\"align\": \"left\"}, \"hovermode\": \"closest\", \"mapbox\": {\"style\": \"light\"}, \"paper_bgcolor\": \"white\", \"plot_bgcolor\": \"#E5ECF6\", \"polar\": {\"angularaxis\": {\"gridcolor\": \"white\", \"linecolor\": \"white\", \"ticks\": \"\"}, \"bgcolor\": \"#E5ECF6\", \"radialaxis\": {\"gridcolor\": \"white\", \"linecolor\": \"white\", \"ticks\": \"\"}}, \"scene\": {\"xaxis\": {\"backgroundcolor\": \"#E5ECF6\", \"gridcolor\": \"white\", \"gridwidth\": 2, \"linecolor\": \"white\", \"showbackground\": true, \"ticks\": \"\", \"zerolinecolor\": \"white\"}, \"yaxis\": {\"backgroundcolor\": \"#E5ECF6\", \"gridcolor\": \"white\", \"gridwidth\": 2, \"linecolor\": \"white\", \"showbackground\": true, \"ticks\": \"\", \"zerolinecolor\": \"white\"}, \"zaxis\": {\"backgroundcolor\": \"#E5ECF6\", \"gridcolor\": \"white\", \"gridwidth\": 2, \"linecolor\": \"white\", \"showbackground\": true, \"ticks\": \"\", \"zerolinecolor\": \"white\"}}, \"shapedefaults\": {\"line\": {\"color\": \"#2a3f5f\"}}, \"ternary\": {\"aaxis\": {\"gridcolor\": \"white\", \"linecolor\": \"white\", \"ticks\": \"\"}, \"baxis\": {\"gridcolor\": \"white\", \"linecolor\": \"white\", \"ticks\": \"\"}, \"bgcolor\": \"#E5ECF6\", \"caxis\": {\"gridcolor\": \"white\", \"linecolor\": \"white\", \"ticks\": \"\"}}, \"title\": {\"x\": 0.05}, \"xaxis\": {\"automargin\": true, \"gridcolor\": \"white\", \"linecolor\": \"white\", \"ticks\": \"\", \"title\": {\"standoff\": 15}, \"zerolinecolor\": \"white\", \"zerolinewidth\": 2}, \"yaxis\": {\"automargin\": true, \"gridcolor\": \"white\", \"linecolor\": \"white\", \"ticks\": \"\", \"title\": {\"standoff\": 15}, \"zerolinecolor\": \"white\", \"zerolinewidth\": 2}}}, \"xaxis\": {\"anchor\": \"y\", \"domain\": [0.0, 1.0], \"type\": \"date\"}, \"yaxis\": {\"anchor\": \"x\", \"domain\": [0.0, 1.0], \"title\": {\"text\": \"Sponsor\"}}},\n",
       "                        {\"responsive\": true}\n",
       "                    ).then(function(){\n",
       "                            \n",
       "var gd = document.getElementById('f4da672d-4ed9-4913-a2b2-354c65ee1f2e');\n",
       "var x = new MutationObserver(function (mutations, observer) {{\n",
       "        var display = window.getComputedStyle(gd).display;\n",
       "        if (!display || display === 'none') {{\n",
       "            console.log([gd, 'removed!']);\n",
       "            Plotly.purge(gd);\n",
       "            observer.disconnect();\n",
       "        }}\n",
       "}});\n",
       "\n",
       "// Listen for the removal of the full notebook cells\n",
       "var notebookContainer = gd.closest('#notebook-container');\n",
       "if (notebookContainer) {{\n",
       "    x.observe(notebookContainer, {childList: true});\n",
       "}}\n",
       "\n",
       "// Listen for the clearing of the current output cell\n",
       "var outputEl = gd.closest('.output');\n",
       "if (outputEl) {{\n",
       "    x.observe(outputEl, {childList: true});\n",
       "}}\n",
       "\n",
       "                        })\n",
       "                };\n",
       "                });\n",
       "            </script>\n",
       "        </div>"
      ]
     },
     "metadata": {},
     "output_type": "display_data"
    }
   ],
   "source": [
    "fig = px.timeline(final_steroids_df, x_start=\"Actual Start Date\", x_end=\"Primary Completion Date\", y=\"Sponsor\", color=\"Experimental\")\n",
    "#fig.update_yaxes(autorange=\"reversed\") # otherwise tasks are listed from the bottom up\n",
    "fig.show()"
   ]
  },
  {
   "cell_type": "code",
   "execution_count": null,
   "metadata": {},
   "outputs": [],
   "source": []
  },
  {
   "cell_type": "code",
   "execution_count": null,
   "metadata": {},
   "outputs": [],
   "source": []
  }
 ],
 "metadata": {
  "kernelspec": {
   "display_name": "Python 3",
   "language": "python",
   "name": "python3"
  },
  "language_info": {
   "codemirror_mode": {
    "name": "ipython",
    "version": 3
   },
   "file_extension": ".py",
   "mimetype": "text/x-python",
   "name": "python",
   "nbconvert_exporter": "python",
   "pygments_lexer": "ipython3",
   "version": "3.7.3"
  }
 },
 "nbformat": 4,
 "nbformat_minor": 2
}
