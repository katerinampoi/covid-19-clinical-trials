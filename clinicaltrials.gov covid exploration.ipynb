{
 "cells": [
  {
   "cell_type": "markdown",
   "metadata": {},
   "source": [
    "## Corticosteroids and Tocilizumab: Overview of Clinical Trials in COVID-19"
   ]
  },
  {
   "cell_type": "markdown",
   "metadata": {},
   "source": [
    "Data was retrieved from the clinicaltrials.gov API using Python. The first search was conducted under the umbrella term ”SARS-CoV-2”.Trials are filtered by “Trial type = Intervention” and “Type of intervention = Drug”. This project refers to trials posted up to 20th of July in clinicaltrilas.gov website.\n",
    "\n",
    "Corticosteroids:\n",
    "A list of corticosteroid agents taken from DrugBank is used to retrieve interventional trials testing steroid drugs against covid-19 disease. Trials are filtered “randomized” in term of trial type  and “recruiting” or “completed” in terms of overall status. The final trials are viewed “manually” and some of them are selected according to the Phase of the trial and the closest primary completion date.\n",
    "\n",
    "Tocilizumab: A simple search with the term \"tocilizumab\" has been conducted in interventional drug trials.\n"
   ]
  },
  {
   "cell_type": "code",
   "execution_count": 42,
   "metadata": {
    "scrolled": true
   },
   "outputs": [],
   "source": [
    "import pandas as pd\n",
    "import requests\n",
    "import numpy\n",
    "import seaborn as sns\n",
    "import plotly.express as px\n",
    "import psutil"
   ]
  },
  {
   "cell_type": "code",
   "execution_count": 43,
   "metadata": {
    "scrolled": true
   },
   "outputs": [
    {
     "name": "stdout",
     "output_type": "stream",
     "text": [
      "Requesting from 1 to 100\n",
      "Requesting from 101 to 200\n",
      "Requesting from 201 to 300\n",
      "Requesting from 301 to 400\n",
      "Requesting from 401 to 500\n",
      "Requesting from 501 to 600\n",
      "Requesting from 601 to 700\n",
      "Requesting from 701 to 800\n",
      "Requesting from 801 to 900\n",
      "Requesting from 901 to 1000\n",
      "Requesting from 1001 to 1100\n",
      "Requesting from 1101 to 1200\n",
      "Requesting from 1201 to 1300\n",
      "Requesting from 1301 to 1400\n",
      "Requesting from 1401 to 1500\n",
      "Requesting from 1501 to 1600\n",
      "Requesting from 1601 to 1700\n",
      "Requesting from 1701 to 1800\n",
      "Requesting from 1801 to 1900\n",
      "Requesting from 1901 to 2000\n",
      "Requesting from 2001 to 2100\n",
      "Requesting from 2101 to 2200\n",
      "Requesting from 2201 to 2300\n",
      "Requesting from 2301 to 2400\n",
      "Requesting from 2401 to 2500\n",
      "Requesting from 2501 to 2600\n",
      "Requesting from 2601 to 2700\n",
      "Requesting from 2701 to 2800\n",
      "Requesting from 2801 to 2900\n",
      "Requesting from 2901 to 3000\n",
      "Requesting from 3001 to 3100\n",
      "Requesting from 3101 to 3200\n",
      "Requesting from 3201 to 3300\n",
      "Requesting from 3301 to 3400\n"
     ]
    }
   ],
   "source": [
    "results_all = []\n",
    "results = None\n",
    "from_rank=0\n",
    "continue_request = True\n",
    "while continue_request:\n",
    "    print('Requesting from {} to {}'.format(str(from_rank*100+1), str(from_rank*100+100)))\n",
    "    api_url = \"https://clinicaltrials.gov/api/query/study_fields?\"\\\n",
    "    \"expr=SARS-CoV-2+&fields=StudyFirstPostDate%2CNCTId%2CBriefTitle%2CCondition%2CEligibilityCriteria%2CResultsFirstPostDate%2C\"\\\n",
    "    \"Phase%2CDesignAllocation%2COverallStatus%2CInterventionName%2CStudyType%2CStartDate%2CInterventionType%2CCompletionDate&\"\\\n",
    "    \"min_rnk=\"+str(from_rank*100+1)+\"&max_rnk=\"+str(from_rank*100+100)+\"&fmt=json\"\n",
    "    if results:\n",
    "        continue_request = results[\"StudyFieldsResponse\"][\"NStudiesFound\"] >= from_rank*100+100\n",
    "    from_rank += 1\n",
    "    \n",
    "    r = requests.get(api_url)\n",
    "    results = r.json()\n",
    "    results_all.append(results)"
   ]
  },
  {
   "cell_type": "code",
   "execution_count": 44,
   "metadata": {
    "scrolled": true
   },
   "outputs": [],
   "source": [
    "clinical_trials_list_dfs = []\n",
    "for results in results_all:\n",
    "    try:\n",
    "        study_fields = results[\"StudyFieldsResponse\"][\"StudyFields\"]\n",
    "        study_fields_new = []\n",
    "        for study in study_fields:\n",
    "            study_new = {}\n",
    "            for key, value in study.items():\n",
    "                \n",
    "                if type(value) == list and key not in \"Phase\":\n",
    "                    try:\n",
    "                        study_new[key] = \" \".join(value)\n",
    "                    except IndexError:\n",
    "                        study_new[key] = value\n",
    "                else:\n",
    "                    study_new[key] = value\n",
    "            study_fields_new.append(study_new)\n",
    "        clinical_trials_df = pd.DataFrame(study_fields_new)\n",
    "        clinical_trials_list_dfs.append(clinical_trials_df)\n",
    "        # display(clinical_trials_df.head())\n",
    "    except KeyError:\n",
    "        print(\"No results found\")    "
   ]
  },
  {
   "cell_type": "markdown",
   "metadata": {},
   "source": [
    "All trilas retreived under the search term \"SARS-CoV-2\" are collected as a list"
   ]
  },
  {
   "cell_type": "code",
   "execution_count": 45,
   "metadata": {
    "scrolled": false
   },
   "outputs": [
    {
     "data": {
      "text/html": [
       "<div>\n",
       "<style scoped>\n",
       "    .dataframe tbody tr th:only-of-type {\n",
       "        vertical-align: middle;\n",
       "    }\n",
       "\n",
       "    .dataframe tbody tr th {\n",
       "        vertical-align: top;\n",
       "    }\n",
       "\n",
       "    .dataframe thead th {\n",
       "        text-align: right;\n",
       "    }\n",
       "</style>\n",
       "<table border=\"1\" class=\"dataframe\">\n",
       "  <thead>\n",
       "    <tr style=\"text-align: right;\">\n",
       "      <th></th>\n",
       "      <th>BriefTitle</th>\n",
       "      <th>CompletionDate</th>\n",
       "      <th>Condition</th>\n",
       "      <th>DesignAllocation</th>\n",
       "      <th>EligibilityCriteria</th>\n",
       "      <th>InterventionName</th>\n",
       "      <th>InterventionType</th>\n",
       "      <th>NCTId</th>\n",
       "      <th>OverallStatus</th>\n",
       "      <th>Phase</th>\n",
       "      <th>Rank</th>\n",
       "      <th>ResultsFirstPostDate</th>\n",
       "      <th>StartDate</th>\n",
       "      <th>StudyFirstPostDate</th>\n",
       "      <th>StudyType</th>\n",
       "    </tr>\n",
       "  </thead>\n",
       "  <tbody>\n",
       "    <tr>\n",
       "      <th>0</th>\n",
       "      <td>Association Between BMI and COVID-19</td>\n",
       "      <td>September 30, 2020</td>\n",
       "      <td>SARS-CoV 2</td>\n",
       "      <td></td>\n",
       "      <td>Inclusion Criteria:\\n\\nParticipant is aged 18 ...</td>\n",
       "      <td>Patients admitted to Intensive Care Unit with ...</td>\n",
       "      <td>Other</td>\n",
       "      <td>NCT04391738</td>\n",
       "      <td>Active, not recruiting</td>\n",
       "      <td>[]</td>\n",
       "      <td>1</td>\n",
       "      <td></td>\n",
       "      <td>February 1, 2020</td>\n",
       "      <td>May 18, 2020</td>\n",
       "      <td>Observational</td>\n",
       "    </tr>\n",
       "    <tr>\n",
       "      <th>1</th>\n",
       "      <td>Efficacy, Safety and Immunogenicity Study of S...</td>\n",
       "      <td>September 2021</td>\n",
       "      <td>SARS-CoV2 Infection</td>\n",
       "      <td>Randomized</td>\n",
       "      <td>Inclusion Criteria:\\n\\nClinically healthy adul...</td>\n",
       "      <td>SARS-CoV-2 vaccine (inactivated) Placebo</td>\n",
       "      <td>Biological Biological</td>\n",
       "      <td>NCT04508075</td>\n",
       "      <td>Recruiting</td>\n",
       "      <td>[Phase 3]</td>\n",
       "      <td>2</td>\n",
       "      <td></td>\n",
       "      <td>August 10, 2020</td>\n",
       "      <td>August 11, 2020</td>\n",
       "      <td>Interventional</td>\n",
       "    </tr>\n",
       "    <tr>\n",
       "      <th>2</th>\n",
       "      <td>Rapid SARS-CoV-2 IgG Antibody Testing in High ...</td>\n",
       "      <td>January 1, 2021</td>\n",
       "      <td>SARS-CoV-2</td>\n",
       "      <td></td>\n",
       "      <td>Inclusion Criteria:\\n\\nHigh risk healthcare wo...</td>\n",
       "      <td>SARS-CoV-2 IgG Antibody Testing Kit</td>\n",
       "      <td>Diagnostic Test</td>\n",
       "      <td>NCT04334876</td>\n",
       "      <td>Not yet recruiting</td>\n",
       "      <td>[]</td>\n",
       "      <td>3</td>\n",
       "      <td></td>\n",
       "      <td>April 1, 2020</td>\n",
       "      <td>April 6, 2020</td>\n",
       "      <td>Observational</td>\n",
       "    </tr>\n",
       "    <tr>\n",
       "      <th>3</th>\n",
       "      <td>Antibody Detection in COVID-19 Cured Patients ...</td>\n",
       "      <td>June 3, 2020</td>\n",
       "      <td>COVID SARS-CoV-2</td>\n",
       "      <td></td>\n",
       "      <td>Inclusion Criteria:\\n\\nsigned Informed Consent...</td>\n",
       "      <td>Quantitative analysis of anti-SARS-CoV-2-antib...</td>\n",
       "      <td>Diagnostic Test Diagnostic Test</td>\n",
       "      <td>NCT04453280</td>\n",
       "      <td>Completed</td>\n",
       "      <td>[]</td>\n",
       "      <td>4</td>\n",
       "      <td></td>\n",
       "      <td>May 18, 2020</td>\n",
       "      <td>July 1, 2020</td>\n",
       "      <td>Observational</td>\n",
       "    </tr>\n",
       "    <tr>\n",
       "      <th>4</th>\n",
       "      <td>Oncological Surgery in Times of COVID-19: Effe...</td>\n",
       "      <td>December 31, 2020</td>\n",
       "      <td>SARS-CoV-2 Oncology Surgery</td>\n",
       "      <td></td>\n",
       "      <td>Inclusion Criteria:\\n\\nPatients with elective ...</td>\n",
       "      <td>PT-PCR test for SARS-CoV-2</td>\n",
       "      <td>Diagnostic Test</td>\n",
       "      <td>NCT04434261</td>\n",
       "      <td>Recruiting</td>\n",
       "      <td>[]</td>\n",
       "      <td>5</td>\n",
       "      <td></td>\n",
       "      <td>May 11, 2020</td>\n",
       "      <td>June 16, 2020</td>\n",
       "      <td>Observational</td>\n",
       "    </tr>\n",
       "    <tr>\n",
       "      <th>5</th>\n",
       "      <td>Humoral Immunity Against SARS-CoV-2 in Liver T...</td>\n",
       "      <td>June 30, 2021</td>\n",
       "      <td>Liver Transplant Infection Covid19 Mortality I...</td>\n",
       "      <td></td>\n",
       "      <td>Inclusion Criteria:\\n\\nPatients recovered of c...</td>\n",
       "      <td>CLIA of IgG and IgM against SARS-Cov-2</td>\n",
       "      <td>Diagnostic Test</td>\n",
       "      <td>NCT04410471</td>\n",
       "      <td>Recruiting</td>\n",
       "      <td>[]</td>\n",
       "      <td>6</td>\n",
       "      <td></td>\n",
       "      <td>May 29, 2020</td>\n",
       "      <td>June 1, 2020</td>\n",
       "      <td>Observational</td>\n",
       "    </tr>\n",
       "    <tr>\n",
       "      <th>6</th>\n",
       "      <td>COVID-19 and Pregnancy Outcomes</td>\n",
       "      <td>December 2023</td>\n",
       "      <td>Coronavirus Infection Pregnancy Complications ...</td>\n",
       "      <td></td>\n",
       "      <td>Inclusion Criteria: Pregnant women infected wi...</td>\n",
       "      <td>RT PCR SARS-CoV-2</td>\n",
       "      <td>Diagnostic Test</td>\n",
       "      <td>NCT04416373</td>\n",
       "      <td>Recruiting</td>\n",
       "      <td>[]</td>\n",
       "      <td>7</td>\n",
       "      <td></td>\n",
       "      <td>March 22, 2020</td>\n",
       "      <td>June 4, 2020</td>\n",
       "      <td>Observational</td>\n",
       "    </tr>\n",
       "    <tr>\n",
       "      <th>7</th>\n",
       "      <td>Maternal-foetal Transmission of SARS-Cov-2</td>\n",
       "      <td>May 2021</td>\n",
       "      <td>Maternal Fetal Infection Transmission COVID-19...</td>\n",
       "      <td></td>\n",
       "      <td>Inclusion Criteria:\\n\\nAll pregnant women SARS...</td>\n",
       "      <td>Diagnosis of SARS-Cov2 by RT-PCR and : IgG, Ig...</td>\n",
       "      <td>Diagnostic Test</td>\n",
       "      <td>NCT04395924</td>\n",
       "      <td>Recruiting</td>\n",
       "      <td>[]</td>\n",
       "      <td>8</td>\n",
       "      <td></td>\n",
       "      <td>May 5, 2020</td>\n",
       "      <td>May 20, 2020</td>\n",
       "      <td>Observational</td>\n",
       "    </tr>\n",
       "    <tr>\n",
       "      <th>8</th>\n",
       "      <td>Study of the SARS-COV-2 (COVID-19) Serological...</td>\n",
       "      <td>July 31, 2020</td>\n",
       "      <td>Sars-CoV2</td>\n",
       "      <td></td>\n",
       "      <td>Inclusion Criteria:\\n\\nArmy Training Hospital ...</td>\n",
       "      <td>Anti-SARS-CoV2 Serology Questionnaire</td>\n",
       "      <td>Diagnostic Test Other</td>\n",
       "      <td>NCT04387838</td>\n",
       "      <td>Recruiting</td>\n",
       "      <td>[]</td>\n",
       "      <td>9</td>\n",
       "      <td></td>\n",
       "      <td>May 14, 2020</td>\n",
       "      <td>May 14, 2020</td>\n",
       "      <td>Observational</td>\n",
       "    </tr>\n",
       "    <tr>\n",
       "      <th>9</th>\n",
       "      <td>SARS-CoV-2 Disguise Study</td>\n",
       "      <td>November 30, 2020</td>\n",
       "      <td>Sars-CoV2</td>\n",
       "      <td></td>\n",
       "      <td>Inclusion Criteria:\\n\\nAsymptomatic medical em...</td>\n",
       "      <td>SARS-CoV-2-test SARS-CoV-2 questionnaire survey</td>\n",
       "      <td>Diagnostic Test Other</td>\n",
       "      <td>NCT04395794</td>\n",
       "      <td>Recruiting</td>\n",
       "      <td>[]</td>\n",
       "      <td>10</td>\n",
       "      <td></td>\n",
       "      <td>May 7, 2020</td>\n",
       "      <td>May 20, 2020</td>\n",
       "      <td>Observational</td>\n",
       "    </tr>\n",
       "  </tbody>\n",
       "</table>\n",
       "</div>"
      ],
      "text/plain": [
       "                                          BriefTitle      CompletionDate  \\\n",
       "0               Association Between BMI and COVID-19  September 30, 2020   \n",
       "1  Efficacy, Safety and Immunogenicity Study of S...      September 2021   \n",
       "2  Rapid SARS-CoV-2 IgG Antibody Testing in High ...     January 1, 2021   \n",
       "3  Antibody Detection in COVID-19 Cured Patients ...        June 3, 2020   \n",
       "4  Oncological Surgery in Times of COVID-19: Effe...   December 31, 2020   \n",
       "5  Humoral Immunity Against SARS-CoV-2 in Liver T...       June 30, 2021   \n",
       "6                    COVID-19 and Pregnancy Outcomes       December 2023   \n",
       "7         Maternal-foetal Transmission of SARS-Cov-2            May 2021   \n",
       "8  Study of the SARS-COV-2 (COVID-19) Serological...       July 31, 2020   \n",
       "9                          SARS-CoV-2 Disguise Study   November 30, 2020   \n",
       "\n",
       "                                           Condition DesignAllocation  \\\n",
       "0                                         SARS-CoV 2                    \n",
       "1                                SARS-CoV2 Infection       Randomized   \n",
       "2                                         SARS-CoV-2                    \n",
       "3                                   COVID SARS-CoV-2                    \n",
       "4                        SARS-CoV-2 Oncology Surgery                    \n",
       "5  Liver Transplant Infection Covid19 Mortality I...                    \n",
       "6  Coronavirus Infection Pregnancy Complications ...                    \n",
       "7  Maternal Fetal Infection Transmission COVID-19...                    \n",
       "8                                          Sars-CoV2                    \n",
       "9                                          Sars-CoV2                    \n",
       "\n",
       "                                 EligibilityCriteria  \\\n",
       "0  Inclusion Criteria:\\n\\nParticipant is aged 18 ...   \n",
       "1  Inclusion Criteria:\\n\\nClinically healthy adul...   \n",
       "2  Inclusion Criteria:\\n\\nHigh risk healthcare wo...   \n",
       "3  Inclusion Criteria:\\n\\nsigned Informed Consent...   \n",
       "4  Inclusion Criteria:\\n\\nPatients with elective ...   \n",
       "5  Inclusion Criteria:\\n\\nPatients recovered of c...   \n",
       "6  Inclusion Criteria: Pregnant women infected wi...   \n",
       "7  Inclusion Criteria:\\n\\nAll pregnant women SARS...   \n",
       "8  Inclusion Criteria:\\n\\nArmy Training Hospital ...   \n",
       "9  Inclusion Criteria:\\n\\nAsymptomatic medical em...   \n",
       "\n",
       "                                    InterventionName  \\\n",
       "0  Patients admitted to Intensive Care Unit with ...   \n",
       "1           SARS-CoV-2 vaccine (inactivated) Placebo   \n",
       "2                SARS-CoV-2 IgG Antibody Testing Kit   \n",
       "3  Quantitative analysis of anti-SARS-CoV-2-antib...   \n",
       "4                         PT-PCR test for SARS-CoV-2   \n",
       "5             CLIA of IgG and IgM against SARS-Cov-2   \n",
       "6                                  RT PCR SARS-CoV-2   \n",
       "7  Diagnosis of SARS-Cov2 by RT-PCR and : IgG, Ig...   \n",
       "8              Anti-SARS-CoV2 Serology Questionnaire   \n",
       "9    SARS-CoV-2-test SARS-CoV-2 questionnaire survey   \n",
       "\n",
       "                  InterventionType        NCTId           OverallStatus  \\\n",
       "0                            Other  NCT04391738  Active, not recruiting   \n",
       "1            Biological Biological  NCT04508075              Recruiting   \n",
       "2                  Diagnostic Test  NCT04334876      Not yet recruiting   \n",
       "3  Diagnostic Test Diagnostic Test  NCT04453280               Completed   \n",
       "4                  Diagnostic Test  NCT04434261              Recruiting   \n",
       "5                  Diagnostic Test  NCT04410471              Recruiting   \n",
       "6                  Diagnostic Test  NCT04416373              Recruiting   \n",
       "7                  Diagnostic Test  NCT04395924              Recruiting   \n",
       "8            Diagnostic Test Other  NCT04387838              Recruiting   \n",
       "9            Diagnostic Test Other  NCT04395794              Recruiting   \n",
       "\n",
       "       Phase  Rank ResultsFirstPostDate         StartDate StudyFirstPostDate  \\\n",
       "0         []     1                       February 1, 2020       May 18, 2020   \n",
       "1  [Phase 3]     2                        August 10, 2020    August 11, 2020   \n",
       "2         []     3                          April 1, 2020      April 6, 2020   \n",
       "3         []     4                           May 18, 2020       July 1, 2020   \n",
       "4         []     5                           May 11, 2020      June 16, 2020   \n",
       "5         []     6                           May 29, 2020       June 1, 2020   \n",
       "6         []     7                         March 22, 2020       June 4, 2020   \n",
       "7         []     8                            May 5, 2020       May 20, 2020   \n",
       "8         []     9                           May 14, 2020       May 14, 2020   \n",
       "9         []    10                            May 7, 2020       May 20, 2020   \n",
       "\n",
       "        StudyType  \n",
       "0   Observational  \n",
       "1  Interventional  \n",
       "2   Observational  \n",
       "3   Observational  \n",
       "4   Observational  \n",
       "5   Observational  \n",
       "6   Observational  \n",
       "7   Observational  \n",
       "8   Observational  \n",
       "9   Observational  "
      ]
     },
     "execution_count": 45,
     "metadata": {},
     "output_type": "execute_result"
    }
   ],
   "source": [
    "merged_df = pd.concat(clinical_trials_list_dfs)\n",
    "merged_df.head(n=10)"
   ]
  },
  {
   "cell_type": "markdown",
   "metadata": {},
   "source": [
    "The total number of trials being conducted for covid-19 disease:"
   ]
  },
  {
   "cell_type": "code",
   "execution_count": 46,
   "metadata": {
    "scrolled": true
   },
   "outputs": [
    {
     "data": {
      "text/plain": [
       "(3385, 15)"
      ]
     },
     "execution_count": 46,
     "metadata": {},
     "output_type": "execute_result"
    }
   ],
   "source": [
    "merged_df.shape"
   ]
  },
  {
   "cell_type": "code",
   "execution_count": 47,
   "metadata": {},
   "outputs": [],
   "source": [
    "merged_df['StudyFirstPostDate'] = pd.to_datetime(merged_df['StudyFirstPostDate'])"
   ]
  },
  {
   "cell_type": "code",
   "execution_count": 48,
   "metadata": {},
   "outputs": [],
   "source": [
    "merged_df = merged_df.loc[merged_df['StudyFirstPostDate'] < \"July 21, 2020\"]"
   ]
  },
  {
   "cell_type": "code",
   "execution_count": 49,
   "metadata": {},
   "outputs": [
    {
     "data": {
      "text/plain": [
       "(2811, 15)"
      ]
     },
     "execution_count": 49,
     "metadata": {},
     "output_type": "execute_result"
    }
   ],
   "source": [
    "merged_df.shape"
   ]
  },
  {
   "cell_type": "code",
   "execution_count": 50,
   "metadata": {
    "scrolled": true
   },
   "outputs": [
    {
     "data": {
      "text/html": [
       "<div>\n",
       "<style scoped>\n",
       "    .dataframe tbody tr th:only-of-type {\n",
       "        vertical-align: middle;\n",
       "    }\n",
       "\n",
       "    .dataframe tbody tr th {\n",
       "        vertical-align: top;\n",
       "    }\n",
       "\n",
       "    .dataframe thead th {\n",
       "        text-align: right;\n",
       "    }\n",
       "</style>\n",
       "<table border=\"1\" class=\"dataframe\">\n",
       "  <thead>\n",
       "    <tr style=\"text-align: right;\">\n",
       "      <th></th>\n",
       "      <th>BriefTitle</th>\n",
       "      <th>CompletionDate</th>\n",
       "      <th>Condition</th>\n",
       "      <th>DesignAllocation</th>\n",
       "      <th>EligibilityCriteria</th>\n",
       "      <th>InterventionName</th>\n",
       "      <th>InterventionType</th>\n",
       "      <th>NCTId</th>\n",
       "      <th>OverallStatus</th>\n",
       "      <th>Phase</th>\n",
       "      <th>Rank</th>\n",
       "      <th>ResultsFirstPostDate</th>\n",
       "      <th>StartDate</th>\n",
       "      <th>StudyFirstPostDate</th>\n",
       "      <th>StudyType</th>\n",
       "    </tr>\n",
       "  </thead>\n",
       "  <tbody>\n",
       "    <tr>\n",
       "      <th>12</th>\n",
       "      <td>Convalescent Plasma to Limit SARS-CoV-2 Associ...</td>\n",
       "      <td>January 31, 2023</td>\n",
       "      <td>SARS-CoV 2</td>\n",
       "      <td>Randomized</td>\n",
       "      <td>Inclusion Criteria:\\n\\n≥ 18 years of age\\nComp...</td>\n",
       "      <td>SARS-CoV-2 convalescent plasma Plasma from a v...</td>\n",
       "      <td>Biological Biological</td>\n",
       "      <td>NCT04373460</td>\n",
       "      <td>Recruiting</td>\n",
       "      <td>[Phase 2]</td>\n",
       "      <td>13</td>\n",
       "      <td></td>\n",
       "      <td>June 3, 2020</td>\n",
       "      <td>2020-05-04</td>\n",
       "      <td>Interventional</td>\n",
       "    </tr>\n",
       "    <tr>\n",
       "      <th>16</th>\n",
       "      <td>Is Adipose Tissue a Reservoir for SARS-Cov2 Sp...</td>\n",
       "      <td>July 9, 2021</td>\n",
       "      <td>Covid-19 Patients</td>\n",
       "      <td>N/A</td>\n",
       "      <td>Inclusion Criteria:\\n\\nMale or female ≥ 18 yea...</td>\n",
       "      <td>biopsies of subcutaneous adipose tissue</td>\n",
       "      <td>Procedure</td>\n",
       "      <td>NCT04427878</td>\n",
       "      <td>Not yet recruiting</td>\n",
       "      <td>[Not Applicable]</td>\n",
       "      <td>17</td>\n",
       "      <td></td>\n",
       "      <td>July 1, 2020</td>\n",
       "      <td>2020-06-11</td>\n",
       "      <td>Interventional</td>\n",
       "    </tr>\n",
       "    <tr>\n",
       "      <th>29</th>\n",
       "      <td>Part Two of Novel Adoptive Cellular Therapy Wi...</td>\n",
       "      <td>December 2022</td>\n",
       "      <td>COVID-19</td>\n",
       "      <td>Non-Randomized</td>\n",
       "      <td>Inclusion Criteria:\\n\\nAge 1 to 90 years\\nTest...</td>\n",
       "      <td>SARS-CoV-2 Specific T Cells</td>\n",
       "      <td>Biological</td>\n",
       "      <td>NCT04457726</td>\n",
       "      <td>Recruiting</td>\n",
       "      <td>[Phase 1, Phase 2]</td>\n",
       "      <td>30</td>\n",
       "      <td></td>\n",
       "      <td>July 1, 2020</td>\n",
       "      <td>2020-07-07</td>\n",
       "      <td>Interventional</td>\n",
       "    </tr>\n",
       "    <tr>\n",
       "      <th>33</th>\n",
       "      <td>Convalescent Plasma in ICU Patients With COVID...</td>\n",
       "      <td>May 2021</td>\n",
       "      <td>Covid-19 Sars-CoV2</td>\n",
       "      <td>N/A</td>\n",
       "      <td>Inclusion Criteria:\\n\\n18 years of age or olde...</td>\n",
       "      <td>Multiple Doses of Anti-SARS-CoV-2 convalescent...</td>\n",
       "      <td>Biological</td>\n",
       "      <td>NCT04353206</td>\n",
       "      <td>Recruiting</td>\n",
       "      <td>[Early Phase 1]</td>\n",
       "      <td>34</td>\n",
       "      <td></td>\n",
       "      <td>June 27, 2020</td>\n",
       "      <td>2020-04-20</td>\n",
       "      <td>Interventional</td>\n",
       "    </tr>\n",
       "    <tr>\n",
       "      <th>34</th>\n",
       "      <td>Epidemiological Study of Seroprevalence Agains...</td>\n",
       "      <td>July 24, 2020</td>\n",
       "      <td>Coronavirus Infection Prevalence</td>\n",
       "      <td>N/A</td>\n",
       "      <td>Inclusion Criteria:\\n\\nPerson who has received...</td>\n",
       "      <td>Anti-SARS-CoV-2 IgT seropositivity</td>\n",
       "      <td>Biological</td>\n",
       "      <td>NCT04448769</td>\n",
       "      <td>Completed</td>\n",
       "      <td>[Not Applicable]</td>\n",
       "      <td>35</td>\n",
       "      <td></td>\n",
       "      <td>June 26, 2020</td>\n",
       "      <td>2020-06-26</td>\n",
       "      <td>Interventional</td>\n",
       "    </tr>\n",
       "  </tbody>\n",
       "</table>\n",
       "</div>"
      ],
      "text/plain": [
       "                                           BriefTitle    CompletionDate  \\\n",
       "12  Convalescent Plasma to Limit SARS-CoV-2 Associ...  January 31, 2023   \n",
       "16  Is Adipose Tissue a Reservoir for SARS-Cov2 Sp...      July 9, 2021   \n",
       "29  Part Two of Novel Adoptive Cellular Therapy Wi...     December 2022   \n",
       "33  Convalescent Plasma in ICU Patients With COVID...          May 2021   \n",
       "34  Epidemiological Study of Seroprevalence Agains...     July 24, 2020   \n",
       "\n",
       "                           Condition DesignAllocation  \\\n",
       "12                        SARS-CoV 2       Randomized   \n",
       "16                 Covid-19 Patients              N/A   \n",
       "29                          COVID-19   Non-Randomized   \n",
       "33                Covid-19 Sars-CoV2              N/A   \n",
       "34  Coronavirus Infection Prevalence              N/A   \n",
       "\n",
       "                                  EligibilityCriteria  \\\n",
       "12  Inclusion Criteria:\\n\\n≥ 18 years of age\\nComp...   \n",
       "16  Inclusion Criteria:\\n\\nMale or female ≥ 18 yea...   \n",
       "29  Inclusion Criteria:\\n\\nAge 1 to 90 years\\nTest...   \n",
       "33  Inclusion Criteria:\\n\\n18 years of age or olde...   \n",
       "34  Inclusion Criteria:\\n\\nPerson who has received...   \n",
       "\n",
       "                                     InterventionName       InterventionType  \\\n",
       "12  SARS-CoV-2 convalescent plasma Plasma from a v...  Biological Biological   \n",
       "16            biopsies of subcutaneous adipose tissue              Procedure   \n",
       "29                        SARS-CoV-2 Specific T Cells             Biological   \n",
       "33  Multiple Doses of Anti-SARS-CoV-2 convalescent...             Biological   \n",
       "34                 Anti-SARS-CoV-2 IgT seropositivity             Biological   \n",
       "\n",
       "          NCTId       OverallStatus               Phase  Rank  \\\n",
       "12  NCT04373460          Recruiting           [Phase 2]    13   \n",
       "16  NCT04427878  Not yet recruiting    [Not Applicable]    17   \n",
       "29  NCT04457726          Recruiting  [Phase 1, Phase 2]    30   \n",
       "33  NCT04353206          Recruiting     [Early Phase 1]    34   \n",
       "34  NCT04448769           Completed    [Not Applicable]    35   \n",
       "\n",
       "   ResultsFirstPostDate      StartDate StudyFirstPostDate       StudyType  \n",
       "12                        June 3, 2020         2020-05-04  Interventional  \n",
       "16                        July 1, 2020         2020-06-11  Interventional  \n",
       "29                        July 1, 2020         2020-07-07  Interventional  \n",
       "33                       June 27, 2020         2020-04-20  Interventional  \n",
       "34                       June 26, 2020         2020-06-26  Interventional  "
      ]
     },
     "execution_count": 50,
     "metadata": {},
     "output_type": "execute_result"
    }
   ],
   "source": [
    "interventional_trials = merged_df.loc[merged_df[\"StudyType\"].str.contains(\"Interventional\")]\n",
    "interventional_trials.head()"
   ]
  },
  {
   "cell_type": "markdown",
   "metadata": {},
   "source": [
    "The number of all \"Interventional\" trials for covid-19:"
   ]
  },
  {
   "cell_type": "code",
   "execution_count": 51,
   "metadata": {
    "scrolled": true
   },
   "outputs": [
    {
     "data": {
      "text/plain": [
       "1595"
      ]
     },
     "execution_count": 51,
     "metadata": {},
     "output_type": "execute_result"
    }
   ],
   "source": [
    "interventional_trials[\"StudyType\"].shape[0]"
   ]
  },
  {
   "cell_type": "code",
   "execution_count": 52,
   "metadata": {
    "scrolled": true
   },
   "outputs": [
    {
     "data": {
      "text/html": [
       "<div>\n",
       "<style scoped>\n",
       "    .dataframe tbody tr th:only-of-type {\n",
       "        vertical-align: middle;\n",
       "    }\n",
       "\n",
       "    .dataframe tbody tr th {\n",
       "        vertical-align: top;\n",
       "    }\n",
       "\n",
       "    .dataframe thead th {\n",
       "        text-align: right;\n",
       "    }\n",
       "</style>\n",
       "<table border=\"1\" class=\"dataframe\">\n",
       "  <thead>\n",
       "    <tr style=\"text-align: right;\">\n",
       "      <th></th>\n",
       "      <th>BriefTitle</th>\n",
       "      <th>CompletionDate</th>\n",
       "      <th>Condition</th>\n",
       "      <th>DesignAllocation</th>\n",
       "      <th>EligibilityCriteria</th>\n",
       "      <th>InterventionName</th>\n",
       "      <th>InterventionType</th>\n",
       "      <th>NCTId</th>\n",
       "      <th>OverallStatus</th>\n",
       "      <th>Phase</th>\n",
       "      <th>Rank</th>\n",
       "      <th>ResultsFirstPostDate</th>\n",
       "      <th>StartDate</th>\n",
       "      <th>StudyFirstPostDate</th>\n",
       "      <th>StudyType</th>\n",
       "    </tr>\n",
       "  </thead>\n",
       "  <tbody>\n",
       "    <tr>\n",
       "      <th>42</th>\n",
       "      <td>Administration of Anti-SARS-CoV-2 Convalescent...</td>\n",
       "      <td>December 2021</td>\n",
       "      <td>COVID-19</td>\n",
       "      <td>Randomized</td>\n",
       "      <td>Inclusion Criteria:\\n\\nPatients ≥18 years of a...</td>\n",
       "      <td>anti-SARS-CoV-2 plasma Placebo</td>\n",
       "      <td>Drug Other</td>\n",
       "      <td>NCT04467151</td>\n",
       "      <td>Not yet recruiting</td>\n",
       "      <td>[Phase 2]</td>\n",
       "      <td>43</td>\n",
       "      <td></td>\n",
       "      <td>August 2020</td>\n",
       "      <td>2020-07-10</td>\n",
       "      <td>Interventional</td>\n",
       "    </tr>\n",
       "    <tr>\n",
       "      <th>55</th>\n",
       "      <td>Feasibility Study of Anti-SARS-CoV-2 Plasma Tr...</td>\n",
       "      <td>December 31, 2020</td>\n",
       "      <td>Severe Acute Respiratory Syndrome COVID</td>\n",
       "      <td>N/A</td>\n",
       "      <td>Inclusion Criteria:\\n\\nLaboratory confirmed CO...</td>\n",
       "      <td>SARS-CoV-2 plasma</td>\n",
       "      <td>Drug</td>\n",
       "      <td>NCT04411602</td>\n",
       "      <td>Recruiting</td>\n",
       "      <td>[Phase 1]</td>\n",
       "      <td>56</td>\n",
       "      <td></td>\n",
       "      <td>April 7, 2020</td>\n",
       "      <td>2020-06-02</td>\n",
       "      <td>Interventional</td>\n",
       "    </tr>\n",
       "    <tr>\n",
       "      <th>70</th>\n",
       "      <td>Hydroxychloroquine Chemoprophylaxis for COVID-...</td>\n",
       "      <td>October 15, 2020</td>\n",
       "      <td>SARS-CoV-2 Healthcare Workers</td>\n",
       "      <td>Randomized</td>\n",
       "      <td>Inclusion Criteria:\\n\\nAdult healthcare worker...</td>\n",
       "      <td>Hydroxychloroquine Placebo oral tablet</td>\n",
       "      <td>Drug Drug</td>\n",
       "      <td>NCT04370015</td>\n",
       "      <td>Not yet recruiting</td>\n",
       "      <td>[Not Applicable]</td>\n",
       "      <td>71</td>\n",
       "      <td></td>\n",
       "      <td>May 15, 2020</td>\n",
       "      <td>2020-04-30</td>\n",
       "      <td>Interventional</td>\n",
       "    </tr>\n",
       "    <tr>\n",
       "      <th>74</th>\n",
       "      <td>Prevention of SARS-CoV-2 in Hospital Workers s...</td>\n",
       "      <td>July 15, 2020</td>\n",
       "      <td>SARS-CoV-2 Infection</td>\n",
       "      <td>Randomized</td>\n",
       "      <td>Inclusion Criteria:\\n\\nHospital workers workin...</td>\n",
       "      <td>hydroxychloroquine azithromycin hydroxychloroq...</td>\n",
       "      <td>Drug Drug Drug</td>\n",
       "      <td>NCT04344379</td>\n",
       "      <td>Suspended</td>\n",
       "      <td>[Phase 3]</td>\n",
       "      <td>75</td>\n",
       "      <td></td>\n",
       "      <td>April 17, 2020</td>\n",
       "      <td>2020-04-14</td>\n",
       "      <td>Interventional</td>\n",
       "    </tr>\n",
       "    <tr>\n",
       "      <th>83</th>\n",
       "      <td>Peginterferon Lambda-1a for the Prevention and...</td>\n",
       "      <td>December 2021</td>\n",
       "      <td>Sars-CoV2</td>\n",
       "      <td>Randomized</td>\n",
       "      <td>Inclusion Criteria:\\n\\nWilling and able to pro...</td>\n",
       "      <td>Peginterferon lambda alfa-1a subcutaneous inje...</td>\n",
       "      <td>Drug Other</td>\n",
       "      <td>NCT04344600</td>\n",
       "      <td>Recruiting</td>\n",
       "      <td>[Phase 2]</td>\n",
       "      <td>84</td>\n",
       "      <td></td>\n",
       "      <td>May 29, 2020</td>\n",
       "      <td>2020-04-14</td>\n",
       "      <td>Interventional</td>\n",
       "    </tr>\n",
       "  </tbody>\n",
       "</table>\n",
       "</div>"
      ],
      "text/plain": [
       "                                           BriefTitle     CompletionDate  \\\n",
       "42  Administration of Anti-SARS-CoV-2 Convalescent...      December 2021   \n",
       "55  Feasibility Study of Anti-SARS-CoV-2 Plasma Tr...  December 31, 2020   \n",
       "70  Hydroxychloroquine Chemoprophylaxis for COVID-...   October 15, 2020   \n",
       "74  Prevention of SARS-CoV-2 in Hospital Workers s...      July 15, 2020   \n",
       "83  Peginterferon Lambda-1a for the Prevention and...      December 2021   \n",
       "\n",
       "                                  Condition DesignAllocation  \\\n",
       "42                                 COVID-19       Randomized   \n",
       "55  Severe Acute Respiratory Syndrome COVID              N/A   \n",
       "70            SARS-CoV-2 Healthcare Workers       Randomized   \n",
       "74                     SARS-CoV-2 Infection       Randomized   \n",
       "83                                Sars-CoV2       Randomized   \n",
       "\n",
       "                                  EligibilityCriteria  \\\n",
       "42  Inclusion Criteria:\\n\\nPatients ≥18 years of a...   \n",
       "55  Inclusion Criteria:\\n\\nLaboratory confirmed CO...   \n",
       "70  Inclusion Criteria:\\n\\nAdult healthcare worker...   \n",
       "74  Inclusion Criteria:\\n\\nHospital workers workin...   \n",
       "83  Inclusion Criteria:\\n\\nWilling and able to pro...   \n",
       "\n",
       "                                     InterventionName InterventionType  \\\n",
       "42                     anti-SARS-CoV-2 plasma Placebo       Drug Other   \n",
       "55                                  SARS-CoV-2 plasma             Drug   \n",
       "70             Hydroxychloroquine Placebo oral tablet        Drug Drug   \n",
       "74  hydroxychloroquine azithromycin hydroxychloroq...   Drug Drug Drug   \n",
       "83  Peginterferon lambda alfa-1a subcutaneous inje...       Drug Other   \n",
       "\n",
       "          NCTId       OverallStatus             Phase  Rank  \\\n",
       "42  NCT04467151  Not yet recruiting         [Phase 2]    43   \n",
       "55  NCT04411602          Recruiting         [Phase 1]    56   \n",
       "70  NCT04370015  Not yet recruiting  [Not Applicable]    71   \n",
       "74  NCT04344379           Suspended         [Phase 3]    75   \n",
       "83  NCT04344600          Recruiting         [Phase 2]    84   \n",
       "\n",
       "   ResultsFirstPostDate       StartDate StudyFirstPostDate       StudyType  \n",
       "42                          August 2020         2020-07-10  Interventional  \n",
       "55                        April 7, 2020         2020-06-02  Interventional  \n",
       "70                         May 15, 2020         2020-04-30  Interventional  \n",
       "74                       April 17, 2020         2020-04-14  Interventional  \n",
       "83                         May 29, 2020         2020-04-14  Interventional  "
      ]
     },
     "execution_count": 52,
     "metadata": {},
     "output_type": "execute_result"
    }
   ],
   "source": [
    "drug_trials = interventional_trials.loc[interventional_trials[\"InterventionType\"].str.contains(\"Drug\")]\n",
    "drug_trials.head()"
   ]
  },
  {
   "cell_type": "markdown",
   "metadata": {},
   "source": [
    "The number of interventional trials with \"intervention type = Drug\" for covid-19:"
   ]
  },
  {
   "cell_type": "code",
   "execution_count": 53,
   "metadata": {
    "scrolled": true
   },
   "outputs": [
    {
     "data": {
      "text/plain": [
       "(865, 15)"
      ]
     },
     "execution_count": 53,
     "metadata": {},
     "output_type": "execute_result"
    }
   ],
   "source": [
    "drug_trials.shape\n"
   ]
  },
  {
   "cell_type": "code",
   "execution_count": 27,
   "metadata": {},
   "outputs": [
    {
     "name": "stderr",
     "output_type": "stream",
     "text": [
      "c:\\users\\katerina\\appdata\\local\\programs\\python\\python37\\lib\\site-packages\\ipykernel_launcher.py:1: SettingWithCopyWarning: \n",
      "A value is trying to be set on a copy of a slice from a DataFrame.\n",
      "Try using .loc[row_indexer,col_indexer] = value instead\n",
      "\n",
      "See the caveats in the documentation: http://pandas.pydata.org/pandas-docs/stable/indexing.html#indexing-view-versus-copy\n",
      "  \"\"\"Entry point for launching an IPython kernel.\n"
     ]
    }
   ],
   "source": [
    "drug_trials[\"InterventionName_lower\"]=drug_trials[\"InterventionName\"].str.lower()\n"
   ]
  },
  {
   "cell_type": "markdown",
   "metadata": {},
   "source": [
    "Retreving all intervention frug trials containing tocilizumab. "
   ]
  },
  {
   "cell_type": "code",
   "execution_count": 29,
   "metadata": {},
   "outputs": [],
   "source": [
    "drug_trials_tocilizumab = drug_trials.loc[drug_trials[\"InterventionName_lower\"].str.contains(\"tocilizumab\")]"
   ]
  },
  {
   "cell_type": "markdown",
   "metadata": {},
   "source": [
    "35 intervnetional drug trials containing tocilizumab were found:"
   ]
  },
  {
   "cell_type": "code",
   "execution_count": 33,
   "metadata": {},
   "outputs": [
    {
     "data": {
      "text/plain": [
       "(35, 16)"
      ]
     },
     "execution_count": 33,
     "metadata": {},
     "output_type": "execute_result"
    }
   ],
   "source": [
    "drug_trials_tocilizumab.shape"
   ]
  },
  {
   "cell_type": "code",
   "execution_count": 34,
   "metadata": {},
   "outputs": [
    {
     "data": {
      "text/html": [
       "<div>\n",
       "<style scoped>\n",
       "    .dataframe tbody tr th:only-of-type {\n",
       "        vertical-align: middle;\n",
       "    }\n",
       "\n",
       "    .dataframe tbody tr th {\n",
       "        vertical-align: top;\n",
       "    }\n",
       "\n",
       "    .dataframe thead th {\n",
       "        text-align: right;\n",
       "    }\n",
       "</style>\n",
       "<table border=\"1\" class=\"dataframe\">\n",
       "  <thead>\n",
       "    <tr style=\"text-align: right;\">\n",
       "      <th></th>\n",
       "      <th>BriefTitle</th>\n",
       "      <th>CompletionDate</th>\n",
       "      <th>Condition</th>\n",
       "      <th>DesignAllocation</th>\n",
       "      <th>EligibilityCriteria</th>\n",
       "      <th>InterventionName</th>\n",
       "      <th>InterventionType</th>\n",
       "      <th>NCTId</th>\n",
       "      <th>OverallStatus</th>\n",
       "      <th>Phase</th>\n",
       "      <th>Rank</th>\n",
       "      <th>ResultsFirstPostDate</th>\n",
       "      <th>StartDate</th>\n",
       "      <th>StudyFirstPostDate</th>\n",
       "      <th>StudyType</th>\n",
       "      <th>InterventionName_lower</th>\n",
       "    </tr>\n",
       "  </thead>\n",
       "  <tbody>\n",
       "    <tr>\n",
       "      <th>45</th>\n",
       "      <td>Efficacy of Tocilizumab on Patients With COVID-19</td>\n",
       "      <td>October 1, 2020</td>\n",
       "      <td>SARS-CoV 2</td>\n",
       "      <td>Randomized</td>\n",
       "      <td>Inclusion criteria:\\n\\nSubjects who meet all o...</td>\n",
       "      <td>Tocilizumab Placebos</td>\n",
       "      <td>Drug Drug</td>\n",
       "      <td>NCT04356937</td>\n",
       "      <td>Active, not recruiting</td>\n",
       "      <td>[Phase 3]</td>\n",
       "      <td>746</td>\n",
       "      <td></td>\n",
       "      <td>April 20, 2020</td>\n",
       "      <td>2020-04-22</td>\n",
       "      <td>Interventional</td>\n",
       "      <td>tocilizumab placebos</td>\n",
       "    </tr>\n",
       "    <tr>\n",
       "      <th>63</th>\n",
       "      <td>Prospective Study in Patients With Advanced or...</td>\n",
       "      <td>August 2020</td>\n",
       "      <td>SARS-CoV-2 (COVID-19) Infection Advanced or Me...</td>\n",
       "      <td>Randomized</td>\n",
       "      <td>Inclusion Criteria:\\n\\nI1. Age 18 or older at ...</td>\n",
       "      <td>Chloroquine analog (GNS651) Nivolumab Tocilizu...</td>\n",
       "      <td>Drug Drug Drug Other Drug Drug</td>\n",
       "      <td>NCT04333914</td>\n",
       "      <td>Suspended</td>\n",
       "      <td>[Phase 2]</td>\n",
       "      <td>764</td>\n",
       "      <td></td>\n",
       "      <td>April 15, 2020</td>\n",
       "      <td>2020-04-03</td>\n",
       "      <td>Interventional</td>\n",
       "      <td>chloroquine analog (gns651) nivolumab tocilizu...</td>\n",
       "    </tr>\n",
       "    <tr>\n",
       "      <th>41</th>\n",
       "      <td>Clinical Trial of Combined Use of Hydroxychlor...</td>\n",
       "      <td>October 2020</td>\n",
       "      <td>COVID-19</td>\n",
       "      <td>Randomized</td>\n",
       "      <td>Inclusion Criteria:\\n\\nSubject (or authorized ...</td>\n",
       "      <td>Tocilizumab Hydroxychloroquine Azithromycin</td>\n",
       "      <td>Drug Drug Drug</td>\n",
       "      <td>NCT04332094</td>\n",
       "      <td>Recruiting</td>\n",
       "      <td>[Phase 2]</td>\n",
       "      <td>1042</td>\n",
       "      <td></td>\n",
       "      <td>April 2, 2020</td>\n",
       "      <td>2020-04-02</td>\n",
       "      <td>Interventional</td>\n",
       "      <td>tocilizumab hydroxychloroquine azithromycin</td>\n",
       "    </tr>\n",
       "    <tr>\n",
       "      <th>56</th>\n",
       "      <td>Tocilizumab Treatment in Patients With COVID-19</td>\n",
       "      <td>August 1, 2021</td>\n",
       "      <td>Sars-CoV2</td>\n",
       "      <td>N/A</td>\n",
       "      <td>Inclusion Criteria:\\n\\nPatients 18 years or ol...</td>\n",
       "      <td>Tocilizumab</td>\n",
       "      <td>Drug</td>\n",
       "      <td>NCT04363853</td>\n",
       "      <td>Recruiting</td>\n",
       "      <td>[Phase 2]</td>\n",
       "      <td>1057</td>\n",
       "      <td></td>\n",
       "      <td>June 1, 2020</td>\n",
       "      <td>2020-04-27</td>\n",
       "      <td>Interventional</td>\n",
       "      <td>tocilizumab</td>\n",
       "    </tr>\n",
       "    <tr>\n",
       "      <th>85</th>\n",
       "      <td>Personalised Immunotherapy for SARS-CoV-2 (COV...</td>\n",
       "      <td>April 1, 2022</td>\n",
       "      <td>COVID-19 Virus Diseases Macrophage Activation ...</td>\n",
       "      <td>Non-Randomized</td>\n",
       "      <td>Inclusion Criteria:\\n\\nAge equal to or above 1...</td>\n",
       "      <td>Anakinra Tocilizumab</td>\n",
       "      <td>Drug Drug</td>\n",
       "      <td>NCT04339712</td>\n",
       "      <td>Recruiting</td>\n",
       "      <td>[Phase 2]</td>\n",
       "      <td>1086</td>\n",
       "      <td></td>\n",
       "      <td>April 2, 2020</td>\n",
       "      <td>2020-04-09</td>\n",
       "      <td>Interventional</td>\n",
       "      <td>anakinra tocilizumab</td>\n",
       "    </tr>\n",
       "    <tr>\n",
       "      <th>25</th>\n",
       "      <td>Study to Evaluate the Efficacy and Safety of T...</td>\n",
       "      <td>October 31, 2020</td>\n",
       "      <td>COVID-19</td>\n",
       "      <td>Randomized</td>\n",
       "      <td>Inclusion Criteria:\\n\\n1) Hospitalised symptom...</td>\n",
       "      <td>Tocilizumab Methylprednisolone</td>\n",
       "      <td>Drug Drug</td>\n",
       "      <td>NCT04345445</td>\n",
       "      <td>Not yet recruiting</td>\n",
       "      <td>[Phase 3]</td>\n",
       "      <td>1226</td>\n",
       "      <td></td>\n",
       "      <td>April 15, 2020</td>\n",
       "      <td>2020-04-14</td>\n",
       "      <td>Interventional</td>\n",
       "      <td>tocilizumab methylprednisolone</td>\n",
       "    </tr>\n",
       "    <tr>\n",
       "      <th>54</th>\n",
       "      <td>Tocilizumab in the Treatment of Coronavirus In...</td>\n",
       "      <td>October 2020</td>\n",
       "      <td>SARS-CoV-2 Infection</td>\n",
       "      <td>Randomized</td>\n",
       "      <td>Inclusion Criteria:\\n\\nI (first step):\\n\\nAdmi...</td>\n",
       "      <td>Tocilizumab (TCZ) Placebo</td>\n",
       "      <td>Drug Drug</td>\n",
       "      <td>NCT04335071</td>\n",
       "      <td>Recruiting</td>\n",
       "      <td>[Phase 2]</td>\n",
       "      <td>1255</td>\n",
       "      <td></td>\n",
       "      <td>April 26, 2020</td>\n",
       "      <td>2020-04-06</td>\n",
       "      <td>Interventional</td>\n",
       "      <td>tocilizumab (tcz) placebo</td>\n",
       "    </tr>\n",
       "    <tr>\n",
       "      <th>96</th>\n",
       "      <td>Ultra Low Doses of Therapy With Radiation Appl...</td>\n",
       "      <td>April 21, 2021</td>\n",
       "      <td>Pneumonia, Viral Cytokine Storm</td>\n",
       "      <td>N/A</td>\n",
       "      <td>Inclusion Criteria:\\n\\nAge &gt; 18 years-old.\\nDi...</td>\n",
       "      <td>Ultra-Low-dose radiotherapy ventilatory suppor...</td>\n",
       "      <td>Radiation Device Drug Drug Drug Drug Drug Drug...</td>\n",
       "      <td>NCT04394182</td>\n",
       "      <td>Recruiting</td>\n",
       "      <td>[Not Applicable]</td>\n",
       "      <td>1297</td>\n",
       "      <td></td>\n",
       "      <td>April 21, 2020</td>\n",
       "      <td>2020-05-19</td>\n",
       "      <td>Interventional</td>\n",
       "      <td>ultra-low-dose radiotherapy ventilatory suppor...</td>\n",
       "    </tr>\n",
       "    <tr>\n",
       "      <th>24</th>\n",
       "      <td>Efficacy of Early Administration of Tocilizuma...</td>\n",
       "      <td>June 6, 2020</td>\n",
       "      <td>COVID-19 Pneumonia</td>\n",
       "      <td>Randomized</td>\n",
       "      <td>Inclusion Criteria:\\n\\nage &gt; 18 years\\nInforme...</td>\n",
       "      <td>Tocilizumab</td>\n",
       "      <td>Drug</td>\n",
       "      <td>NCT04346355</td>\n",
       "      <td>Terminated</td>\n",
       "      <td>[Phase 2]</td>\n",
       "      <td>1325</td>\n",
       "      <td></td>\n",
       "      <td>March 31, 2020</td>\n",
       "      <td>2020-04-15</td>\n",
       "      <td>Interventional</td>\n",
       "      <td>tocilizumab</td>\n",
       "    </tr>\n",
       "    <tr>\n",
       "      <th>75</th>\n",
       "      <td>The Use of Tocilizumab in the Management of Pa...</td>\n",
       "      <td>May 8, 2021</td>\n",
       "      <td>Covid19 Pneumonia</td>\n",
       "      <td>Randomized</td>\n",
       "      <td>Inclusion Criteria:\\n\\nAny gender\\nAge 18 and ...</td>\n",
       "      <td>Tocilizumab</td>\n",
       "      <td>Drug</td>\n",
       "      <td>NCT04377750</td>\n",
       "      <td>Recruiting</td>\n",
       "      <td>[Phase 4]</td>\n",
       "      <td>1476</td>\n",
       "      <td></td>\n",
       "      <td>April 8, 2020</td>\n",
       "      <td>2020-05-06</td>\n",
       "      <td>Interventional</td>\n",
       "      <td>tocilizumab</td>\n",
       "    </tr>\n",
       "    <tr>\n",
       "      <th>54</th>\n",
       "      <td>Clinical Trial to Evaluate the Effectiveness a...</td>\n",
       "      <td>August 22, 2020</td>\n",
       "      <td>COVID-19</td>\n",
       "      <td>N/A</td>\n",
       "      <td>Inclusion Criteria:\\n\\nProvide oral informed c...</td>\n",
       "      <td>Tocilizumab</td>\n",
       "      <td>Drug</td>\n",
       "      <td>NCT04445272</td>\n",
       "      <td>Recruiting</td>\n",
       "      <td>[Phase 2]</td>\n",
       "      <td>1555</td>\n",
       "      <td></td>\n",
       "      <td>May 22, 2020</td>\n",
       "      <td>2020-06-24</td>\n",
       "      <td>Interventional</td>\n",
       "      <td>tocilizumab</td>\n",
       "    </tr>\n",
       "    <tr>\n",
       "      <th>97</th>\n",
       "      <td>Tocilizumab for SARS-CoV2 (COVID-19) Severe Pn...</td>\n",
       "      <td>May 2020</td>\n",
       "      <td>SARS Pneumonia</td>\n",
       "      <td>N/A</td>\n",
       "      <td>Inclusion Criteria:\\n\\nSARS-CoV2 Infection dia...</td>\n",
       "      <td>Tocilizumab</td>\n",
       "      <td>Drug</td>\n",
       "      <td>NCT04315480</td>\n",
       "      <td>Active, not recruiting</td>\n",
       "      <td>[Phase 2]</td>\n",
       "      <td>1598</td>\n",
       "      <td></td>\n",
       "      <td>March 12, 2020</td>\n",
       "      <td>2020-03-19</td>\n",
       "      <td>Interventional</td>\n",
       "      <td>tocilizumab</td>\n",
       "    </tr>\n",
       "    <tr>\n",
       "      <th>57</th>\n",
       "      <td>Tocilizumab Versus Methylprednisolone in the C...</td>\n",
       "      <td>November 2020</td>\n",
       "      <td>Cytokine Release Syndrome Covid-19</td>\n",
       "      <td>Randomized</td>\n",
       "      <td>Inclusion Criteria:\\n\\nMen and non-pregnant wo...</td>\n",
       "      <td>Tocilizumab 180 MG/ML Methylprednisolone Sodiu...</td>\n",
       "      <td>Drug Drug</td>\n",
       "      <td>NCT04377503</td>\n",
       "      <td>Not yet recruiting</td>\n",
       "      <td>[Phase 2]</td>\n",
       "      <td>1758</td>\n",
       "      <td></td>\n",
       "      <td>May 2020</td>\n",
       "      <td>2020-05-06</td>\n",
       "      <td>Interventional</td>\n",
       "      <td>tocilizumab 180 mg/ml methylprednisolone sodiu...</td>\n",
       "    </tr>\n",
       "    <tr>\n",
       "      <th>72</th>\n",
       "      <td>Tocilizumab to Prevent Clinical Decompensation...</td>\n",
       "      <td>June 5, 2020</td>\n",
       "      <td>COVID-19</td>\n",
       "      <td>Non-Randomized</td>\n",
       "      <td>Inclusion Criteria:\\n\\nAdults ≥ 18 years of ag...</td>\n",
       "      <td>Tocilizumab Tocilizumab</td>\n",
       "      <td>Drug Drug</td>\n",
       "      <td>NCT04331795</td>\n",
       "      <td>Completed</td>\n",
       "      <td>[Phase 2]</td>\n",
       "      <td>1773</td>\n",
       "      <td></td>\n",
       "      <td>April 4, 2020</td>\n",
       "      <td>2020-04-02</td>\n",
       "      <td>Interventional</td>\n",
       "      <td>tocilizumab tocilizumab</td>\n",
       "    </tr>\n",
       "    <tr>\n",
       "      <th>13</th>\n",
       "      <td>Tocilizumab in COVID-19 Pneumonia (TOCIVID-19)</td>\n",
       "      <td>December 19, 2022</td>\n",
       "      <td>COVID-19 Pneumonia</td>\n",
       "      <td>N/A</td>\n",
       "      <td>Inclusion Criteria:\\n\\nAny gender\\nNo age limi...</td>\n",
       "      <td>Tocilizumab Injection</td>\n",
       "      <td>Drug</td>\n",
       "      <td>NCT04317092</td>\n",
       "      <td>Recruiting</td>\n",
       "      <td>[Phase 2]</td>\n",
       "      <td>2014</td>\n",
       "      <td></td>\n",
       "      <td>March 19, 2020</td>\n",
       "      <td>2020-03-20</td>\n",
       "      <td>Interventional</td>\n",
       "      <td>tocilizumab injection</td>\n",
       "    </tr>\n",
       "    <tr>\n",
       "      <th>50</th>\n",
       "      <td>A Study in Patients With COVID-19 and Respirat...</td>\n",
       "      <td>February 2021</td>\n",
       "      <td>Covid-19</td>\n",
       "      <td>Randomized</td>\n",
       "      <td>Inclusion Criteria:\\n\\nLaboratory-confirmed SA...</td>\n",
       "      <td>Anakinra Prefilled Syringe Tocilizumab Prefill...</td>\n",
       "      <td>Drug Drug Drug</td>\n",
       "      <td>NCT04412291</td>\n",
       "      <td>Recruiting</td>\n",
       "      <td>[Phase 2]</td>\n",
       "      <td>2051</td>\n",
       "      <td></td>\n",
       "      <td>June 11, 2020</td>\n",
       "      <td>2020-06-02</td>\n",
       "      <td>Interventional</td>\n",
       "      <td>anakinra prefilled syringe tocilizumab prefill...</td>\n",
       "    </tr>\n",
       "    <tr>\n",
       "      <th>68</th>\n",
       "      <td>Safety and Efficacy of Tocilizumab in Moderate...</td>\n",
       "      <td>July 21, 2020</td>\n",
       "      <td>COVID SARS Pneumonia Cytokine Release Syndrome</td>\n",
       "      <td>Randomized</td>\n",
       "      <td>Inclusion Criteria:\\n\\nMale and females with 1...</td>\n",
       "      <td>Tocilizumab</td>\n",
       "      <td>Drug</td>\n",
       "      <td>NCT04403685</td>\n",
       "      <td>Terminated</td>\n",
       "      <td>[Phase 3]</td>\n",
       "      <td>2269</td>\n",
       "      <td></td>\n",
       "      <td>May 8, 2020</td>\n",
       "      <td>2020-05-27</td>\n",
       "      <td>Interventional</td>\n",
       "      <td>tocilizumab</td>\n",
       "    </tr>\n",
       "    <tr>\n",
       "      <th>26</th>\n",
       "      <td>Treatment of COVID-19 Patients With Anti-inter...</td>\n",
       "      <td>December 2020</td>\n",
       "      <td>COVID-19</td>\n",
       "      <td>Randomized</td>\n",
       "      <td>Inclusion Criteria:\\n\\nRecent ( ≥ 6 days of fl...</td>\n",
       "      <td>Usual Care Anakinra Siltuximab Tocilizumab</td>\n",
       "      <td>Other Drug Drug Drug</td>\n",
       "      <td>NCT04330638</td>\n",
       "      <td>Recruiting</td>\n",
       "      <td>[Phase 3]</td>\n",
       "      <td>2327</td>\n",
       "      <td></td>\n",
       "      <td>April 3, 2020</td>\n",
       "      <td>2020-04-01</td>\n",
       "      <td>Interventional</td>\n",
       "      <td>usual care anakinra siltuximab tocilizumab</td>\n",
       "    </tr>\n",
       "    <tr>\n",
       "      <th>43</th>\n",
       "      <td>A Study to Evaluate the Safety and Efficacy of...</td>\n",
       "      <td>July 28, 2020</td>\n",
       "      <td>COVID-19 Pneumonia</td>\n",
       "      <td>Randomized</td>\n",
       "      <td>Inclusion Criteria:\\n\\nHospitalized with COVID...</td>\n",
       "      <td>Tocilizumab (TCZ) Placebo</td>\n",
       "      <td>Drug Drug</td>\n",
       "      <td>NCT04320615</td>\n",
       "      <td>Completed</td>\n",
       "      <td>[Phase 3]</td>\n",
       "      <td>2344</td>\n",
       "      <td></td>\n",
       "      <td>April 3, 2020</td>\n",
       "      <td>2020-03-25</td>\n",
       "      <td>Interventional</td>\n",
       "      <td>tocilizumab (tcz) placebo</td>\n",
       "    </tr>\n",
       "    <tr>\n",
       "      <th>85</th>\n",
       "      <td>Efficacy of Tocilizumab in Modifying the Infla...</td>\n",
       "      <td>August 4, 2020</td>\n",
       "      <td>Covid19</td>\n",
       "      <td>Randomized</td>\n",
       "      <td>Inclusion Criteria:\\n\\nPatients over 18 years ...</td>\n",
       "      <td>Tocilizumab 20 MG/ML Intravenous Solution [ACT...</td>\n",
       "      <td>Drug Drug</td>\n",
       "      <td>NCT04435717</td>\n",
       "      <td>Recruiting</td>\n",
       "      <td>[Phase 2]</td>\n",
       "      <td>2386</td>\n",
       "      <td></td>\n",
       "      <td>May 4, 2020</td>\n",
       "      <td>2020-06-17</td>\n",
       "      <td>Interventional</td>\n",
       "      <td>tocilizumab 20 mg/ml intravenous solution [act...</td>\n",
       "    </tr>\n",
       "    <tr>\n",
       "      <th>51</th>\n",
       "      <td>Tocilizumab for Prevention of Respiratory Fail...</td>\n",
       "      <td>May 1, 2021</td>\n",
       "      <td>COVID-19</td>\n",
       "      <td>Randomized</td>\n",
       "      <td>Inclusion Criteria:\\n\\nPatient or designated p...</td>\n",
       "      <td>Tocilizumab</td>\n",
       "      <td>Drug</td>\n",
       "      <td>NCT04377659</td>\n",
       "      <td>Recruiting</td>\n",
       "      <td>[Phase 2]</td>\n",
       "      <td>2452</td>\n",
       "      <td></td>\n",
       "      <td>May 1, 2020</td>\n",
       "      <td>2020-05-06</td>\n",
       "      <td>Interventional</td>\n",
       "      <td>tocilizumab</td>\n",
       "    </tr>\n",
       "    <tr>\n",
       "      <th>62</th>\n",
       "      <td>A Trial Using ANAKINRA, TOCILIZUMAB Alone or i...</td>\n",
       "      <td>November 1, 2022</td>\n",
       "      <td>Covid19</td>\n",
       "      <td>Randomized</td>\n",
       "      <td>Inclusion Criteria:\\n\\nPatients older than 18 ...</td>\n",
       "      <td>Anakinra +/- Ruxolitinib (stages 2b/3) Anakinr...</td>\n",
       "      <td>Drug Drug Drug Drug Other</td>\n",
       "      <td>NCT04424056</td>\n",
       "      <td>Not yet recruiting</td>\n",
       "      <td>[Phase 3]</td>\n",
       "      <td>2463</td>\n",
       "      <td></td>\n",
       "      <td>September 1, 2020</td>\n",
       "      <td>2020-06-09</td>\n",
       "      <td>Interventional</td>\n",
       "      <td>anakinra +/- ruxolitinib (stages 2b/3) anakinr...</td>\n",
       "    </tr>\n",
       "    <tr>\n",
       "      <th>79</th>\n",
       "      <td>The Fleming [FMTVDM] Directed CoVid-19 Treatme...</td>\n",
       "      <td>November 11, 2020</td>\n",
       "      <td>CoVid 19 Positive</td>\n",
       "      <td>Randomized</td>\n",
       "      <td>Inclusion Criteria: CoVid-19 -\\n\\nExclusion Cr...</td>\n",
       "      <td>Hydroxychloroquine, Azithromycin Hydroxychloro...</td>\n",
       "      <td>Drug Drug Drug Drug Drug Drug Drug Drug Drug D...</td>\n",
       "      <td>NCT04349410</td>\n",
       "      <td>Enrolling by invitation</td>\n",
       "      <td>[Phase 2, Phase 3]</td>\n",
       "      <td>2480</td>\n",
       "      <td></td>\n",
       "      <td>April 11, 2020</td>\n",
       "      <td>2020-04-16</td>\n",
       "      <td>Interventional</td>\n",
       "      <td>hydroxychloroquine, azithromycin hydroxychloro...</td>\n",
       "    </tr>\n",
       "    <tr>\n",
       "      <th>12</th>\n",
       "      <td>A RCT - Safety &amp; Efficacy of Tocilizumab - Tx ...</td>\n",
       "      <td>December 31, 2021</td>\n",
       "      <td>COVID-19</td>\n",
       "      <td>Randomized</td>\n",
       "      <td>Inclusion Criteria:\\n\\nii. Hospitalized with C...</td>\n",
       "      <td>Tocilizumab Placebo</td>\n",
       "      <td>Drug Drug</td>\n",
       "      <td>NCT04412772</td>\n",
       "      <td>Recruiting</td>\n",
       "      <td>[Phase 3]</td>\n",
       "      <td>2513</td>\n",
       "      <td></td>\n",
       "      <td>June 1, 2020</td>\n",
       "      <td>2020-06-02</td>\n",
       "      <td>Interventional</td>\n",
       "      <td>tocilizumab placebo</td>\n",
       "    </tr>\n",
       "    <tr>\n",
       "      <th>23</th>\n",
       "      <td>A Study to Evaluate the Efficacy and Safety of...</td>\n",
       "      <td>September 19, 2020</td>\n",
       "      <td>COVID-19 Pneumonia</td>\n",
       "      <td>Randomized</td>\n",
       "      <td>Inclusion Criteria\\n\\nHospitalized\\nCOVID-19 p...</td>\n",
       "      <td>Placebo Tocilizumab</td>\n",
       "      <td>Drug Drug</td>\n",
       "      <td>NCT04372186</td>\n",
       "      <td>Active, not recruiting</td>\n",
       "      <td>[Phase 3]</td>\n",
       "      <td>2524</td>\n",
       "      <td></td>\n",
       "      <td>May 14, 2020</td>\n",
       "      <td>2020-05-01</td>\n",
       "      <td>Interventional</td>\n",
       "      <td>placebo tocilizumab</td>\n",
       "    </tr>\n",
       "    <tr>\n",
       "      <th>46</th>\n",
       "      <td>A Study to Evaluate the Efficacy and Safety of...</td>\n",
       "      <td>December 1, 2020</td>\n",
       "      <td>COVID-19 Pneumonia</td>\n",
       "      <td>Randomized</td>\n",
       "      <td>Inclusion Criteria\\n\\nHospitalized with COVID-...</td>\n",
       "      <td>Remdesivir Tocilizumab Placebo</td>\n",
       "      <td>Drug Drug Drug</td>\n",
       "      <td>NCT04409262</td>\n",
       "      <td>Recruiting</td>\n",
       "      <td>[Phase 3]</td>\n",
       "      <td>2547</td>\n",
       "      <td></td>\n",
       "      <td>June 16, 2020</td>\n",
       "      <td>2020-06-01</td>\n",
       "      <td>Interventional</td>\n",
       "      <td>remdesivir tocilizumab placebo</td>\n",
       "    </tr>\n",
       "    <tr>\n",
       "      <th>93</th>\n",
       "      <td>Low Dose Anti-inflammatory Radiotherapy for th...</td>\n",
       "      <td>July 1, 2021</td>\n",
       "      <td>Pneumonia, Viral</td>\n",
       "      <td>Non-Randomized</td>\n",
       "      <td>Inclusion Criteria:\\n\\nAge &gt;=18 years old\\nMod...</td>\n",
       "      <td>Low-dose radiotherapy Hydroxychloroquine Sulfa...</td>\n",
       "      <td>Radiation Drug Drug Drug Drug Drug Drug Device</td>\n",
       "      <td>NCT04380818</td>\n",
       "      <td>Recruiting</td>\n",
       "      <td>[Not Applicable]</td>\n",
       "      <td>2594</td>\n",
       "      <td></td>\n",
       "      <td>June 5, 2020</td>\n",
       "      <td>2020-05-08</td>\n",
       "      <td>Interventional</td>\n",
       "      <td>low-dose radiotherapy hydroxychloroquine sulfa...</td>\n",
       "    </tr>\n",
       "    <tr>\n",
       "      <th>8</th>\n",
       "      <td>Randomised Evaluation of COVID-19 Therapy</td>\n",
       "      <td>December 2031</td>\n",
       "      <td>Severe Acute Respiratory Syndrome</td>\n",
       "      <td>Randomized</td>\n",
       "      <td>Inclusion Criteria:\\n\\n(i) Hospitalised\\n(ii) ...</td>\n",
       "      <td>Lopinavir-Ritonavir Corticosteroid Hydroxychlo...</td>\n",
       "      <td>Drug Drug Drug Drug Biological Drug Biological</td>\n",
       "      <td>NCT04381936</td>\n",
       "      <td>Recruiting</td>\n",
       "      <td>[Phase 2, Phase 3]</td>\n",
       "      <td>2609</td>\n",
       "      <td></td>\n",
       "      <td>March 19, 2020</td>\n",
       "      <td>2020-05-11</td>\n",
       "      <td>Interventional</td>\n",
       "      <td>lopinavir-ritonavir corticosteroid hydroxychlo...</td>\n",
       "    </tr>\n",
       "    <tr>\n",
       "      <th>98</th>\n",
       "      <td>Assessment of Efficacy and Safety of Tocilizum...</td>\n",
       "      <td>October 4, 2020</td>\n",
       "      <td>COVID19 Intensive Care Unit</td>\n",
       "      <td>Randomized</td>\n",
       "      <td>Inclusion Criteria:\\n\\nPatient confirmed COVID...</td>\n",
       "      <td>Tocilizumab Injection Deferoxamine</td>\n",
       "      <td>Drug Drug</td>\n",
       "      <td>NCT04361032</td>\n",
       "      <td>Not yet recruiting</td>\n",
       "      <td>[Phase 3]</td>\n",
       "      <td>2699</td>\n",
       "      <td></td>\n",
       "      <td>September 4, 2020</td>\n",
       "      <td>2020-04-24</td>\n",
       "      <td>Interventional</td>\n",
       "      <td>tocilizumab injection deferoxamine</td>\n",
       "    </tr>\n",
       "    <tr>\n",
       "      <th>4</th>\n",
       "      <td>Checkpoint Blockade in COVID-19 Pandemic</td>\n",
       "      <td>August 30, 2020</td>\n",
       "      <td>COVID-19 Pneumonia, Viral</td>\n",
       "      <td>Randomized</td>\n",
       "      <td>Inclusion Criteria:\\n\\nInformed consent form (...</td>\n",
       "      <td>Tocilizumab Pembrolizumab (MK-3475)</td>\n",
       "      <td>Drug Biological</td>\n",
       "      <td>NCT04335305</td>\n",
       "      <td>Recruiting</td>\n",
       "      <td>[Phase 2]</td>\n",
       "      <td>2805</td>\n",
       "      <td></td>\n",
       "      <td>July 1, 2020</td>\n",
       "      <td>2020-04-06</td>\n",
       "      <td>Interventional</td>\n",
       "      <td>tocilizumab pembrolizumab (mk-3475)</td>\n",
       "    </tr>\n",
       "    <tr>\n",
       "      <th>55</th>\n",
       "      <td>Randomized, Embedded, Multifactorial Adaptive ...</td>\n",
       "      <td>December 2023</td>\n",
       "      <td>Community-acquired Pneumonia, Influenza, COVID-19</td>\n",
       "      <td>Randomized</td>\n",
       "      <td>REMAP-CAP PLATFORM INCLUSION CRITERIA:\\n\\nAdul...</td>\n",
       "      <td>Fixed-duration Hydrocortisone Shock-dependent ...</td>\n",
       "      <td>Drug Drug Drug Drug Drug Drug Drug Drug Drug D...</td>\n",
       "      <td>NCT02735707</td>\n",
       "      <td>Recruiting</td>\n",
       "      <td>[Phase 4]</td>\n",
       "      <td>2856</td>\n",
       "      <td></td>\n",
       "      <td>April 11, 2016</td>\n",
       "      <td>2016-04-13</td>\n",
       "      <td>Interventional</td>\n",
       "      <td>fixed-duration hydrocortisone shock-dependent ...</td>\n",
       "    </tr>\n",
       "    <tr>\n",
       "      <th>64</th>\n",
       "      <td>Comparison of Tocilizumab Plus Dexamethasone v...</td>\n",
       "      <td>December 31, 2021</td>\n",
       "      <td>Coronavirus Infection SARS (Severe Acute Respi...</td>\n",
       "      <td>Randomized</td>\n",
       "      <td>Inclusion Criteria:\\n\\nPatients included in th...</td>\n",
       "      <td>Tocilizumab Dexamethasone</td>\n",
       "      <td>Drug Drug</td>\n",
       "      <td>NCT04476979</td>\n",
       "      <td>Recruiting</td>\n",
       "      <td>[Phase 2]</td>\n",
       "      <td>2965</td>\n",
       "      <td></td>\n",
       "      <td>July 16, 2020</td>\n",
       "      <td>2020-07-20</td>\n",
       "      <td>Interventional</td>\n",
       "      <td>tocilizumab dexamethasone</td>\n",
       "    </tr>\n",
       "    <tr>\n",
       "      <th>83</th>\n",
       "      <td>A Study of the Effectiveness of an Off Label M...</td>\n",
       "      <td>August 1, 2020</td>\n",
       "      <td>Pneumonia, Viral Respiratory Failure</td>\n",
       "      <td>Randomized</td>\n",
       "      <td>Inclusion Criteria:\\n\\nMale and female patient...</td>\n",
       "      <td>Mefloquine Hydroxychloroquine Mefloquine + azi...</td>\n",
       "      <td>Drug Drug Combination Product Combination Product</td>\n",
       "      <td>NCT04347031</td>\n",
       "      <td>Active, not recruiting</td>\n",
       "      <td>[Phase 2, Phase 3]</td>\n",
       "      <td>3084</td>\n",
       "      <td></td>\n",
       "      <td>April 8, 2020</td>\n",
       "      <td>2020-04-15</td>\n",
       "      <td>Interventional</td>\n",
       "      <td>mefloquine hydroxychloroquine mefloquine + azi...</td>\n",
       "    </tr>\n",
       "    <tr>\n",
       "      <th>73</th>\n",
       "      <td>CORIMUNO-19 - Tocilizumab Trial - TOCI (CORIMU...</td>\n",
       "      <td>December 31, 2021</td>\n",
       "      <td>Corona Virus Infection</td>\n",
       "      <td>Randomized</td>\n",
       "      <td>Inclusion Criteria:\\n\\nPatients included in th...</td>\n",
       "      <td>Tocilizumab</td>\n",
       "      <td>Drug</td>\n",
       "      <td>NCT04331808</td>\n",
       "      <td>Active, not recruiting</td>\n",
       "      <td>[Phase 2]</td>\n",
       "      <td>3174</td>\n",
       "      <td></td>\n",
       "      <td>March 30, 2020</td>\n",
       "      <td>2020-04-02</td>\n",
       "      <td>Interventional</td>\n",
       "      <td>tocilizumab</td>\n",
       "    </tr>\n",
       "    <tr>\n",
       "      <th>2</th>\n",
       "      <td>Favipiravir Combined With Tocilizumab in the T...</td>\n",
       "      <td>May 2020</td>\n",
       "      <td>COVID-19</td>\n",
       "      <td>Randomized</td>\n",
       "      <td>Inclusion Criteria:\\n\\nClinically diagnosed wi...</td>\n",
       "      <td>Favipiravir Combined With Tocilizumab Favipira...</td>\n",
       "      <td>Drug Drug Drug</td>\n",
       "      <td>NCT04310228</td>\n",
       "      <td>Recruiting</td>\n",
       "      <td>[Not Applicable]</td>\n",
       "      <td>3203</td>\n",
       "      <td></td>\n",
       "      <td>March 8, 2020</td>\n",
       "      <td>2020-03-17</td>\n",
       "      <td>Interventional</td>\n",
       "      <td>favipiravir combined with tocilizumab favipira...</td>\n",
       "    </tr>\n",
       "  </tbody>\n",
       "</table>\n",
       "</div>"
      ],
      "text/plain": [
       "                                           BriefTitle      CompletionDate  \\\n",
       "45  Efficacy of Tocilizumab on Patients With COVID-19     October 1, 2020   \n",
       "63  Prospective Study in Patients With Advanced or...         August 2020   \n",
       "41  Clinical Trial of Combined Use of Hydroxychlor...        October 2020   \n",
       "56    Tocilizumab Treatment in Patients With COVID-19      August 1, 2021   \n",
       "85  Personalised Immunotherapy for SARS-CoV-2 (COV...       April 1, 2022   \n",
       "25  Study to Evaluate the Efficacy and Safety of T...    October 31, 2020   \n",
       "54  Tocilizumab in the Treatment of Coronavirus In...        October 2020   \n",
       "96  Ultra Low Doses of Therapy With Radiation Appl...      April 21, 2021   \n",
       "24  Efficacy of Early Administration of Tocilizuma...        June 6, 2020   \n",
       "75  The Use of Tocilizumab in the Management of Pa...         May 8, 2021   \n",
       "54  Clinical Trial to Evaluate the Effectiveness a...     August 22, 2020   \n",
       "97  Tocilizumab for SARS-CoV2 (COVID-19) Severe Pn...            May 2020   \n",
       "57  Tocilizumab Versus Methylprednisolone in the C...       November 2020   \n",
       "72  Tocilizumab to Prevent Clinical Decompensation...        June 5, 2020   \n",
       "13     Tocilizumab in COVID-19 Pneumonia (TOCIVID-19)   December 19, 2022   \n",
       "50  A Study in Patients With COVID-19 and Respirat...       February 2021   \n",
       "68  Safety and Efficacy of Tocilizumab in Moderate...       July 21, 2020   \n",
       "26  Treatment of COVID-19 Patients With Anti-inter...       December 2020   \n",
       "43  A Study to Evaluate the Safety and Efficacy of...       July 28, 2020   \n",
       "85  Efficacy of Tocilizumab in Modifying the Infla...      August 4, 2020   \n",
       "51  Tocilizumab for Prevention of Respiratory Fail...         May 1, 2021   \n",
       "62  A Trial Using ANAKINRA, TOCILIZUMAB Alone or i...    November 1, 2022   \n",
       "79  The Fleming [FMTVDM] Directed CoVid-19 Treatme...   November 11, 2020   \n",
       "12  A RCT - Safety & Efficacy of Tocilizumab - Tx ...   December 31, 2021   \n",
       "23  A Study to Evaluate the Efficacy and Safety of...  September 19, 2020   \n",
       "46  A Study to Evaluate the Efficacy and Safety of...    December 1, 2020   \n",
       "93  Low Dose Anti-inflammatory Radiotherapy for th...        July 1, 2021   \n",
       "8           Randomised Evaluation of COVID-19 Therapy       December 2031   \n",
       "98  Assessment of Efficacy and Safety of Tocilizum...     October 4, 2020   \n",
       "4            Checkpoint Blockade in COVID-19 Pandemic     August 30, 2020   \n",
       "55  Randomized, Embedded, Multifactorial Adaptive ...       December 2023   \n",
       "64  Comparison of Tocilizumab Plus Dexamethasone v...   December 31, 2021   \n",
       "83  A Study of the Effectiveness of an Off Label M...      August 1, 2020   \n",
       "73  CORIMUNO-19 - Tocilizumab Trial - TOCI (CORIMU...   December 31, 2021   \n",
       "2   Favipiravir Combined With Tocilizumab in the T...            May 2020   \n",
       "\n",
       "                                            Condition DesignAllocation  \\\n",
       "45                                         SARS-CoV 2       Randomized   \n",
       "63  SARS-CoV-2 (COVID-19) Infection Advanced or Me...       Randomized   \n",
       "41                                           COVID-19       Randomized   \n",
       "56                                          Sars-CoV2              N/A   \n",
       "85  COVID-19 Virus Diseases Macrophage Activation ...   Non-Randomized   \n",
       "25                                           COVID-19       Randomized   \n",
       "54                               SARS-CoV-2 Infection       Randomized   \n",
       "96                    Pneumonia, Viral Cytokine Storm              N/A   \n",
       "24                                 COVID-19 Pneumonia       Randomized   \n",
       "75                                  Covid19 Pneumonia       Randomized   \n",
       "54                                           COVID-19              N/A   \n",
       "97                                     SARS Pneumonia              N/A   \n",
       "57                 Cytokine Release Syndrome Covid-19       Randomized   \n",
       "72                                           COVID-19   Non-Randomized   \n",
       "13                                 COVID-19 Pneumonia              N/A   \n",
       "50                                           Covid-19       Randomized   \n",
       "68     COVID SARS Pneumonia Cytokine Release Syndrome       Randomized   \n",
       "26                                           COVID-19       Randomized   \n",
       "43                                 COVID-19 Pneumonia       Randomized   \n",
       "85                                            Covid19       Randomized   \n",
       "51                                           COVID-19       Randomized   \n",
       "62                                            Covid19       Randomized   \n",
       "79                                  CoVid 19 Positive       Randomized   \n",
       "12                                           COVID-19       Randomized   \n",
       "23                                 COVID-19 Pneumonia       Randomized   \n",
       "46                                 COVID-19 Pneumonia       Randomized   \n",
       "93                                   Pneumonia, Viral   Non-Randomized   \n",
       "8                   Severe Acute Respiratory Syndrome       Randomized   \n",
       "98                        COVID19 Intensive Care Unit       Randomized   \n",
       "4                           COVID-19 Pneumonia, Viral       Randomized   \n",
       "55  Community-acquired Pneumonia, Influenza, COVID-19       Randomized   \n",
       "64  Coronavirus Infection SARS (Severe Acute Respi...       Randomized   \n",
       "83               Pneumonia, Viral Respiratory Failure       Randomized   \n",
       "73                             Corona Virus Infection       Randomized   \n",
       "2                                            COVID-19       Randomized   \n",
       "\n",
       "                                  EligibilityCriteria  \\\n",
       "45  Inclusion criteria:\\n\\nSubjects who meet all o...   \n",
       "63  Inclusion Criteria:\\n\\nI1. Age 18 or older at ...   \n",
       "41  Inclusion Criteria:\\n\\nSubject (or authorized ...   \n",
       "56  Inclusion Criteria:\\n\\nPatients 18 years or ol...   \n",
       "85  Inclusion Criteria:\\n\\nAge equal to or above 1...   \n",
       "25  Inclusion Criteria:\\n\\n1) Hospitalised symptom...   \n",
       "54  Inclusion Criteria:\\n\\nI (first step):\\n\\nAdmi...   \n",
       "96  Inclusion Criteria:\\n\\nAge > 18 years-old.\\nDi...   \n",
       "24  Inclusion Criteria:\\n\\nage > 18 years\\nInforme...   \n",
       "75  Inclusion Criteria:\\n\\nAny gender\\nAge 18 and ...   \n",
       "54  Inclusion Criteria:\\n\\nProvide oral informed c...   \n",
       "97  Inclusion Criteria:\\n\\nSARS-CoV2 Infection dia...   \n",
       "57  Inclusion Criteria:\\n\\nMen and non-pregnant wo...   \n",
       "72  Inclusion Criteria:\\n\\nAdults ≥ 18 years of ag...   \n",
       "13  Inclusion Criteria:\\n\\nAny gender\\nNo age limi...   \n",
       "50  Inclusion Criteria:\\n\\nLaboratory-confirmed SA...   \n",
       "68  Inclusion Criteria:\\n\\nMale and females with 1...   \n",
       "26  Inclusion Criteria:\\n\\nRecent ( ≥ 6 days of fl...   \n",
       "43  Inclusion Criteria:\\n\\nHospitalized with COVID...   \n",
       "85  Inclusion Criteria:\\n\\nPatients over 18 years ...   \n",
       "51  Inclusion Criteria:\\n\\nPatient or designated p...   \n",
       "62  Inclusion Criteria:\\n\\nPatients older than 18 ...   \n",
       "79  Inclusion Criteria: CoVid-19 -\\n\\nExclusion Cr...   \n",
       "12  Inclusion Criteria:\\n\\nii. Hospitalized with C...   \n",
       "23  Inclusion Criteria\\n\\nHospitalized\\nCOVID-19 p...   \n",
       "46  Inclusion Criteria\\n\\nHospitalized with COVID-...   \n",
       "93  Inclusion Criteria:\\n\\nAge >=18 years old\\nMod...   \n",
       "8   Inclusion Criteria:\\n\\n(i) Hospitalised\\n(ii) ...   \n",
       "98  Inclusion Criteria:\\n\\nPatient confirmed COVID...   \n",
       "4   Inclusion Criteria:\\n\\nInformed consent form (...   \n",
       "55  REMAP-CAP PLATFORM INCLUSION CRITERIA:\\n\\nAdul...   \n",
       "64  Inclusion Criteria:\\n\\nPatients included in th...   \n",
       "83  Inclusion Criteria:\\n\\nMale and female patient...   \n",
       "73  Inclusion Criteria:\\n\\nPatients included in th...   \n",
       "2   Inclusion Criteria:\\n\\nClinically diagnosed wi...   \n",
       "\n",
       "                                     InterventionName  \\\n",
       "45                               Tocilizumab Placebos   \n",
       "63  Chloroquine analog (GNS651) Nivolumab Tocilizu...   \n",
       "41        Tocilizumab Hydroxychloroquine Azithromycin   \n",
       "56                                        Tocilizumab   \n",
       "85                               Anakinra Tocilizumab   \n",
       "25                     Tocilizumab Methylprednisolone   \n",
       "54                          Tocilizumab (TCZ) Placebo   \n",
       "96  Ultra-Low-dose radiotherapy ventilatory suppor...   \n",
       "24                                        Tocilizumab   \n",
       "75                                        Tocilizumab   \n",
       "54                                        Tocilizumab   \n",
       "97                                        Tocilizumab   \n",
       "57  Tocilizumab 180 MG/ML Methylprednisolone Sodiu...   \n",
       "72                            Tocilizumab Tocilizumab   \n",
       "13                              Tocilizumab Injection   \n",
       "50  Anakinra Prefilled Syringe Tocilizumab Prefill...   \n",
       "68                                        Tocilizumab   \n",
       "26         Usual Care Anakinra Siltuximab Tocilizumab   \n",
       "43                          Tocilizumab (TCZ) Placebo   \n",
       "85  Tocilizumab 20 MG/ML Intravenous Solution [ACT...   \n",
       "51                                        Tocilizumab   \n",
       "62  Anakinra +/- Ruxolitinib (stages 2b/3) Anakinr...   \n",
       "79  Hydroxychloroquine, Azithromycin Hydroxychloro...   \n",
       "12                                Tocilizumab Placebo   \n",
       "23                                Placebo Tocilizumab   \n",
       "46                     Remdesivir Tocilizumab Placebo   \n",
       "93  Low-dose radiotherapy Hydroxychloroquine Sulfa...   \n",
       "8   Lopinavir-Ritonavir Corticosteroid Hydroxychlo...   \n",
       "98                 Tocilizumab Injection Deferoxamine   \n",
       "4                 Tocilizumab Pembrolizumab (MK-3475)   \n",
       "55  Fixed-duration Hydrocortisone Shock-dependent ...   \n",
       "64                          Tocilizumab Dexamethasone   \n",
       "83  Mefloquine Hydroxychloroquine Mefloquine + azi...   \n",
       "73                                        Tocilizumab   \n",
       "2   Favipiravir Combined With Tocilizumab Favipira...   \n",
       "\n",
       "                                     InterventionType        NCTId  \\\n",
       "45                                          Drug Drug  NCT04356937   \n",
       "63                     Drug Drug Drug Other Drug Drug  NCT04333914   \n",
       "41                                     Drug Drug Drug  NCT04332094   \n",
       "56                                               Drug  NCT04363853   \n",
       "85                                          Drug Drug  NCT04339712   \n",
       "25                                          Drug Drug  NCT04345445   \n",
       "54                                          Drug Drug  NCT04335071   \n",
       "96  Radiation Device Drug Drug Drug Drug Drug Drug...  NCT04394182   \n",
       "24                                               Drug  NCT04346355   \n",
       "75                                               Drug  NCT04377750   \n",
       "54                                               Drug  NCT04445272   \n",
       "97                                               Drug  NCT04315480   \n",
       "57                                          Drug Drug  NCT04377503   \n",
       "72                                          Drug Drug  NCT04331795   \n",
       "13                                               Drug  NCT04317092   \n",
       "50                                     Drug Drug Drug  NCT04412291   \n",
       "68                                               Drug  NCT04403685   \n",
       "26                               Other Drug Drug Drug  NCT04330638   \n",
       "43                                          Drug Drug  NCT04320615   \n",
       "85                                          Drug Drug  NCT04435717   \n",
       "51                                               Drug  NCT04377659   \n",
       "62                          Drug Drug Drug Drug Other  NCT04424056   \n",
       "79  Drug Drug Drug Drug Drug Drug Drug Drug Drug D...  NCT04349410   \n",
       "12                                          Drug Drug  NCT04412772   \n",
       "23                                          Drug Drug  NCT04372186   \n",
       "46                                     Drug Drug Drug  NCT04409262   \n",
       "93     Radiation Drug Drug Drug Drug Drug Drug Device  NCT04380818   \n",
       "8      Drug Drug Drug Drug Biological Drug Biological  NCT04381936   \n",
       "98                                          Drug Drug  NCT04361032   \n",
       "4                                     Drug Biological  NCT04335305   \n",
       "55  Drug Drug Drug Drug Drug Drug Drug Drug Drug D...  NCT02735707   \n",
       "64                                          Drug Drug  NCT04476979   \n",
       "83  Drug Drug Combination Product Combination Product  NCT04347031   \n",
       "73                                               Drug  NCT04331808   \n",
       "2                                      Drug Drug Drug  NCT04310228   \n",
       "\n",
       "              OverallStatus               Phase  Rank ResultsFirstPostDate  \\\n",
       "45   Active, not recruiting           [Phase 3]   746                        \n",
       "63                Suspended           [Phase 2]   764                        \n",
       "41               Recruiting           [Phase 2]  1042                        \n",
       "56               Recruiting           [Phase 2]  1057                        \n",
       "85               Recruiting           [Phase 2]  1086                        \n",
       "25       Not yet recruiting           [Phase 3]  1226                        \n",
       "54               Recruiting           [Phase 2]  1255                        \n",
       "96               Recruiting    [Not Applicable]  1297                        \n",
       "24               Terminated           [Phase 2]  1325                        \n",
       "75               Recruiting           [Phase 4]  1476                        \n",
       "54               Recruiting           [Phase 2]  1555                        \n",
       "97   Active, not recruiting           [Phase 2]  1598                        \n",
       "57       Not yet recruiting           [Phase 2]  1758                        \n",
       "72                Completed           [Phase 2]  1773                        \n",
       "13               Recruiting           [Phase 2]  2014                        \n",
       "50               Recruiting           [Phase 2]  2051                        \n",
       "68               Terminated           [Phase 3]  2269                        \n",
       "26               Recruiting           [Phase 3]  2327                        \n",
       "43                Completed           [Phase 3]  2344                        \n",
       "85               Recruiting           [Phase 2]  2386                        \n",
       "51               Recruiting           [Phase 2]  2452                        \n",
       "62       Not yet recruiting           [Phase 3]  2463                        \n",
       "79  Enrolling by invitation  [Phase 2, Phase 3]  2480                        \n",
       "12               Recruiting           [Phase 3]  2513                        \n",
       "23   Active, not recruiting           [Phase 3]  2524                        \n",
       "46               Recruiting           [Phase 3]  2547                        \n",
       "93               Recruiting    [Not Applicable]  2594                        \n",
       "8                Recruiting  [Phase 2, Phase 3]  2609                        \n",
       "98       Not yet recruiting           [Phase 3]  2699                        \n",
       "4                Recruiting           [Phase 2]  2805                        \n",
       "55               Recruiting           [Phase 4]  2856                        \n",
       "64               Recruiting           [Phase 2]  2965                        \n",
       "83   Active, not recruiting  [Phase 2, Phase 3]  3084                        \n",
       "73   Active, not recruiting           [Phase 2]  3174                        \n",
       "2                Recruiting    [Not Applicable]  3203                        \n",
       "\n",
       "            StartDate StudyFirstPostDate       StudyType  \\\n",
       "45     April 20, 2020         2020-04-22  Interventional   \n",
       "63     April 15, 2020         2020-04-03  Interventional   \n",
       "41      April 2, 2020         2020-04-02  Interventional   \n",
       "56       June 1, 2020         2020-04-27  Interventional   \n",
       "85      April 2, 2020         2020-04-09  Interventional   \n",
       "25     April 15, 2020         2020-04-14  Interventional   \n",
       "54     April 26, 2020         2020-04-06  Interventional   \n",
       "96     April 21, 2020         2020-05-19  Interventional   \n",
       "24     March 31, 2020         2020-04-15  Interventional   \n",
       "75      April 8, 2020         2020-05-06  Interventional   \n",
       "54       May 22, 2020         2020-06-24  Interventional   \n",
       "97     March 12, 2020         2020-03-19  Interventional   \n",
       "57           May 2020         2020-05-06  Interventional   \n",
       "72      April 4, 2020         2020-04-02  Interventional   \n",
       "13     March 19, 2020         2020-03-20  Interventional   \n",
       "50      June 11, 2020         2020-06-02  Interventional   \n",
       "68        May 8, 2020         2020-05-27  Interventional   \n",
       "26      April 3, 2020         2020-04-01  Interventional   \n",
       "43      April 3, 2020         2020-03-25  Interventional   \n",
       "85        May 4, 2020         2020-06-17  Interventional   \n",
       "51        May 1, 2020         2020-05-06  Interventional   \n",
       "62  September 1, 2020         2020-06-09  Interventional   \n",
       "79     April 11, 2020         2020-04-16  Interventional   \n",
       "12       June 1, 2020         2020-06-02  Interventional   \n",
       "23       May 14, 2020         2020-05-01  Interventional   \n",
       "46      June 16, 2020         2020-06-01  Interventional   \n",
       "93       June 5, 2020         2020-05-08  Interventional   \n",
       "8      March 19, 2020         2020-05-11  Interventional   \n",
       "98  September 4, 2020         2020-04-24  Interventional   \n",
       "4        July 1, 2020         2020-04-06  Interventional   \n",
       "55     April 11, 2016         2016-04-13  Interventional   \n",
       "64      July 16, 2020         2020-07-20  Interventional   \n",
       "83      April 8, 2020         2020-04-15  Interventional   \n",
       "73     March 30, 2020         2020-04-02  Interventional   \n",
       "2       March 8, 2020         2020-03-17  Interventional   \n",
       "\n",
       "                               InterventionName_lower  \n",
       "45                               tocilizumab placebos  \n",
       "63  chloroquine analog (gns651) nivolumab tocilizu...  \n",
       "41        tocilizumab hydroxychloroquine azithromycin  \n",
       "56                                        tocilizumab  \n",
       "85                               anakinra tocilizumab  \n",
       "25                     tocilizumab methylprednisolone  \n",
       "54                          tocilizumab (tcz) placebo  \n",
       "96  ultra-low-dose radiotherapy ventilatory suppor...  \n",
       "24                                        tocilizumab  \n",
       "75                                        tocilizumab  \n",
       "54                                        tocilizumab  \n",
       "97                                        tocilizumab  \n",
       "57  tocilizumab 180 mg/ml methylprednisolone sodiu...  \n",
       "72                            tocilizumab tocilizumab  \n",
       "13                              tocilizumab injection  \n",
       "50  anakinra prefilled syringe tocilizumab prefill...  \n",
       "68                                        tocilizumab  \n",
       "26         usual care anakinra siltuximab tocilizumab  \n",
       "43                          tocilizumab (tcz) placebo  \n",
       "85  tocilizumab 20 mg/ml intravenous solution [act...  \n",
       "51                                        tocilizumab  \n",
       "62  anakinra +/- ruxolitinib (stages 2b/3) anakinr...  \n",
       "79  hydroxychloroquine, azithromycin hydroxychloro...  \n",
       "12                                tocilizumab placebo  \n",
       "23                                placebo tocilizumab  \n",
       "46                     remdesivir tocilizumab placebo  \n",
       "93  low-dose radiotherapy hydroxychloroquine sulfa...  \n",
       "8   lopinavir-ritonavir corticosteroid hydroxychlo...  \n",
       "98                 tocilizumab injection deferoxamine  \n",
       "4                 tocilizumab pembrolizumab (mk-3475)  \n",
       "55  fixed-duration hydrocortisone shock-dependent ...  \n",
       "64                          tocilizumab dexamethasone  \n",
       "83  mefloquine hydroxychloroquine mefloquine + azi...  \n",
       "73                                        tocilizumab  \n",
       "2   favipiravir combined with tocilizumab favipira...  "
      ]
     },
     "execution_count": 34,
     "metadata": {},
     "output_type": "execute_result"
    }
   ],
   "source": [
    "drug_trials_tocilizumab"
   ]
  },
  {
   "cell_type": "code",
   "execution_count": 35,
   "metadata": {
    "scrolled": true
   },
   "outputs": [],
   "source": [
    "sns.set(style=\"darkgrid\")\n",
    "# ax = sns.countplot(x=\"Phase\", hue=\"OverallStatus\", data=drug_trials)"
   ]
  },
  {
   "cell_type": "code",
   "execution_count": 36,
   "metadata": {
    "scrolled": true
   },
   "outputs": [],
   "source": [
    "corticosteroids = ['dexamethasone', 'budesonide', 'prednisone', \n",
    "                   \"prednisolone\", \"methylprednisolone\", \"hydrocortisone\", \n",
    "                   \"fluticasone\", \"fluticasone propionate\", \"bethamethasone\",\n",
    "                   \"mometasone\", \"mometasone furoate\",\n",
    "                   \"beclomethasone dipropionate\",\n",
    "                  \"flunisolide\", \"steroid\", \"corticosteroid\", \"glucocorticosteroid\",]"
   ]
  },
  {
   "cell_type": "code",
   "execution_count": 37,
   "metadata": {},
   "outputs": [
    {
     "name": "stderr",
     "output_type": "stream",
     "text": [
      "c:\\users\\katerina\\appdata\\local\\programs\\python\\python37\\lib\\site-packages\\ipykernel_launcher.py:3: SettingWithCopyWarning: \n",
      "A value is trying to be set on a copy of a slice from a DataFrame.\n",
      "Try using .loc[row_indexer,col_indexer] = value instead\n",
      "\n",
      "See the caveats in the documentation: http://pandas.pydata.org/pandas-docs/stable/indexing.html#indexing-view-versus-copy\n",
      "  This is separate from the ipykernel package so we can avoid doing imports until\n"
     ]
    }
   ],
   "source": [
    "steroids_list = []\n",
    "\n",
    "drug_trials[\"BriefTitle_lower\"] = drug_trials[\"BriefTitle\"].str.lower()\n",
    "for drug in corticosteroids:\n",
    "    steroid_df = drug_trials.loc[\n",
    "        (drug_trials[\"InterventionName_lower\"].str.contains(drug)) |\n",
    "        (drug_trials[\"BriefTitle_lower\"].str.contains(drug))\n",
    "    ]\n",
    "    steroids_list.append(steroid_df)\n",
    "\n",
    "merged_steroids = pd.concat(steroids_list)"
   ]
  },
  {
   "cell_type": "code",
   "execution_count": 38,
   "metadata": {},
   "outputs": [],
   "source": [
    "merged_steroids.drop_duplicates(subset =\"Rank\", inplace = True)"
   ]
  },
  {
   "cell_type": "markdown",
   "metadata": {},
   "source": [
    "Number of clinical trials containig at least one steroid from the DrugBank list:"
   ]
  },
  {
   "cell_type": "code",
   "execution_count": 54,
   "metadata": {
    "scrolled": false
   },
   "outputs": [
    {
     "data": {
      "text/plain": [
       "(31, 17)"
      ]
     },
     "execution_count": 54,
     "metadata": {},
     "output_type": "execute_result"
    }
   ],
   "source": [
    "merged_steroids.shape"
   ]
  },
  {
   "cell_type": "code",
   "execution_count": 55,
   "metadata": {},
   "outputs": [],
   "source": [
    "merged_steroids = merged_steroids.loc[merged_steroids[\"OverallStatus\"]!=\"Not yet recruiting\"]"
   ]
  },
  {
   "cell_type": "code",
   "execution_count": 56,
   "metadata": {},
   "outputs": [
    {
     "data": {
      "text/html": [
       "<div>\n",
       "<style scoped>\n",
       "    .dataframe tbody tr th:only-of-type {\n",
       "        vertical-align: middle;\n",
       "    }\n",
       "\n",
       "    .dataframe tbody tr th {\n",
       "        vertical-align: top;\n",
       "    }\n",
       "\n",
       "    .dataframe thead th {\n",
       "        text-align: right;\n",
       "    }\n",
       "</style>\n",
       "<table border=\"1\" class=\"dataframe\">\n",
       "  <thead>\n",
       "    <tr style=\"text-align: right;\">\n",
       "      <th></th>\n",
       "      <th>BriefTitle</th>\n",
       "      <th>CompletionDate</th>\n",
       "      <th>Condition</th>\n",
       "      <th>DesignAllocation</th>\n",
       "      <th>EligibilityCriteria</th>\n",
       "      <th>InterventionName</th>\n",
       "      <th>InterventionType</th>\n",
       "      <th>NCTId</th>\n",
       "      <th>OverallStatus</th>\n",
       "      <th>Phase</th>\n",
       "      <th>Rank</th>\n",
       "      <th>ResultsFirstPostDate</th>\n",
       "      <th>StartDate</th>\n",
       "      <th>StudyFirstPostDate</th>\n",
       "      <th>StudyType</th>\n",
       "      <th>InterventionName_lower</th>\n",
       "      <th>BriefTitle_lower</th>\n",
       "    </tr>\n",
       "  </thead>\n",
       "  <tbody>\n",
       "    <tr>\n",
       "      <th>21</th>\n",
       "      <td>Efficacy of Dexamethasone Treatment for Patien...</td>\n",
       "      <td>October 30, 2020</td>\n",
       "      <td>Acute Respiratory Distress Syndrome Caused by ...</td>\n",
       "      <td>Randomized</td>\n",
       "      <td>Inclusion Criteria:\\n\\nage 18 years or older;\\...</td>\n",
       "      <td>Dexamethasone</td>\n",
       "      <td>Drug</td>\n",
       "      <td>NCT04325061</td>\n",
       "      <td>Suspended</td>\n",
       "      <td>[Phase 4]</td>\n",
       "      <td>1022</td>\n",
       "      <td></td>\n",
       "      <td>April 3, 2020</td>\n",
       "      <td>2020-03-27</td>\n",
       "      <td>Interventional</td>\n",
       "      <td>dexamethasone</td>\n",
       "      <td>efficacy of dexamethasone treatment for patien...</td>\n",
       "    </tr>\n",
       "    <tr>\n",
       "      <th>27</th>\n",
       "      <td>Dexamethasone and Oxygen Support Strategies in...</td>\n",
       "      <td>December 31, 2020</td>\n",
       "      <td>Acute Hypoxemic Respiratory Failure COVID-19</td>\n",
       "      <td>Randomized</td>\n",
       "      <td>Inclusion Criteria:\\n\\nAge ≥ 18 years\\nAdmitte...</td>\n",
       "      <td>Dexamethasone injection placebo conventional o...</td>\n",
       "      <td>Drug Drug Procedure Procedure Procedure Procedure</td>\n",
       "      <td>NCT04344730</td>\n",
       "      <td>Recruiting</td>\n",
       "      <td>[Not Applicable]</td>\n",
       "      <td>1928</td>\n",
       "      <td></td>\n",
       "      <td>April 10, 2020</td>\n",
       "      <td>2020-04-14</td>\n",
       "      <td>Interventional</td>\n",
       "      <td>dexamethasone injection placebo conventional o...</td>\n",
       "      <td>dexamethasone and oxygen support strategies in...</td>\n",
       "    </tr>\n",
       "    <tr>\n",
       "      <th>32</th>\n",
       "      <td>NA-831, Atazanavir and Dexamethasone Combinati...</td>\n",
       "      <td>February 15, 2021</td>\n",
       "      <td>Coronavirus Infection Severe Acute Respiratory...</td>\n",
       "      <td>Randomized</td>\n",
       "      <td>Inclusion Criteria:\\n\\nHospitalization for man...</td>\n",
       "      <td>Drug: NA-831 NA-831 and Atazanavir NA-831and D...</td>\n",
       "      <td>Drug Combination Product Combination Product C...</td>\n",
       "      <td>NCT04452565</td>\n",
       "      <td>Recruiting</td>\n",
       "      <td>[Phase 2, Phase 3]</td>\n",
       "      <td>2033</td>\n",
       "      <td></td>\n",
       "      <td>August 15, 2020</td>\n",
       "      <td>2020-06-30</td>\n",
       "      <td>Interventional</td>\n",
       "      <td>drug: na-831 na-831 and atazanavir na-831and d...</td>\n",
       "      <td>na-831, atazanavir and dexamethasone combinati...</td>\n",
       "    </tr>\n",
       "    <tr>\n",
       "      <th>71</th>\n",
       "      <td>COVID-19-associated ARDS Treated With Dexameth...</td>\n",
       "      <td>July 22, 2020</td>\n",
       "      <td>Coronavirus Infection Pneumonia, Viral Acute R...</td>\n",
       "      <td>Randomized</td>\n",
       "      <td>Inclusion Criteria:\\n\\nProbable or confirmed i...</td>\n",
       "      <td>Dexamethasone</td>\n",
       "      <td>Drug</td>\n",
       "      <td>NCT04327401</td>\n",
       "      <td>Terminated</td>\n",
       "      <td>[Phase 3]</td>\n",
       "      <td>2172</td>\n",
       "      <td></td>\n",
       "      <td>April 13, 2020</td>\n",
       "      <td>2020-03-31</td>\n",
       "      <td>Interventional</td>\n",
       "      <td>dexamethasone</td>\n",
       "      <td>covid-19-associated ards treated with dexameth...</td>\n",
       "    </tr>\n",
       "    <tr>\n",
       "      <th>41</th>\n",
       "      <td>Dexamethasone for COVID-19 Related ARDS: a Mul...</td>\n",
       "      <td>January 31, 2021</td>\n",
       "      <td>Respiratory Distress Syndrome, Adult Covid-19</td>\n",
       "      <td>Randomized</td>\n",
       "      <td>Inclusion Criteria:\\n\\nARDS according to Berli...</td>\n",
       "      <td>Dexamethasone (high dose)</td>\n",
       "      <td>Drug</td>\n",
       "      <td>NCT04395105</td>\n",
       "      <td>Recruiting</td>\n",
       "      <td>[Phase 3]</td>\n",
       "      <td>2342</td>\n",
       "      <td></td>\n",
       "      <td>May 21, 2020</td>\n",
       "      <td>2020-05-20</td>\n",
       "      <td>Interventional</td>\n",
       "      <td>dexamethasone (high dose)</td>\n",
       "      <td>dexamethasone for covid-19 related ards: a mul...</td>\n",
       "    </tr>\n",
       "  </tbody>\n",
       "</table>\n",
       "</div>"
      ],
      "text/plain": [
       "                                           BriefTitle     CompletionDate  \\\n",
       "21  Efficacy of Dexamethasone Treatment for Patien...   October 30, 2020   \n",
       "27  Dexamethasone and Oxygen Support Strategies in...  December 31, 2020   \n",
       "32  NA-831, Atazanavir and Dexamethasone Combinati...  February 15, 2021   \n",
       "71  COVID-19-associated ARDS Treated With Dexameth...      July 22, 2020   \n",
       "41  Dexamethasone for COVID-19 Related ARDS: a Mul...   January 31, 2021   \n",
       "\n",
       "                                            Condition DesignAllocation  \\\n",
       "21  Acute Respiratory Distress Syndrome Caused by ...       Randomized   \n",
       "27       Acute Hypoxemic Respiratory Failure COVID-19       Randomized   \n",
       "32  Coronavirus Infection Severe Acute Respiratory...       Randomized   \n",
       "71  Coronavirus Infection Pneumonia, Viral Acute R...       Randomized   \n",
       "41      Respiratory Distress Syndrome, Adult Covid-19       Randomized   \n",
       "\n",
       "                                  EligibilityCriteria  \\\n",
       "21  Inclusion Criteria:\\n\\nage 18 years or older;\\...   \n",
       "27  Inclusion Criteria:\\n\\nAge ≥ 18 years\\nAdmitte...   \n",
       "32  Inclusion Criteria:\\n\\nHospitalization for man...   \n",
       "71  Inclusion Criteria:\\n\\nProbable or confirmed i...   \n",
       "41  Inclusion Criteria:\\n\\nARDS according to Berli...   \n",
       "\n",
       "                                     InterventionName  \\\n",
       "21                                      Dexamethasone   \n",
       "27  Dexamethasone injection placebo conventional o...   \n",
       "32  Drug: NA-831 NA-831 and Atazanavir NA-831and D...   \n",
       "71                                      Dexamethasone   \n",
       "41                          Dexamethasone (high dose)   \n",
       "\n",
       "                                     InterventionType        NCTId  \\\n",
       "21                                               Drug  NCT04325061   \n",
       "27  Drug Drug Procedure Procedure Procedure Procedure  NCT04344730   \n",
       "32  Drug Combination Product Combination Product C...  NCT04452565   \n",
       "71                                               Drug  NCT04327401   \n",
       "41                                               Drug  NCT04395105   \n",
       "\n",
       "   OverallStatus               Phase  Rank ResultsFirstPostDate  \\\n",
       "21     Suspended           [Phase 4]  1022                        \n",
       "27    Recruiting    [Not Applicable]  1928                        \n",
       "32    Recruiting  [Phase 2, Phase 3]  2033                        \n",
       "71    Terminated           [Phase 3]  2172                        \n",
       "41    Recruiting           [Phase 3]  2342                        \n",
       "\n",
       "          StartDate StudyFirstPostDate       StudyType  \\\n",
       "21    April 3, 2020         2020-03-27  Interventional   \n",
       "27   April 10, 2020         2020-04-14  Interventional   \n",
       "32  August 15, 2020         2020-06-30  Interventional   \n",
       "71   April 13, 2020         2020-03-31  Interventional   \n",
       "41     May 21, 2020         2020-05-20  Interventional   \n",
       "\n",
       "                               InterventionName_lower  \\\n",
       "21                                      dexamethasone   \n",
       "27  dexamethasone injection placebo conventional o...   \n",
       "32  drug: na-831 na-831 and atazanavir na-831and d...   \n",
       "71                                      dexamethasone   \n",
       "41                          dexamethasone (high dose)   \n",
       "\n",
       "                                     BriefTitle_lower  \n",
       "21  efficacy of dexamethasone treatment for patien...  \n",
       "27  dexamethasone and oxygen support strategies in...  \n",
       "32  na-831, atazanavir and dexamethasone combinati...  \n",
       "71  covid-19-associated ards treated with dexameth...  \n",
       "41  dexamethasone for covid-19 related ards: a mul...  "
      ]
     },
     "execution_count": 56,
     "metadata": {},
     "output_type": "execute_result"
    }
   ],
   "source": [
    "merged_steroids.head()"
   ]
  },
  {
   "cell_type": "code",
   "execution_count": 57,
   "metadata": {},
   "outputs": [],
   "source": [
    "merged_steroids_randomized = merged_steroids.loc[merged_steroids[\"DesignAllocation\"] == \"Randomized\"]"
   ]
  },
  {
   "cell_type": "code",
   "execution_count": 58,
   "metadata": {
    "scrolled": false
   },
   "outputs": [
    {
     "data": {
      "text/html": [
       "<div>\n",
       "<style scoped>\n",
       "    .dataframe tbody tr th:only-of-type {\n",
       "        vertical-align: middle;\n",
       "    }\n",
       "\n",
       "    .dataframe tbody tr th {\n",
       "        vertical-align: top;\n",
       "    }\n",
       "\n",
       "    .dataframe thead th {\n",
       "        text-align: right;\n",
       "    }\n",
       "</style>\n",
       "<table border=\"1\" class=\"dataframe\">\n",
       "  <thead>\n",
       "    <tr style=\"text-align: right;\">\n",
       "      <th></th>\n",
       "      <th>BriefTitle</th>\n",
       "      <th>CompletionDate</th>\n",
       "      <th>Condition</th>\n",
       "      <th>DesignAllocation</th>\n",
       "      <th>EligibilityCriteria</th>\n",
       "      <th>InterventionName</th>\n",
       "      <th>InterventionType</th>\n",
       "      <th>NCTId</th>\n",
       "      <th>OverallStatus</th>\n",
       "      <th>Phase</th>\n",
       "      <th>Rank</th>\n",
       "      <th>ResultsFirstPostDate</th>\n",
       "      <th>StartDate</th>\n",
       "      <th>StudyFirstPostDate</th>\n",
       "      <th>StudyType</th>\n",
       "      <th>InterventionName_lower</th>\n",
       "      <th>BriefTitle_lower</th>\n",
       "    </tr>\n",
       "  </thead>\n",
       "  <tbody>\n",
       "    <tr>\n",
       "      <th>21</th>\n",
       "      <td>Efficacy of Dexamethasone Treatment for Patien...</td>\n",
       "      <td>October 30, 2020</td>\n",
       "      <td>Acute Respiratory Distress Syndrome Caused by ...</td>\n",
       "      <td>Randomized</td>\n",
       "      <td>Inclusion Criteria:\\n\\nage 18 years or older;\\...</td>\n",
       "      <td>Dexamethasone</td>\n",
       "      <td>Drug</td>\n",
       "      <td>NCT04325061</td>\n",
       "      <td>Suspended</td>\n",
       "      <td>[Phase 4]</td>\n",
       "      <td>1022</td>\n",
       "      <td></td>\n",
       "      <td>April 3, 2020</td>\n",
       "      <td>2020-03-27</td>\n",
       "      <td>Interventional</td>\n",
       "      <td>dexamethasone</td>\n",
       "      <td>efficacy of dexamethasone treatment for patien...</td>\n",
       "    </tr>\n",
       "    <tr>\n",
       "      <th>27</th>\n",
       "      <td>Dexamethasone and Oxygen Support Strategies in...</td>\n",
       "      <td>December 31, 2020</td>\n",
       "      <td>Acute Hypoxemic Respiratory Failure COVID-19</td>\n",
       "      <td>Randomized</td>\n",
       "      <td>Inclusion Criteria:\\n\\nAge ≥ 18 years\\nAdmitte...</td>\n",
       "      <td>Dexamethasone injection placebo conventional o...</td>\n",
       "      <td>Drug Drug Procedure Procedure Procedure Procedure</td>\n",
       "      <td>NCT04344730</td>\n",
       "      <td>Recruiting</td>\n",
       "      <td>[Not Applicable]</td>\n",
       "      <td>1928</td>\n",
       "      <td></td>\n",
       "      <td>April 10, 2020</td>\n",
       "      <td>2020-04-14</td>\n",
       "      <td>Interventional</td>\n",
       "      <td>dexamethasone injection placebo conventional o...</td>\n",
       "      <td>dexamethasone and oxygen support strategies in...</td>\n",
       "    </tr>\n",
       "    <tr>\n",
       "      <th>32</th>\n",
       "      <td>NA-831, Atazanavir and Dexamethasone Combinati...</td>\n",
       "      <td>February 15, 2021</td>\n",
       "      <td>Coronavirus Infection Severe Acute Respiratory...</td>\n",
       "      <td>Randomized</td>\n",
       "      <td>Inclusion Criteria:\\n\\nHospitalization for man...</td>\n",
       "      <td>Drug: NA-831 NA-831 and Atazanavir NA-831and D...</td>\n",
       "      <td>Drug Combination Product Combination Product C...</td>\n",
       "      <td>NCT04452565</td>\n",
       "      <td>Recruiting</td>\n",
       "      <td>[Phase 2, Phase 3]</td>\n",
       "      <td>2033</td>\n",
       "      <td></td>\n",
       "      <td>August 15, 2020</td>\n",
       "      <td>2020-06-30</td>\n",
       "      <td>Interventional</td>\n",
       "      <td>drug: na-831 na-831 and atazanavir na-831and d...</td>\n",
       "      <td>na-831, atazanavir and dexamethasone combinati...</td>\n",
       "    </tr>\n",
       "    <tr>\n",
       "      <th>71</th>\n",
       "      <td>COVID-19-associated ARDS Treated With Dexameth...</td>\n",
       "      <td>July 22, 2020</td>\n",
       "      <td>Coronavirus Infection Pneumonia, Viral Acute R...</td>\n",
       "      <td>Randomized</td>\n",
       "      <td>Inclusion Criteria:\\n\\nProbable or confirmed i...</td>\n",
       "      <td>Dexamethasone</td>\n",
       "      <td>Drug</td>\n",
       "      <td>NCT04327401</td>\n",
       "      <td>Terminated</td>\n",
       "      <td>[Phase 3]</td>\n",
       "      <td>2172</td>\n",
       "      <td></td>\n",
       "      <td>April 13, 2020</td>\n",
       "      <td>2020-03-31</td>\n",
       "      <td>Interventional</td>\n",
       "      <td>dexamethasone</td>\n",
       "      <td>covid-19-associated ards treated with dexameth...</td>\n",
       "    </tr>\n",
       "    <tr>\n",
       "      <th>41</th>\n",
       "      <td>Dexamethasone for COVID-19 Related ARDS: a Mul...</td>\n",
       "      <td>January 31, 2021</td>\n",
       "      <td>Respiratory Distress Syndrome, Adult Covid-19</td>\n",
       "      <td>Randomized</td>\n",
       "      <td>Inclusion Criteria:\\n\\nARDS according to Berli...</td>\n",
       "      <td>Dexamethasone (high dose)</td>\n",
       "      <td>Drug</td>\n",
       "      <td>NCT04395105</td>\n",
       "      <td>Recruiting</td>\n",
       "      <td>[Phase 3]</td>\n",
       "      <td>2342</td>\n",
       "      <td></td>\n",
       "      <td>May 21, 2020</td>\n",
       "      <td>2020-05-20</td>\n",
       "      <td>Interventional</td>\n",
       "      <td>dexamethasone (high dose)</td>\n",
       "      <td>dexamethasone for covid-19 related ards: a mul...</td>\n",
       "    </tr>\n",
       "  </tbody>\n",
       "</table>\n",
       "</div>"
      ],
      "text/plain": [
       "                                           BriefTitle     CompletionDate  \\\n",
       "21  Efficacy of Dexamethasone Treatment for Patien...   October 30, 2020   \n",
       "27  Dexamethasone and Oxygen Support Strategies in...  December 31, 2020   \n",
       "32  NA-831, Atazanavir and Dexamethasone Combinati...  February 15, 2021   \n",
       "71  COVID-19-associated ARDS Treated With Dexameth...      July 22, 2020   \n",
       "41  Dexamethasone for COVID-19 Related ARDS: a Mul...   January 31, 2021   \n",
       "\n",
       "                                            Condition DesignAllocation  \\\n",
       "21  Acute Respiratory Distress Syndrome Caused by ...       Randomized   \n",
       "27       Acute Hypoxemic Respiratory Failure COVID-19       Randomized   \n",
       "32  Coronavirus Infection Severe Acute Respiratory...       Randomized   \n",
       "71  Coronavirus Infection Pneumonia, Viral Acute R...       Randomized   \n",
       "41      Respiratory Distress Syndrome, Adult Covid-19       Randomized   \n",
       "\n",
       "                                  EligibilityCriteria  \\\n",
       "21  Inclusion Criteria:\\n\\nage 18 years or older;\\...   \n",
       "27  Inclusion Criteria:\\n\\nAge ≥ 18 years\\nAdmitte...   \n",
       "32  Inclusion Criteria:\\n\\nHospitalization for man...   \n",
       "71  Inclusion Criteria:\\n\\nProbable or confirmed i...   \n",
       "41  Inclusion Criteria:\\n\\nARDS according to Berli...   \n",
       "\n",
       "                                     InterventionName  \\\n",
       "21                                      Dexamethasone   \n",
       "27  Dexamethasone injection placebo conventional o...   \n",
       "32  Drug: NA-831 NA-831 and Atazanavir NA-831and D...   \n",
       "71                                      Dexamethasone   \n",
       "41                          Dexamethasone (high dose)   \n",
       "\n",
       "                                     InterventionType        NCTId  \\\n",
       "21                                               Drug  NCT04325061   \n",
       "27  Drug Drug Procedure Procedure Procedure Procedure  NCT04344730   \n",
       "32  Drug Combination Product Combination Product C...  NCT04452565   \n",
       "71                                               Drug  NCT04327401   \n",
       "41                                               Drug  NCT04395105   \n",
       "\n",
       "   OverallStatus               Phase  Rank ResultsFirstPostDate  \\\n",
       "21     Suspended           [Phase 4]  1022                        \n",
       "27    Recruiting    [Not Applicable]  1928                        \n",
       "32    Recruiting  [Phase 2, Phase 3]  2033                        \n",
       "71    Terminated           [Phase 3]  2172                        \n",
       "41    Recruiting           [Phase 3]  2342                        \n",
       "\n",
       "          StartDate StudyFirstPostDate       StudyType  \\\n",
       "21    April 3, 2020         2020-03-27  Interventional   \n",
       "27   April 10, 2020         2020-04-14  Interventional   \n",
       "32  August 15, 2020         2020-06-30  Interventional   \n",
       "71   April 13, 2020         2020-03-31  Interventional   \n",
       "41     May 21, 2020         2020-05-20  Interventional   \n",
       "\n",
       "                               InterventionName_lower  \\\n",
       "21                                      dexamethasone   \n",
       "27  dexamethasone injection placebo conventional o...   \n",
       "32  drug: na-831 na-831 and atazanavir na-831and d...   \n",
       "71                                      dexamethasone   \n",
       "41                          dexamethasone (high dose)   \n",
       "\n",
       "                                     BriefTitle_lower  \n",
       "21  efficacy of dexamethasone treatment for patien...  \n",
       "27  dexamethasone and oxygen support strategies in...  \n",
       "32  na-831, atazanavir and dexamethasone combinati...  \n",
       "71  covid-19-associated ards treated with dexameth...  \n",
       "41  dexamethasone for covid-19 related ards: a mul...  "
      ]
     },
     "execution_count": 58,
     "metadata": {},
     "output_type": "execute_result"
    }
   ],
   "source": [
    "merged_steroids_randomized.head()"
   ]
  },
  {
   "cell_type": "markdown",
   "metadata": {},
   "source": [
    "Number of randomized clinical trials of steroids:\n"
   ]
  },
  {
   "cell_type": "code",
   "execution_count": 62,
   "metadata": {},
   "outputs": [
    {
     "data": {
      "text/plain": [
       "(28, 17)"
      ]
     },
     "execution_count": 62,
     "metadata": {},
     "output_type": "execute_result"
    }
   ],
   "source": [
    "merged_steroids_randomized.shape"
   ]
  },
  {
   "cell_type": "markdown",
   "metadata": {},
   "source": [
    "The 28 clinical trials were manually viewed in the clinicaltrials.gov website and 9 of them were selected according to the trial phase and primary completion date. One trial of tocilizumab is also selected. All these trials are illustrated in the table below."
   ]
  },
  {
   "cell_type": "code",
   "execution_count": 61,
   "metadata": {},
   "outputs": [],
   "source": [
    "final_steroids_df = pd.read_excel(\"steroids_final_data.xlsx\")"
   ]
  },
  {
   "cell_type": "code",
   "execution_count": 49,
   "metadata": {},
   "outputs": [
    {
     "data": {
      "text/html": [
       "<div>\n",
       "<style scoped>\n",
       "    .dataframe tbody tr th:only-of-type {\n",
       "        vertical-align: middle;\n",
       "    }\n",
       "\n",
       "    .dataframe tbody tr th {\n",
       "        vertical-align: top;\n",
       "    }\n",
       "\n",
       "    .dataframe thead th {\n",
       "        text-align: right;\n",
       "    }\n",
       "</style>\n",
       "<table border=\"1\" class=\"dataframe\">\n",
       "  <thead>\n",
       "    <tr style=\"text-align: right;\">\n",
       "      <th></th>\n",
       "      <th>NCTId</th>\n",
       "      <th>Experimental</th>\n",
       "      <th>Combination treatment</th>\n",
       "      <th>Experimental or Control</th>\n",
       "      <th>Condition</th>\n",
       "      <th>Phase</th>\n",
       "      <th>Actual Start Date</th>\n",
       "      <th>Primary Completion Date</th>\n",
       "      <th>Sponsor</th>\n",
       "    </tr>\n",
       "  </thead>\n",
       "  <tbody>\n",
       "    <tr>\n",
       "      <th>0</th>\n",
       "      <td>NCT04320615</td>\n",
       "      <td>Tocilizumab</td>\n",
       "      <td>-</td>\n",
       "      <td>Placebo</td>\n",
       "      <td>Covid-19 Pneumonia</td>\n",
       "      <td>III</td>\n",
       "      <td>2020-04-03</td>\n",
       "      <td>2020-07-28</td>\n",
       "      <td>Hoffmann-La Roche</td>\n",
       "    </tr>\n",
       "    <tr>\n",
       "      <th>1</th>\n",
       "      <td>NCT04381936</td>\n",
       "      <td>Dexamethasone</td>\n",
       "      <td>-</td>\n",
       "      <td>Antivirals, antibiotics, anti-inflammatory agents</td>\n",
       "      <td>SARS-CoV-2 infection</td>\n",
       "      <td>II/III</td>\n",
       "      <td>2020-03-19</td>\n",
       "      <td>2021-12-31</td>\n",
       "      <td>University of Oxford</td>\n",
       "    </tr>\n",
       "    <tr>\n",
       "      <th>2</th>\n",
       "      <td>NCT04325061</td>\n",
       "      <td>Dexamethasone</td>\n",
       "      <td>-</td>\n",
       "      <td>Standard intensive care</td>\n",
       "      <td>ARDS caused by covid-19</td>\n",
       "      <td>IV</td>\n",
       "      <td>2020-04-03</td>\n",
       "      <td>2020-10-30</td>\n",
       "      <td>Dr. Negrin University Hospital</td>\n",
       "    </tr>\n",
       "    <tr>\n",
       "      <th>3</th>\n",
       "      <td>NCT04416399</td>\n",
       "      <td>Budesonide</td>\n",
       "      <td>-</td>\n",
       "      <td>Standard care</td>\n",
       "      <td>Early covid-19 Infection</td>\n",
       "      <td>II</td>\n",
       "      <td>2020-07-16</td>\n",
       "      <td>2020-09-15</td>\n",
       "      <td>University of Oxford</td>\n",
       "    </tr>\n",
       "    <tr>\n",
       "      <th>4</th>\n",
       "      <td>NCT04331054</td>\n",
       "      <td>Budesonide</td>\n",
       "      <td>Formoterol</td>\n",
       "      <td>Standard care</td>\n",
       "      <td>Covid-19 infection</td>\n",
       "      <td>III</td>\n",
       "      <td>2020-04-13</td>\n",
       "      <td>2020-07-13</td>\n",
       "      <td>Hôpitaux de Paris</td>\n",
       "    </tr>\n",
       "    <tr>\n",
       "      <th>5</th>\n",
       "      <td>NCT04451174</td>\n",
       "      <td>Prednisone</td>\n",
       "      <td>-</td>\n",
       "      <td>Standard care</td>\n",
       "      <td>Moderate covid-19 Pneumonia</td>\n",
       "      <td>III</td>\n",
       "      <td>2020-06-23</td>\n",
       "      <td>2020-09-30</td>\n",
       "      <td>University of Chile</td>\n",
       "    </tr>\n",
       "    <tr>\n",
       "      <th>6</th>\n",
       "      <td>NCT04263402</td>\n",
       "      <td>Methylprednisolone</td>\n",
       "      <td>-</td>\n",
       "      <td>Methylprednisolone higher dose</td>\n",
       "      <td>Covid-19 severe pneumonia</td>\n",
       "      <td>IV</td>\n",
       "      <td>2020-02-01</td>\n",
       "      <td>2020-06-01</td>\n",
       "      <td>Tongji Hospital</td>\n",
       "    </tr>\n",
       "    <tr>\n",
       "      <th>7</th>\n",
       "      <td>NCT04485429</td>\n",
       "      <td>Methylprednisolone</td>\n",
       "      <td>Heparine</td>\n",
       "      <td>Heparine</td>\n",
       "      <td>Covid-19 pneumonia</td>\n",
       "      <td>III</td>\n",
       "      <td>2020-07-20</td>\n",
       "      <td>2020-12-31</td>\n",
       "      <td>D'Or Institute for Research and Education</td>\n",
       "    </tr>\n",
       "    <tr>\n",
       "      <th>8</th>\n",
       "      <td>NCT04273321</td>\n",
       "      <td>Methylprednisolone</td>\n",
       "      <td>-</td>\n",
       "      <td>-</td>\n",
       "      <td>Covid-19 pneumonia</td>\n",
       "      <td>-</td>\n",
       "      <td>2020-02-14</td>\n",
       "      <td>2020-04-15</td>\n",
       "      <td>Beijing Chao Yang Hospital</td>\n",
       "    </tr>\n",
       "    <tr>\n",
       "      <th>9</th>\n",
       "      <td>NCT04349410</td>\n",
       "      <td>Methylprednisolone</td>\n",
       "      <td>-</td>\n",
       "      <td>Antibiotics, Tocilizumab, Remdesivir</td>\n",
       "      <td>Covid-19</td>\n",
       "      <td>II/III</td>\n",
       "      <td>2020-04-11</td>\n",
       "      <td>2020-10-11</td>\n",
       "      <td>The Camelot Foundation</td>\n",
       "    </tr>\n",
       "  </tbody>\n",
       "</table>\n",
       "</div>"
      ],
      "text/plain": [
       "         NCTId        Experimental Combination treatment  \\\n",
       "0  NCT04320615         Tocilizumab                     -   \n",
       "1  NCT04381936       Dexamethasone                     -   \n",
       "2  NCT04325061       Dexamethasone                     -   \n",
       "3  NCT04416399          Budesonide                     -   \n",
       "4  NCT04331054          Budesonide            Formoterol   \n",
       "5  NCT04451174          Prednisone                     -   \n",
       "6  NCT04263402  Methylprednisolone                     -   \n",
       "7  NCT04485429  Methylprednisolone              Heparine   \n",
       "8  NCT04273321  Methylprednisolone                     -   \n",
       "9  NCT04349410  Methylprednisolone                     -   \n",
       "\n",
       "                             Experimental or Control  \\\n",
       "0                                            Placebo   \n",
       "1  Antivirals, antibiotics, anti-inflammatory agents   \n",
       "2                            Standard intensive care   \n",
       "3                                      Standard care   \n",
       "4                                      Standard care   \n",
       "5                                      Standard care   \n",
       "6                     Methylprednisolone higher dose   \n",
       "7                                           Heparine   \n",
       "8                                                  -   \n",
       "9               Antibiotics, Tocilizumab, Remdesivir   \n",
       "\n",
       "                     Condition   Phase Actual Start Date  \\\n",
       "0           Covid-19 Pneumonia     III        2020-04-03   \n",
       "1         SARS-CoV-2 infection  II/III        2020-03-19   \n",
       "2      ARDS caused by covid-19      IV        2020-04-03   \n",
       "3     Early covid-19 Infection      II        2020-07-16   \n",
       "4           Covid-19 infection     III        2020-04-13   \n",
       "5  Moderate covid-19 Pneumonia     III        2020-06-23   \n",
       "6    Covid-19 severe pneumonia      IV        2020-02-01   \n",
       "7           Covid-19 pneumonia     III        2020-07-20   \n",
       "8           Covid-19 pneumonia       -        2020-02-14   \n",
       "9                     Covid-19  II/III        2020-04-11   \n",
       "\n",
       "  Primary Completion Date                                    Sponsor  \n",
       "0              2020-07-28                          Hoffmann-La Roche  \n",
       "1              2021-12-31                      University of Oxford   \n",
       "2              2020-10-30             Dr. Negrin University Hospital  \n",
       "3              2020-09-15                       University of Oxford  \n",
       "4              2020-07-13                          Hôpitaux de Paris  \n",
       "5              2020-09-30                        University of Chile  \n",
       "6              2020-06-01                            Tongji Hospital  \n",
       "7              2020-12-31  D'Or Institute for Research and Education  \n",
       "8              2020-04-15                 Beijing Chao Yang Hospital  \n",
       "9              2020-10-11                     The Camelot Foundation  "
      ]
     },
     "execution_count": 49,
     "metadata": {},
     "output_type": "execute_result"
    }
   ],
   "source": [
    "final_steroids_df"
   ]
  },
  {
   "cell_type": "code",
   "execution_count": 50,
   "metadata": {},
   "outputs": [
    {
     "data": {
      "application/vnd.plotly.v1+json": {
       "config": {
        "plotlyServerURL": "https://plot.ly"
       },
       "data": [
        {
         "alignmentgroup": "True",
         "base": [
          "2020-04-03T00:00:00"
         ],
         "hovertemplate": "Experimental=Tocilizumab<br>Actual Start Date=%{base}<br>Primary Completion Date=%{x}<br>Sponsor=%{y}<extra></extra>",
         "legendgroup": "Tocilizumab",
         "marker": {
          "color": "#636efa"
         },
         "name": "Tocilizumab",
         "offsetgroup": "Tocilizumab",
         "orientation": "h",
         "showlegend": true,
         "textposition": "auto",
         "type": "bar",
         "x": [
          10022400000
         ],
         "xaxis": "x",
         "y": [
          "Hoffmann-La Roche"
         ],
         "yaxis": "y"
        },
        {
         "alignmentgroup": "True",
         "base": [
          "2020-03-19T00:00:00",
          "2020-04-03T00:00:00"
         ],
         "hovertemplate": "Experimental=Dexamethasone<br>Actual Start Date=%{base}<br>Primary Completion Date=%{x}<br>Sponsor=%{y}<extra></extra>",
         "legendgroup": "Dexamethasone",
         "marker": {
          "color": "#EF553B"
         },
         "name": "Dexamethasone",
         "offsetgroup": "Dexamethasone",
         "orientation": "h",
         "showlegend": true,
         "textposition": "auto",
         "type": "bar",
         "x": [
          56332800000,
          18144000000
         ],
         "xaxis": "x",
         "y": [
          "University of Oxford ",
          "Dr. Negrin University Hospital"
         ],
         "yaxis": "y"
        },
        {
         "alignmentgroup": "True",
         "base": [
          "2020-07-16T00:00:00",
          "2020-04-13T00:00:00"
         ],
         "hovertemplate": "Experimental=Budesonide<br>Actual Start Date=%{base}<br>Primary Completion Date=%{x}<br>Sponsor=%{y}<extra></extra>",
         "legendgroup": "Budesonide",
         "marker": {
          "color": "#00cc96"
         },
         "name": "Budesonide",
         "offsetgroup": "Budesonide",
         "orientation": "h",
         "showlegend": true,
         "textposition": "auto",
         "type": "bar",
         "x": [
          5270400000,
          7862400000
         ],
         "xaxis": "x",
         "y": [
          "University of Oxford",
          "Hôpitaux de Paris"
         ],
         "yaxis": "y"
        },
        {
         "alignmentgroup": "True",
         "base": [
          "2020-06-23T00:00:00"
         ],
         "hovertemplate": "Experimental=Prednisone<br>Actual Start Date=%{base}<br>Primary Completion Date=%{x}<br>Sponsor=%{y}<extra></extra>",
         "legendgroup": "Prednisone",
         "marker": {
          "color": "#ab63fa"
         },
         "name": "Prednisone",
         "offsetgroup": "Prednisone",
         "orientation": "h",
         "showlegend": true,
         "textposition": "auto",
         "type": "bar",
         "x": [
          8553600000
         ],
         "xaxis": "x",
         "y": [
          "University of Chile"
         ],
         "yaxis": "y"
        },
        {
         "alignmentgroup": "True",
         "base": [
          "2020-02-01T00:00:00",
          "2020-07-20T00:00:00",
          "2020-02-14T00:00:00",
          "2020-04-11T00:00:00"
         ],
         "hovertemplate": "Experimental=Methylprednisolone<br>Actual Start Date=%{base}<br>Primary Completion Date=%{x}<br>Sponsor=%{y}<extra></extra>",
         "legendgroup": "Methylprednisolone",
         "marker": {
          "color": "#FFA15A"
         },
         "name": "Methylprednisolone",
         "offsetgroup": "Methylprednisolone",
         "orientation": "h",
         "showlegend": true,
         "textposition": "auto",
         "type": "bar",
         "x": [
          10454400000,
          14169600000,
          5270400000,
          15811200000
         ],
         "xaxis": "x",
         "y": [
          "Tongji Hospital",
          "D'Or Institute for Research and Education",
          "Beijing Chao Yang Hospital",
          "The Camelot Foundation"
         ],
         "yaxis": "y"
        }
       ],
       "layout": {
        "barmode": "overlay",
        "legend": {
         "title": {
          "text": "Experimental"
         },
         "tracegroupgap": 0
        },
        "margin": {
         "t": 60
        },
        "template": {
         "data": {
          "bar": [
           {
            "error_x": {
             "color": "#2a3f5f"
            },
            "error_y": {
             "color": "#2a3f5f"
            },
            "marker": {
             "line": {
              "color": "#E5ECF6",
              "width": 0.5
             }
            },
            "type": "bar"
           }
          ],
          "barpolar": [
           {
            "marker": {
             "line": {
              "color": "#E5ECF6",
              "width": 0.5
             }
            },
            "type": "barpolar"
           }
          ],
          "carpet": [
           {
            "aaxis": {
             "endlinecolor": "#2a3f5f",
             "gridcolor": "white",
             "linecolor": "white",
             "minorgridcolor": "white",
             "startlinecolor": "#2a3f5f"
            },
            "baxis": {
             "endlinecolor": "#2a3f5f",
             "gridcolor": "white",
             "linecolor": "white",
             "minorgridcolor": "white",
             "startlinecolor": "#2a3f5f"
            },
            "type": "carpet"
           }
          ],
          "choropleth": [
           {
            "colorbar": {
             "outlinewidth": 0,
             "ticks": ""
            },
            "type": "choropleth"
           }
          ],
          "contour": [
           {
            "colorbar": {
             "outlinewidth": 0,
             "ticks": ""
            },
            "colorscale": [
             [
              0,
              "#0d0887"
             ],
             [
              0.1111111111111111,
              "#46039f"
             ],
             [
              0.2222222222222222,
              "#7201a8"
             ],
             [
              0.3333333333333333,
              "#9c179e"
             ],
             [
              0.4444444444444444,
              "#bd3786"
             ],
             [
              0.5555555555555556,
              "#d8576b"
             ],
             [
              0.6666666666666666,
              "#ed7953"
             ],
             [
              0.7777777777777778,
              "#fb9f3a"
             ],
             [
              0.8888888888888888,
              "#fdca26"
             ],
             [
              1,
              "#f0f921"
             ]
            ],
            "type": "contour"
           }
          ],
          "contourcarpet": [
           {
            "colorbar": {
             "outlinewidth": 0,
             "ticks": ""
            },
            "type": "contourcarpet"
           }
          ],
          "heatmap": [
           {
            "colorbar": {
             "outlinewidth": 0,
             "ticks": ""
            },
            "colorscale": [
             [
              0,
              "#0d0887"
             ],
             [
              0.1111111111111111,
              "#46039f"
             ],
             [
              0.2222222222222222,
              "#7201a8"
             ],
             [
              0.3333333333333333,
              "#9c179e"
             ],
             [
              0.4444444444444444,
              "#bd3786"
             ],
             [
              0.5555555555555556,
              "#d8576b"
             ],
             [
              0.6666666666666666,
              "#ed7953"
             ],
             [
              0.7777777777777778,
              "#fb9f3a"
             ],
             [
              0.8888888888888888,
              "#fdca26"
             ],
             [
              1,
              "#f0f921"
             ]
            ],
            "type": "heatmap"
           }
          ],
          "heatmapgl": [
           {
            "colorbar": {
             "outlinewidth": 0,
             "ticks": ""
            },
            "colorscale": [
             [
              0,
              "#0d0887"
             ],
             [
              0.1111111111111111,
              "#46039f"
             ],
             [
              0.2222222222222222,
              "#7201a8"
             ],
             [
              0.3333333333333333,
              "#9c179e"
             ],
             [
              0.4444444444444444,
              "#bd3786"
             ],
             [
              0.5555555555555556,
              "#d8576b"
             ],
             [
              0.6666666666666666,
              "#ed7953"
             ],
             [
              0.7777777777777778,
              "#fb9f3a"
             ],
             [
              0.8888888888888888,
              "#fdca26"
             ],
             [
              1,
              "#f0f921"
             ]
            ],
            "type": "heatmapgl"
           }
          ],
          "histogram": [
           {
            "marker": {
             "colorbar": {
              "outlinewidth": 0,
              "ticks": ""
             }
            },
            "type": "histogram"
           }
          ],
          "histogram2d": [
           {
            "colorbar": {
             "outlinewidth": 0,
             "ticks": ""
            },
            "colorscale": [
             [
              0,
              "#0d0887"
             ],
             [
              0.1111111111111111,
              "#46039f"
             ],
             [
              0.2222222222222222,
              "#7201a8"
             ],
             [
              0.3333333333333333,
              "#9c179e"
             ],
             [
              0.4444444444444444,
              "#bd3786"
             ],
             [
              0.5555555555555556,
              "#d8576b"
             ],
             [
              0.6666666666666666,
              "#ed7953"
             ],
             [
              0.7777777777777778,
              "#fb9f3a"
             ],
             [
              0.8888888888888888,
              "#fdca26"
             ],
             [
              1,
              "#f0f921"
             ]
            ],
            "type": "histogram2d"
           }
          ],
          "histogram2dcontour": [
           {
            "colorbar": {
             "outlinewidth": 0,
             "ticks": ""
            },
            "colorscale": [
             [
              0,
              "#0d0887"
             ],
             [
              0.1111111111111111,
              "#46039f"
             ],
             [
              0.2222222222222222,
              "#7201a8"
             ],
             [
              0.3333333333333333,
              "#9c179e"
             ],
             [
              0.4444444444444444,
              "#bd3786"
             ],
             [
              0.5555555555555556,
              "#d8576b"
             ],
             [
              0.6666666666666666,
              "#ed7953"
             ],
             [
              0.7777777777777778,
              "#fb9f3a"
             ],
             [
              0.8888888888888888,
              "#fdca26"
             ],
             [
              1,
              "#f0f921"
             ]
            ],
            "type": "histogram2dcontour"
           }
          ],
          "mesh3d": [
           {
            "colorbar": {
             "outlinewidth": 0,
             "ticks": ""
            },
            "type": "mesh3d"
           }
          ],
          "parcoords": [
           {
            "line": {
             "colorbar": {
              "outlinewidth": 0,
              "ticks": ""
             }
            },
            "type": "parcoords"
           }
          ],
          "pie": [
           {
            "automargin": true,
            "type": "pie"
           }
          ],
          "scatter": [
           {
            "marker": {
             "colorbar": {
              "outlinewidth": 0,
              "ticks": ""
             }
            },
            "type": "scatter"
           }
          ],
          "scatter3d": [
           {
            "line": {
             "colorbar": {
              "outlinewidth": 0,
              "ticks": ""
             }
            },
            "marker": {
             "colorbar": {
              "outlinewidth": 0,
              "ticks": ""
             }
            },
            "type": "scatter3d"
           }
          ],
          "scattercarpet": [
           {
            "marker": {
             "colorbar": {
              "outlinewidth": 0,
              "ticks": ""
             }
            },
            "type": "scattercarpet"
           }
          ],
          "scattergeo": [
           {
            "marker": {
             "colorbar": {
              "outlinewidth": 0,
              "ticks": ""
             }
            },
            "type": "scattergeo"
           }
          ],
          "scattergl": [
           {
            "marker": {
             "colorbar": {
              "outlinewidth": 0,
              "ticks": ""
             }
            },
            "type": "scattergl"
           }
          ],
          "scattermapbox": [
           {
            "marker": {
             "colorbar": {
              "outlinewidth": 0,
              "ticks": ""
             }
            },
            "type": "scattermapbox"
           }
          ],
          "scatterpolar": [
           {
            "marker": {
             "colorbar": {
              "outlinewidth": 0,
              "ticks": ""
             }
            },
            "type": "scatterpolar"
           }
          ],
          "scatterpolargl": [
           {
            "marker": {
             "colorbar": {
              "outlinewidth": 0,
              "ticks": ""
             }
            },
            "type": "scatterpolargl"
           }
          ],
          "scatterternary": [
           {
            "marker": {
             "colorbar": {
              "outlinewidth": 0,
              "ticks": ""
             }
            },
            "type": "scatterternary"
           }
          ],
          "surface": [
           {
            "colorbar": {
             "outlinewidth": 0,
             "ticks": ""
            },
            "colorscale": [
             [
              0,
              "#0d0887"
             ],
             [
              0.1111111111111111,
              "#46039f"
             ],
             [
              0.2222222222222222,
              "#7201a8"
             ],
             [
              0.3333333333333333,
              "#9c179e"
             ],
             [
              0.4444444444444444,
              "#bd3786"
             ],
             [
              0.5555555555555556,
              "#d8576b"
             ],
             [
              0.6666666666666666,
              "#ed7953"
             ],
             [
              0.7777777777777778,
              "#fb9f3a"
             ],
             [
              0.8888888888888888,
              "#fdca26"
             ],
             [
              1,
              "#f0f921"
             ]
            ],
            "type": "surface"
           }
          ],
          "table": [
           {
            "cells": {
             "fill": {
              "color": "#EBF0F8"
             },
             "line": {
              "color": "white"
             }
            },
            "header": {
             "fill": {
              "color": "#C8D4E3"
             },
             "line": {
              "color": "white"
             }
            },
            "type": "table"
           }
          ]
         },
         "layout": {
          "annotationdefaults": {
           "arrowcolor": "#2a3f5f",
           "arrowhead": 0,
           "arrowwidth": 1
          },
          "coloraxis": {
           "colorbar": {
            "outlinewidth": 0,
            "ticks": ""
           }
          },
          "colorscale": {
           "diverging": [
            [
             0,
             "#8e0152"
            ],
            [
             0.1,
             "#c51b7d"
            ],
            [
             0.2,
             "#de77ae"
            ],
            [
             0.3,
             "#f1b6da"
            ],
            [
             0.4,
             "#fde0ef"
            ],
            [
             0.5,
             "#f7f7f7"
            ],
            [
             0.6,
             "#e6f5d0"
            ],
            [
             0.7,
             "#b8e186"
            ],
            [
             0.8,
             "#7fbc41"
            ],
            [
             0.9,
             "#4d9221"
            ],
            [
             1,
             "#276419"
            ]
           ],
           "sequential": [
            [
             0,
             "#0d0887"
            ],
            [
             0.1111111111111111,
             "#46039f"
            ],
            [
             0.2222222222222222,
             "#7201a8"
            ],
            [
             0.3333333333333333,
             "#9c179e"
            ],
            [
             0.4444444444444444,
             "#bd3786"
            ],
            [
             0.5555555555555556,
             "#d8576b"
            ],
            [
             0.6666666666666666,
             "#ed7953"
            ],
            [
             0.7777777777777778,
             "#fb9f3a"
            ],
            [
             0.8888888888888888,
             "#fdca26"
            ],
            [
             1,
             "#f0f921"
            ]
           ],
           "sequentialminus": [
            [
             0,
             "#0d0887"
            ],
            [
             0.1111111111111111,
             "#46039f"
            ],
            [
             0.2222222222222222,
             "#7201a8"
            ],
            [
             0.3333333333333333,
             "#9c179e"
            ],
            [
             0.4444444444444444,
             "#bd3786"
            ],
            [
             0.5555555555555556,
             "#d8576b"
            ],
            [
             0.6666666666666666,
             "#ed7953"
            ],
            [
             0.7777777777777778,
             "#fb9f3a"
            ],
            [
             0.8888888888888888,
             "#fdca26"
            ],
            [
             1,
             "#f0f921"
            ]
           ]
          },
          "colorway": [
           "#636efa",
           "#EF553B",
           "#00cc96",
           "#ab63fa",
           "#FFA15A",
           "#19d3f3",
           "#FF6692",
           "#B6E880",
           "#FF97FF",
           "#FECB52"
          ],
          "font": {
           "color": "#2a3f5f"
          },
          "geo": {
           "bgcolor": "white",
           "lakecolor": "white",
           "landcolor": "#E5ECF6",
           "showlakes": true,
           "showland": true,
           "subunitcolor": "white"
          },
          "hoverlabel": {
           "align": "left"
          },
          "hovermode": "closest",
          "mapbox": {
           "style": "light"
          },
          "paper_bgcolor": "white",
          "plot_bgcolor": "#E5ECF6",
          "polar": {
           "angularaxis": {
            "gridcolor": "white",
            "linecolor": "white",
            "ticks": ""
           },
           "bgcolor": "#E5ECF6",
           "radialaxis": {
            "gridcolor": "white",
            "linecolor": "white",
            "ticks": ""
           }
          },
          "scene": {
           "xaxis": {
            "backgroundcolor": "#E5ECF6",
            "gridcolor": "white",
            "gridwidth": 2,
            "linecolor": "white",
            "showbackground": true,
            "ticks": "",
            "zerolinecolor": "white"
           },
           "yaxis": {
            "backgroundcolor": "#E5ECF6",
            "gridcolor": "white",
            "gridwidth": 2,
            "linecolor": "white",
            "showbackground": true,
            "ticks": "",
            "zerolinecolor": "white"
           },
           "zaxis": {
            "backgroundcolor": "#E5ECF6",
            "gridcolor": "white",
            "gridwidth": 2,
            "linecolor": "white",
            "showbackground": true,
            "ticks": "",
            "zerolinecolor": "white"
           }
          },
          "shapedefaults": {
           "line": {
            "color": "#2a3f5f"
           }
          },
          "ternary": {
           "aaxis": {
            "gridcolor": "white",
            "linecolor": "white",
            "ticks": ""
           },
           "baxis": {
            "gridcolor": "white",
            "linecolor": "white",
            "ticks": ""
           },
           "bgcolor": "#E5ECF6",
           "caxis": {
            "gridcolor": "white",
            "linecolor": "white",
            "ticks": ""
           }
          },
          "title": {
           "x": 0.05
          },
          "xaxis": {
           "automargin": true,
           "gridcolor": "white",
           "linecolor": "white",
           "ticks": "",
           "title": {
            "standoff": 15
           },
           "zerolinecolor": "white",
           "zerolinewidth": 2
          },
          "yaxis": {
           "automargin": true,
           "gridcolor": "white",
           "linecolor": "white",
           "ticks": "",
           "title": {
            "standoff": 15
           },
           "zerolinecolor": "white",
           "zerolinewidth": 2
          }
         }
        },
        "xaxis": {
         "anchor": "y",
         "domain": [
          0,
          1
         ],
         "type": "date"
        },
        "yaxis": {
         "anchor": "x",
         "domain": [
          0,
          1
         ],
         "title": {
          "text": "Sponsor"
         }
        }
       }
      },
      "text/html": [
       "<div>\n",
       "        \n",
       "        \n",
       "            <div id=\"f4da672d-4ed9-4913-a2b2-354c65ee1f2e\" class=\"plotly-graph-div\" style=\"height:525px; width:100%;\"></div>\n",
       "            <script type=\"text/javascript\">\n",
       "                require([\"plotly\"], function(Plotly) {\n",
       "                    window.PLOTLYENV=window.PLOTLYENV || {};\n",
       "                    \n",
       "                if (document.getElementById(\"f4da672d-4ed9-4913-a2b2-354c65ee1f2e\")) {\n",
       "                    Plotly.newPlot(\n",
       "                        'f4da672d-4ed9-4913-a2b2-354c65ee1f2e',\n",
       "                        [{\"alignmentgroup\": \"True\", \"base\": [\"2020-04-03T00:00:00\"], \"hovertemplate\": \"Experimental=Tocilizumab<br>Actual Start Date=%{base}<br>Primary Completion Date=%{x}<br>Sponsor=%{y}<extra></extra>\", \"legendgroup\": \"Tocilizumab\", \"marker\": {\"color\": \"#636efa\"}, \"name\": \"Tocilizumab\", \"offsetgroup\": \"Tocilizumab\", \"orientation\": \"h\", \"showlegend\": true, \"textposition\": \"auto\", \"type\": \"bar\", \"x\": [10022400000.0], \"xaxis\": \"x\", \"y\": [\"Hoffmann-La Roche\"], \"yaxis\": \"y\"}, {\"alignmentgroup\": \"True\", \"base\": [\"2020-03-19T00:00:00\", \"2020-04-03T00:00:00\"], \"hovertemplate\": \"Experimental=Dexamethasone<br>Actual Start Date=%{base}<br>Primary Completion Date=%{x}<br>Sponsor=%{y}<extra></extra>\", \"legendgroup\": \"Dexamethasone\", \"marker\": {\"color\": \"#EF553B\"}, \"name\": \"Dexamethasone\", \"offsetgroup\": \"Dexamethasone\", \"orientation\": \"h\", \"showlegend\": true, \"textposition\": \"auto\", \"type\": \"bar\", \"x\": [56332800000.0, 18144000000.0], \"xaxis\": \"x\", \"y\": [\"University of Oxford \", \"Dr. Negrin University Hospital\"], \"yaxis\": \"y\"}, {\"alignmentgroup\": \"True\", \"base\": [\"2020-07-16T00:00:00\", \"2020-04-13T00:00:00\"], \"hovertemplate\": \"Experimental=Budesonide<br>Actual Start Date=%{base}<br>Primary Completion Date=%{x}<br>Sponsor=%{y}<extra></extra>\", \"legendgroup\": \"Budesonide\", \"marker\": {\"color\": \"#00cc96\"}, \"name\": \"Budesonide\", \"offsetgroup\": \"Budesonide\", \"orientation\": \"h\", \"showlegend\": true, \"textposition\": \"auto\", \"type\": \"bar\", \"x\": [5270400000.0, 7862400000.0], \"xaxis\": \"x\", \"y\": [\"University of Oxford\", \"H\\u00f4pitaux de Paris\"], \"yaxis\": \"y\"}, {\"alignmentgroup\": \"True\", \"base\": [\"2020-06-23T00:00:00\"], \"hovertemplate\": \"Experimental=Prednisone<br>Actual Start Date=%{base}<br>Primary Completion Date=%{x}<br>Sponsor=%{y}<extra></extra>\", \"legendgroup\": \"Prednisone\", \"marker\": {\"color\": \"#ab63fa\"}, \"name\": \"Prednisone\", \"offsetgroup\": \"Prednisone\", \"orientation\": \"h\", \"showlegend\": true, \"textposition\": \"auto\", \"type\": \"bar\", \"x\": [8553600000.0], \"xaxis\": \"x\", \"y\": [\"University of Chile\"], \"yaxis\": \"y\"}, {\"alignmentgroup\": \"True\", \"base\": [\"2020-02-01T00:00:00\", \"2020-07-20T00:00:00\", \"2020-02-14T00:00:00\", \"2020-04-11T00:00:00\"], \"hovertemplate\": \"Experimental=Methylprednisolone<br>Actual Start Date=%{base}<br>Primary Completion Date=%{x}<br>Sponsor=%{y}<extra></extra>\", \"legendgroup\": \"Methylprednisolone\", \"marker\": {\"color\": \"#FFA15A\"}, \"name\": \"Methylprednisolone\", \"offsetgroup\": \"Methylprednisolone\", \"orientation\": \"h\", \"showlegend\": true, \"textposition\": \"auto\", \"type\": \"bar\", \"x\": [10454400000.0, 14169600000.0, 5270400000.0, 15811200000.0], \"xaxis\": \"x\", \"y\": [\"Tongji Hospital\", \"D'Or Institute for Research and Education\", \"Beijing Chao Yang Hospital\", \"The Camelot Foundation\"], \"yaxis\": \"y\"}],\n",
       "                        {\"barmode\": \"overlay\", \"legend\": {\"title\": {\"text\": \"Experimental\"}, \"tracegroupgap\": 0}, \"margin\": {\"t\": 60}, \"template\": {\"data\": {\"bar\": [{\"error_x\": {\"color\": \"#2a3f5f\"}, \"error_y\": {\"color\": \"#2a3f5f\"}, \"marker\": {\"line\": {\"color\": \"#E5ECF6\", \"width\": 0.5}}, \"type\": \"bar\"}], \"barpolar\": [{\"marker\": {\"line\": {\"color\": \"#E5ECF6\", \"width\": 0.5}}, \"type\": \"barpolar\"}], \"carpet\": [{\"aaxis\": {\"endlinecolor\": \"#2a3f5f\", \"gridcolor\": \"white\", \"linecolor\": \"white\", \"minorgridcolor\": \"white\", \"startlinecolor\": \"#2a3f5f\"}, \"baxis\": {\"endlinecolor\": \"#2a3f5f\", \"gridcolor\": \"white\", \"linecolor\": \"white\", \"minorgridcolor\": \"white\", \"startlinecolor\": \"#2a3f5f\"}, \"type\": \"carpet\"}], \"choropleth\": [{\"colorbar\": {\"outlinewidth\": 0, \"ticks\": \"\"}, \"type\": \"choropleth\"}], \"contour\": [{\"colorbar\": {\"outlinewidth\": 0, \"ticks\": \"\"}, \"colorscale\": [[0.0, \"#0d0887\"], [0.1111111111111111, \"#46039f\"], [0.2222222222222222, \"#7201a8\"], [0.3333333333333333, \"#9c179e\"], [0.4444444444444444, \"#bd3786\"], [0.5555555555555556, \"#d8576b\"], [0.6666666666666666, \"#ed7953\"], [0.7777777777777778, \"#fb9f3a\"], [0.8888888888888888, \"#fdca26\"], [1.0, \"#f0f921\"]], \"type\": \"contour\"}], \"contourcarpet\": [{\"colorbar\": {\"outlinewidth\": 0, \"ticks\": \"\"}, \"type\": \"contourcarpet\"}], \"heatmap\": [{\"colorbar\": {\"outlinewidth\": 0, \"ticks\": \"\"}, \"colorscale\": [[0.0, \"#0d0887\"], [0.1111111111111111, \"#46039f\"], [0.2222222222222222, \"#7201a8\"], [0.3333333333333333, \"#9c179e\"], [0.4444444444444444, \"#bd3786\"], [0.5555555555555556, \"#d8576b\"], [0.6666666666666666, \"#ed7953\"], [0.7777777777777778, \"#fb9f3a\"], [0.8888888888888888, \"#fdca26\"], [1.0, \"#f0f921\"]], \"type\": \"heatmap\"}], \"heatmapgl\": [{\"colorbar\": {\"outlinewidth\": 0, \"ticks\": \"\"}, \"colorscale\": [[0.0, \"#0d0887\"], [0.1111111111111111, \"#46039f\"], [0.2222222222222222, \"#7201a8\"], [0.3333333333333333, \"#9c179e\"], [0.4444444444444444, \"#bd3786\"], [0.5555555555555556, \"#d8576b\"], [0.6666666666666666, \"#ed7953\"], [0.7777777777777778, \"#fb9f3a\"], [0.8888888888888888, \"#fdca26\"], [1.0, \"#f0f921\"]], \"type\": \"heatmapgl\"}], \"histogram\": [{\"marker\": {\"colorbar\": {\"outlinewidth\": 0, \"ticks\": \"\"}}, \"type\": \"histogram\"}], \"histogram2d\": [{\"colorbar\": {\"outlinewidth\": 0, \"ticks\": \"\"}, \"colorscale\": [[0.0, \"#0d0887\"], [0.1111111111111111, \"#46039f\"], [0.2222222222222222, \"#7201a8\"], [0.3333333333333333, \"#9c179e\"], [0.4444444444444444, \"#bd3786\"], [0.5555555555555556, \"#d8576b\"], [0.6666666666666666, \"#ed7953\"], [0.7777777777777778, \"#fb9f3a\"], [0.8888888888888888, \"#fdca26\"], [1.0, \"#f0f921\"]], \"type\": \"histogram2d\"}], \"histogram2dcontour\": [{\"colorbar\": {\"outlinewidth\": 0, \"ticks\": \"\"}, \"colorscale\": [[0.0, \"#0d0887\"], [0.1111111111111111, \"#46039f\"], [0.2222222222222222, \"#7201a8\"], [0.3333333333333333, \"#9c179e\"], [0.4444444444444444, \"#bd3786\"], [0.5555555555555556, \"#d8576b\"], [0.6666666666666666, \"#ed7953\"], [0.7777777777777778, \"#fb9f3a\"], [0.8888888888888888, \"#fdca26\"], [1.0, \"#f0f921\"]], \"type\": \"histogram2dcontour\"}], \"mesh3d\": [{\"colorbar\": {\"outlinewidth\": 0, \"ticks\": \"\"}, \"type\": \"mesh3d\"}], \"parcoords\": [{\"line\": {\"colorbar\": {\"outlinewidth\": 0, \"ticks\": \"\"}}, \"type\": \"parcoords\"}], \"pie\": [{\"automargin\": true, \"type\": \"pie\"}], \"scatter\": [{\"marker\": {\"colorbar\": {\"outlinewidth\": 0, \"ticks\": \"\"}}, \"type\": \"scatter\"}], \"scatter3d\": [{\"line\": {\"colorbar\": {\"outlinewidth\": 0, \"ticks\": \"\"}}, \"marker\": {\"colorbar\": {\"outlinewidth\": 0, \"ticks\": \"\"}}, \"type\": \"scatter3d\"}], \"scattercarpet\": [{\"marker\": {\"colorbar\": {\"outlinewidth\": 0, \"ticks\": \"\"}}, \"type\": \"scattercarpet\"}], \"scattergeo\": [{\"marker\": {\"colorbar\": {\"outlinewidth\": 0, \"ticks\": \"\"}}, \"type\": \"scattergeo\"}], \"scattergl\": [{\"marker\": {\"colorbar\": {\"outlinewidth\": 0, \"ticks\": \"\"}}, \"type\": \"scattergl\"}], \"scattermapbox\": [{\"marker\": {\"colorbar\": {\"outlinewidth\": 0, \"ticks\": \"\"}}, \"type\": \"scattermapbox\"}], \"scatterpolar\": [{\"marker\": {\"colorbar\": {\"outlinewidth\": 0, \"ticks\": \"\"}}, \"type\": \"scatterpolar\"}], \"scatterpolargl\": [{\"marker\": {\"colorbar\": {\"outlinewidth\": 0, \"ticks\": \"\"}}, \"type\": \"scatterpolargl\"}], \"scatterternary\": [{\"marker\": {\"colorbar\": {\"outlinewidth\": 0, \"ticks\": \"\"}}, \"type\": \"scatterternary\"}], \"surface\": [{\"colorbar\": {\"outlinewidth\": 0, \"ticks\": \"\"}, \"colorscale\": [[0.0, \"#0d0887\"], [0.1111111111111111, \"#46039f\"], [0.2222222222222222, \"#7201a8\"], [0.3333333333333333, \"#9c179e\"], [0.4444444444444444, \"#bd3786\"], [0.5555555555555556, \"#d8576b\"], [0.6666666666666666, \"#ed7953\"], [0.7777777777777778, \"#fb9f3a\"], [0.8888888888888888, \"#fdca26\"], [1.0, \"#f0f921\"]], \"type\": \"surface\"}], \"table\": [{\"cells\": {\"fill\": {\"color\": \"#EBF0F8\"}, \"line\": {\"color\": \"white\"}}, \"header\": {\"fill\": {\"color\": \"#C8D4E3\"}, \"line\": {\"color\": \"white\"}}, \"type\": \"table\"}]}, \"layout\": {\"annotationdefaults\": {\"arrowcolor\": \"#2a3f5f\", \"arrowhead\": 0, \"arrowwidth\": 1}, \"coloraxis\": {\"colorbar\": {\"outlinewidth\": 0, \"ticks\": \"\"}}, \"colorscale\": {\"diverging\": [[0, \"#8e0152\"], [0.1, \"#c51b7d\"], [0.2, \"#de77ae\"], [0.3, \"#f1b6da\"], [0.4, \"#fde0ef\"], [0.5, \"#f7f7f7\"], [0.6, \"#e6f5d0\"], [0.7, \"#b8e186\"], [0.8, \"#7fbc41\"], [0.9, \"#4d9221\"], [1, \"#276419\"]], \"sequential\": [[0.0, \"#0d0887\"], [0.1111111111111111, \"#46039f\"], [0.2222222222222222, \"#7201a8\"], [0.3333333333333333, \"#9c179e\"], [0.4444444444444444, \"#bd3786\"], [0.5555555555555556, \"#d8576b\"], [0.6666666666666666, \"#ed7953\"], [0.7777777777777778, \"#fb9f3a\"], [0.8888888888888888, \"#fdca26\"], [1.0, \"#f0f921\"]], \"sequentialminus\": [[0.0, \"#0d0887\"], [0.1111111111111111, \"#46039f\"], [0.2222222222222222, \"#7201a8\"], [0.3333333333333333, \"#9c179e\"], [0.4444444444444444, \"#bd3786\"], [0.5555555555555556, \"#d8576b\"], [0.6666666666666666, \"#ed7953\"], [0.7777777777777778, \"#fb9f3a\"], [0.8888888888888888, \"#fdca26\"], [1.0, \"#f0f921\"]]}, \"colorway\": [\"#636efa\", \"#EF553B\", \"#00cc96\", \"#ab63fa\", \"#FFA15A\", \"#19d3f3\", \"#FF6692\", \"#B6E880\", \"#FF97FF\", \"#FECB52\"], \"font\": {\"color\": \"#2a3f5f\"}, \"geo\": {\"bgcolor\": \"white\", \"lakecolor\": \"white\", \"landcolor\": \"#E5ECF6\", \"showlakes\": true, \"showland\": true, \"subunitcolor\": \"white\"}, \"hoverlabel\": {\"align\": \"left\"}, \"hovermode\": \"closest\", \"mapbox\": {\"style\": \"light\"}, \"paper_bgcolor\": \"white\", \"plot_bgcolor\": \"#E5ECF6\", \"polar\": {\"angularaxis\": {\"gridcolor\": \"white\", \"linecolor\": \"white\", \"ticks\": \"\"}, \"bgcolor\": \"#E5ECF6\", \"radialaxis\": {\"gridcolor\": \"white\", \"linecolor\": \"white\", \"ticks\": \"\"}}, \"scene\": {\"xaxis\": {\"backgroundcolor\": \"#E5ECF6\", \"gridcolor\": \"white\", \"gridwidth\": 2, \"linecolor\": \"white\", \"showbackground\": true, \"ticks\": \"\", \"zerolinecolor\": \"white\"}, \"yaxis\": {\"backgroundcolor\": \"#E5ECF6\", \"gridcolor\": \"white\", \"gridwidth\": 2, \"linecolor\": \"white\", \"showbackground\": true, \"ticks\": \"\", \"zerolinecolor\": \"white\"}, \"zaxis\": {\"backgroundcolor\": \"#E5ECF6\", \"gridcolor\": \"white\", \"gridwidth\": 2, \"linecolor\": \"white\", \"showbackground\": true, \"ticks\": \"\", \"zerolinecolor\": \"white\"}}, \"shapedefaults\": {\"line\": {\"color\": \"#2a3f5f\"}}, \"ternary\": {\"aaxis\": {\"gridcolor\": \"white\", \"linecolor\": \"white\", \"ticks\": \"\"}, \"baxis\": {\"gridcolor\": \"white\", \"linecolor\": \"white\", \"ticks\": \"\"}, \"bgcolor\": \"#E5ECF6\", \"caxis\": {\"gridcolor\": \"white\", \"linecolor\": \"white\", \"ticks\": \"\"}}, \"title\": {\"x\": 0.05}, \"xaxis\": {\"automargin\": true, \"gridcolor\": \"white\", \"linecolor\": \"white\", \"ticks\": \"\", \"title\": {\"standoff\": 15}, \"zerolinecolor\": \"white\", \"zerolinewidth\": 2}, \"yaxis\": {\"automargin\": true, \"gridcolor\": \"white\", \"linecolor\": \"white\", \"ticks\": \"\", \"title\": {\"standoff\": 15}, \"zerolinecolor\": \"white\", \"zerolinewidth\": 2}}}, \"xaxis\": {\"anchor\": \"y\", \"domain\": [0.0, 1.0], \"type\": \"date\"}, \"yaxis\": {\"anchor\": \"x\", \"domain\": [0.0, 1.0], \"title\": {\"text\": \"Sponsor\"}}},\n",
       "                        {\"responsive\": true}\n",
       "                    ).then(function(){\n",
       "                            \n",
       "var gd = document.getElementById('f4da672d-4ed9-4913-a2b2-354c65ee1f2e');\n",
       "var x = new MutationObserver(function (mutations, observer) {{\n",
       "        var display = window.getComputedStyle(gd).display;\n",
       "        if (!display || display === 'none') {{\n",
       "            console.log([gd, 'removed!']);\n",
       "            Plotly.purge(gd);\n",
       "            observer.disconnect();\n",
       "        }}\n",
       "}});\n",
       "\n",
       "// Listen for the removal of the full notebook cells\n",
       "var notebookContainer = gd.closest('#notebook-container');\n",
       "if (notebookContainer) {{\n",
       "    x.observe(notebookContainer, {childList: true});\n",
       "}}\n",
       "\n",
       "// Listen for the clearing of the current output cell\n",
       "var outputEl = gd.closest('.output');\n",
       "if (outputEl) {{\n",
       "    x.observe(outputEl, {childList: true});\n",
       "}}\n",
       "\n",
       "                        })\n",
       "                };\n",
       "                });\n",
       "            </script>\n",
       "        </div>"
      ]
     },
     "metadata": {},
     "output_type": "display_data"
    }
   ],
   "source": [
    "fig = px.timeline(final_steroids_df, x_start=\"Actual Start Date\", x_end=\"Primary Completion Date\", y=\"Sponsor\", color=\"Experimental\")\n",
    "#fig.update_yaxes(autorange=\"reversed\") # otherwise tasks are listed from the bottom up\n",
    "fig.show()"
   ]
  },
  {
   "cell_type": "code",
   "execution_count": null,
   "metadata": {},
   "outputs": [],
   "source": []
  },
  {
   "cell_type": "code",
   "execution_count": null,
   "metadata": {},
   "outputs": [],
   "source": []
  }
 ],
 "metadata": {
  "kernelspec": {
   "display_name": "Python 3",
   "language": "python",
   "name": "python3"
  },
  "language_info": {
   "codemirror_mode": {
    "name": "ipython",
    "version": 3
   },
   "file_extension": ".py",
   "mimetype": "text/x-python",
   "name": "python",
   "nbconvert_exporter": "python",
   "pygments_lexer": "ipython3",
   "version": "3.7.3"
  }
 },
 "nbformat": 4,
 "nbformat_minor": 2
}
